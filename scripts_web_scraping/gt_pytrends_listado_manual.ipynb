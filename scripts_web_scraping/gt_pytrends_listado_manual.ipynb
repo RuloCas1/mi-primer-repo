{
 "cells": [
  {
   "cell_type": "code",
   "metadata": {
    "cell_id": "ddd0b08b-000a-4c5a-859e-ecfe20cc0816",
    "deepnote_cell_type": "code",
    "deepnote_cell_height": 456.625
   },
   "source": "pip install pytrends",
   "outputs": [
    {
     "name": "stdout",
     "output_type": "stream",
     "text": "Collecting pytrends\n  Downloading pytrends-4.7.3-py3-none-any.whl (14 kB)\nRequirement already satisfied: lxml in /Users/raul.castillo/opt/anaconda3/lib/python3.8/site-packages (from pytrends) (4.6.3)\nRequirement already satisfied: pandas>=0.25 in /Users/raul.castillo/opt/anaconda3/lib/python3.8/site-packages (from pytrends) (1.2.4)\nRequirement already satisfied: requests in /Users/raul.castillo/opt/anaconda3/lib/python3.8/site-packages (from pytrends) (2.25.1)\nRequirement already satisfied: python-dateutil>=2.7.3 in /Users/raul.castillo/opt/anaconda3/lib/python3.8/site-packages (from pandas>=0.25->pytrends) (2.8.1)\nRequirement already satisfied: pytz>=2017.3 in /Users/raul.castillo/opt/anaconda3/lib/python3.8/site-packages (from pandas>=0.25->pytrends) (2021.1)\nRequirement already satisfied: numpy>=1.16.5 in /Users/raul.castillo/opt/anaconda3/lib/python3.8/site-packages (from pandas>=0.25->pytrends) (1.20.1)\nRequirement already satisfied: six>=1.5 in /Users/raul.castillo/opt/anaconda3/lib/python3.8/site-packages (from python-dateutil>=2.7.3->pandas>=0.25->pytrends) (1.15.0)\nRequirement already satisfied: idna<3,>=2.5 in /Users/raul.castillo/opt/anaconda3/lib/python3.8/site-packages (from requests->pytrends) (2.10)\nRequirement already satisfied: certifi>=2017.4.17 in /Users/raul.castillo/opt/anaconda3/lib/python3.8/site-packages (from requests->pytrends) (2020.12.5)\nRequirement already satisfied: chardet<5,>=3.0.2 in /Users/raul.castillo/opt/anaconda3/lib/python3.8/site-packages (from requests->pytrends) (4.0.0)\nRequirement already satisfied: urllib3<1.27,>=1.21.1 in /Users/raul.castillo/opt/anaconda3/lib/python3.8/site-packages (from requests->pytrends) (1.26.4)\nInstalling collected packages: pytrends\nSuccessfully installed pytrends-4.7.3\nNote: you may need to restart the kernel to use updated packages.\n"
    }
   ],
   "execution_count": null
  },
  {
   "cell_type": "code",
   "metadata": {
    "cell_id": "00001-d7a0d2a0-3337-49ea-97e2-816d65129e58",
    "deepnote_cell_type": "code",
    "deepnote_cell_height": 3352.34375
   },
   "source": "from pytrends.request import TrendReq\nimport pandas as pd\nimport re\nimport os\nfrom pandas.io.json import json_normalize\nfrom datetime import date,datetime,timedelta\nimport time\ndef categoria(cats):\n    switcher={\n        '7':'Finance',    \n        '18':'Shopping',\n        '37': 'Banking',\n        '279': 'Credit & Lending',\n        '468': 'Auto Financing',\n        '811': 'Credit Cards',\n        '38': 'Insurance',\n        '107': 'Investing',\n        '44':'Beauty & Fitness',\n        '8':'Games',\n        '45':'Health',\n        '65':'Hobbies & Leisure',\n        '299':'Online Communities',\n        '14':'People & Society',\n        '20':'Sports',\n        '0': 'Global',\n        '35': 'Music & Audio',\n        '71': 'Food & Drink',\n        '560' :'Non-Alcoholic Beverages',\n        '442': 'Ecology & Environment',\n        '1307': 'Recycling',\n        '1349': 'Water Supply & Treatment',\n        '3': 'Arts & Entertainment',\n        '34': 'Movies',\n        '36': 'TV & Video',\n        '185': 'Fashion & Style',\n        '22': 'Books & Literature',\n        '799': 'Business Education',\n        '5': 'Computers & Electronics',\n        '899': 'Game Systems & Consoles',\n        '1290': 'Family-Oriented Games & Activities',\n        '105': 'Online Games',\n        '195': 'Reproductive Health',\n        '257': 'Substance Abuse',\n        '66': 'Pets & Animals',\n        '977': 'Special Occasions',\n        '11': 'Home & Garden',\n        '1131': 'Family & Relationships',\n        '154': 'Kids & Teens',\n        '70': 'Gifts & Special Event Items',\n        '67': 'Travel'\n        }\n    return switcher.get(cats,\"Categoria Invalida\")\ninterese = pd.DataFrame(columns=('dates','keyword','interes', 'hour','dateq'))\nregions = pd.DataFrame(columns=('dates','keyword','interes', 'hour','location'))\nbig_trend_brand = pd.DataFrame(columns=('query','interes','keyword','nquery','hour'))\n\npytrend = TrendReq(timeout=(45),retries=2)\nnow = datetime.now()- timedelta(hours=5)\nhour = now.strftime('%H:%M')\nday = now.strftime('%Y-%m-%d')\nproyecto = 'HSBC - Día del Padre' # El nombre del proyecto se debe ir cambiando y representa la marca para la que se trabaja.\n#periodos = ['2017-01-01 2017-12-31','2018-01-01 2018-12-31','2019-01-01 2019-12-31','2020-01-01 2020-12-31','2021-01-01 2021-12-31']\n#periodos = ['2021-04-01 2021-04-30','2021-05-01 2021-05-31','2021-11-01 2021-11-30', '2022-01-01 2022-02-15']\nperiodos = ['2019-06-01 2019-06-30', '2020-06-01 2020-06-30', '2021-06-01 2021-06-30', '2022-01-01 2022-04-30']\n# El periodo se visualiza por AÑO / MES / DIA, de punto \"A\" a punto \"B\".\n\n#Búsquedas desde una lista en un archivo csv. se carga de la siguiente forma:\n\n#dfnombres=pd.read_csv('Prod HS.csv')\n#dfnombres['Producto']=dfnombres['Producto']. apply(lambda x : x.strip())\n#dfnombres['Producto']=dfnombres['Producto']. apply(lambda x : x.split(' ')[0])\n#solonombres=dfnombres.drop_duplicates(subset=['Producto'])\n#categorias = ['0'] #COVID\n#groups = [solonombres['Producto'][i:i + 5] for i in range(0, len(solonombres), 5)] #Para correr de 5 en 5\n#groups = [solonombres['Producto'][i:i] for i in range(0, len(solonombres), 1)] #Para correr de 1 en 1\n\n\n#Búsquedas desde una lista personalizada:\n\n#ListaKeywords  = ['Play Doh','Fud','Leche Entera','Zwan','Santa Clara', 'Deslactosada', 'Alpura', 'Lala', 'Leche', 'Jamón', 'Leche Lala', 'Lala 100', 'Alpura 100']\nListaKeywords  = ['dia del padre','dia del papa', 'mi papa', 'ser padre']\ncategorias = ['0'] #COVID\ngroups = [ListaKeywords[i:i + 5] for i in range(0, len(ListaKeywords), 5)]\n\nfor kw_list in groups:\n    for period in periodos:\n        pytrend.build_payload(kw_list = kw_list, timeframe = period,geo='MX')\n        #pytrend.build_payload(kw_list = kw_list, timeframe = period,geo='US')\n        interest_over_time_df = pytrend.interest_over_time()\n        interes = pd.DataFrame(columns=('dates','keyword','interes', 'hour','dateq','marca'))\n        for kw in kw_list:\n            interes.dates = interest_over_time_df.index\n            interes.keyword = kw\n            interes.interes = interest_over_time_df[kw].values\n            interes.hour = hour\n            interes.dateq = day\n            interes.marca = proyecto\n            interese = pd.concat([interese,interes], axis=0, ignore_index=True)\n        interest_by_region_df = pytrend.interest_by_region(inc_low_vol=True, inc_geo_code=False)\n\n        #\n        state = pd.DataFrame(columns=('dates','keyword','interes', 'hour','location','marca'))\n        for kw in kw_list:\n            state.interes = interest_by_region_df[kw].values\n            state.location = interest_by_region_df.index\n            state.hour = hour\n            state.dates = day\n            state.keyword = kw\n            state.marca = proyecto\n            regions = pd.concat([regions,state], axis=0, ignore_index=True)\n        #\n        for cats in categorias:\n            #REALIZA LA CONSULTA A GOOGLE TRENDS CON LOS PARAMETROS ESTABLECIDOS\n            pytrend.build_payload(kw_list,geo = 'MX', timeframe = period, cat = cats)\n            #pytrend.build_payload(kw_list,geo = 'US', timeframe = period, cat = cats)\n            trends= pytrend.related_queries()\n            #DEVUELVE UN JSON {\"KEYWORD\":{\"TOP:QUERY,VALUE\" , \"RISIGN:QUERY,VALUE\"}}\n            data1 = pd.DataFrame(columns=('query','value','keyword'))\n            data2 = pd.DataFrame(columns=('query','value','keyword'))\n\n            for kw in kw_list:  \n                datat = pd.DataFrame(trends[kw]['top'])\n                datar = pd.DataFrame(trends[kw]['rising'])\n                if datat.empty is False or datar.empty is False: \n                    datat['keyword'] = kw\n                    datar['keyword'] = kw\n                    data1 = pd.concat([data1,datat], axis=0, ignore_index=True, sort=False)\n                    data2 = pd.concat([data2,datar], axis=0, ignore_index=True, sort=False)\n\n            data1 = data1.rename(columns={'value':'interes'})\n            data2 = data2.rename(columns={'value':'nquery'})\n\n            trend_brand = pd.merge(data1, data2, how='outer', on='query')\n            trend_brand.keyword_x.fillna(trend_brand.keyword_y,  inplace=True)\n            trend_brand = trend_brand.rename(columns={'keyword_x':'keyword'})\n            trend_brand = trend_brand.fillna(0)\n            trend_brand = trend_brand.drop(['keyword_y'], axis=1)\n\n            trend_brand['hour'] = hour\n            trend_brand['dates'] = day\n            trend_brand['periodo'] = period\n            trend_brand['categoria'] = categoria(cats)\n            trend_brand['marca'] = proyecto\n            namef = 'GT_KW'+categoria(cats)+period+'.csv'\n            big_trend_brand = big_trend_brand.append(trend_brand, ignore_index = True)\n            ###importacion CSV\n            #export_csv = trend_brand.to_csv (namef, index = None, header=True , encoding='UTF-8')\n            print(categoria(cats),kw_list)\n            print(period)\n            print(hour)\n\n                ###importacion a ADW\n                #ntable = \"STG_BS_GT_BRANDS\"\n                #data = trend_brand.astype(str)\n                #colus = ', '.join([':'+str(x+1) for x in range(len(data.columns.tolist()))])\n                #sql='insert into '+ntable+' values('+colus+')'\n                #print(sql)\n\n                #df_list = data.values.tolist()\n                #n = 0\n                #for i in data.iterrows():\n                #    cursor.execute(sql,df_list[n])\n                #    connection.commit()\n                #    n += 1\n\n            time.sleep(10)\n\n    #big_trend_brand  \n    #export_csv = trend_brand.to_csv (namef, index = None, header=True , encoding='UTF-8')",
   "outputs": [
    {
     "name": "stdout",
     "output_type": "stream",
     "text": "Global ['dia del padre', 'dia del papa', 'mi papa', 'ser padre']\n2019-06-01 2019-06-30\n08:20\nGlobal ['dia del padre', 'dia del papa', 'mi papa', 'ser padre']\n2020-06-01 2020-06-30\n08:20\nGlobal ['dia del padre', 'dia del papa', 'mi papa', 'ser padre']\n2021-06-01 2021-06-30\n08:20\nGlobal ['dia del padre', 'dia del papa', 'mi papa', 'ser padre']\n2022-01-01 2022-04-30\n08:20\n"
    }
   ],
   "execution_count": null
  },
  {
   "cell_type": "code",
   "metadata": {
    "cell_id": "00002-b14509da-383f-4615-a4ab-c24808c92fef",
    "deepnote_cell_type": "code",
    "deepnote_cell_height": 479.1875,
    "deepnote_output_heights": [
     382.1875
    ]
   },
   "source": "interese",
   "outputs": [
    {
     "data": {
      "text/html": "<div>\n<style scoped>\n    .dataframe tbody tr th:only-of-type {\n        vertical-align: middle;\n    }\n\n    .dataframe tbody tr th {\n        vertical-align: top;\n    }\n\n    .dataframe thead th {\n        text-align: right;\n    }\n</style>\n<table border=\"1\" class=\"dataframe\">\n  <thead>\n    <tr style=\"text-align: right;\">\n      <th></th>\n      <th>dates</th>\n      <th>keyword</th>\n      <th>interes</th>\n      <th>hour</th>\n      <th>dateq</th>\n      <th>marca</th>\n    </tr>\n  </thead>\n  <tbody>\n    <tr>\n      <th>0</th>\n      <td>2019-06-01</td>\n      <td>dia del padre</td>\n      <td>4</td>\n      <td>13:48</td>\n      <td>2022-05-02</td>\n      <td>HSBC - Día del Padre</td>\n    </tr>\n    <tr>\n      <th>1</th>\n      <td>2019-06-02</td>\n      <td>dia del padre</td>\n      <td>5</td>\n      <td>13:48</td>\n      <td>2022-05-02</td>\n      <td>HSBC - Día del Padre</td>\n    </tr>\n    <tr>\n      <th>2</th>\n      <td>2019-06-03</td>\n      <td>dia del padre</td>\n      <td>5</td>\n      <td>13:48</td>\n      <td>2022-05-02</td>\n      <td>HSBC - Día del Padre</td>\n    </tr>\n    <tr>\n      <th>3</th>\n      <td>2019-06-04</td>\n      <td>dia del padre</td>\n      <td>5</td>\n      <td>13:48</td>\n      <td>2022-05-02</td>\n      <td>HSBC - Día del Padre</td>\n    </tr>\n    <tr>\n      <th>4</th>\n      <td>2019-06-05</td>\n      <td>dia del padre</td>\n      <td>5</td>\n      <td>13:48</td>\n      <td>2022-05-02</td>\n      <td>HSBC - Día del Padre</td>\n    </tr>\n    <tr>\n      <th>...</th>\n      <td>...</td>\n      <td>...</td>\n      <td>...</td>\n      <td>...</td>\n      <td>...</td>\n      <td>...</td>\n    </tr>\n    <tr>\n      <th>835</th>\n      <td>2022-04-26</td>\n      <td>ser padre</td>\n      <td>2</td>\n      <td>13:48</td>\n      <td>2022-05-02</td>\n      <td>HSBC - Día del Padre</td>\n    </tr>\n    <tr>\n      <th>836</th>\n      <td>2022-04-27</td>\n      <td>ser padre</td>\n      <td>2</td>\n      <td>13:48</td>\n      <td>2022-05-02</td>\n      <td>HSBC - Día del Padre</td>\n    </tr>\n    <tr>\n      <th>837</th>\n      <td>2022-04-28</td>\n      <td>ser padre</td>\n      <td>1</td>\n      <td>13:48</td>\n      <td>2022-05-02</td>\n      <td>HSBC - Día del Padre</td>\n    </tr>\n    <tr>\n      <th>838</th>\n      <td>2022-04-29</td>\n      <td>ser padre</td>\n      <td>1</td>\n      <td>13:48</td>\n      <td>2022-05-02</td>\n      <td>HSBC - Día del Padre</td>\n    </tr>\n    <tr>\n      <th>839</th>\n      <td>2022-04-30</td>\n      <td>ser padre</td>\n      <td>0</td>\n      <td>13:48</td>\n      <td>2022-05-02</td>\n      <td>HSBC - Día del Padre</td>\n    </tr>\n  </tbody>\n</table>\n<p>840 rows × 6 columns</p>\n</div>",
      "text/plain": "         dates        keyword interes   hour       dateq                 marca\n0   2019-06-01  dia del padre       4  13:48  2022-05-02  HSBC - Día del Padre\n1   2019-06-02  dia del padre       5  13:48  2022-05-02  HSBC - Día del Padre\n2   2019-06-03  dia del padre       5  13:48  2022-05-02  HSBC - Día del Padre\n3   2019-06-04  dia del padre       5  13:48  2022-05-02  HSBC - Día del Padre\n4   2019-06-05  dia del padre       5  13:48  2022-05-02  HSBC - Día del Padre\n..         ...            ...     ...    ...         ...                   ...\n835 2022-04-26      ser padre       2  13:48  2022-05-02  HSBC - Día del Padre\n836 2022-04-27      ser padre       2  13:48  2022-05-02  HSBC - Día del Padre\n837 2022-04-28      ser padre       1  13:48  2022-05-02  HSBC - Día del Padre\n838 2022-04-29      ser padre       1  13:48  2022-05-02  HSBC - Día del Padre\n839 2022-04-30      ser padre       0  13:48  2022-05-02  HSBC - Día del Padre\n\n[840 rows x 6 columns]"
     },
     "execution_count": 8,
     "metadata": {},
     "output_type": "execute_result"
    }
   ],
   "execution_count": null
  },
  {
   "cell_type": "code",
   "metadata": {
    "cell_id": "00003-5e085374-15fe-4aa8-8e21-2f69051b67ad",
    "deepnote_cell_type": "code",
    "deepnote_cell_height": 479.1875,
    "deepnote_output_heights": [
     382.1875
    ]
   },
   "source": "regions",
   "outputs": [
    {
     "data": {
      "text/html": "<div>\n<style scoped>\n    .dataframe tbody tr th:only-of-type {\n        vertical-align: middle;\n    }\n\n    .dataframe tbody tr th {\n        vertical-align: top;\n    }\n\n    .dataframe thead th {\n        text-align: right;\n    }\n</style>\n<table border=\"1\" class=\"dataframe\">\n  <thead>\n    <tr style=\"text-align: right;\">\n      <th></th>\n      <th>dates</th>\n      <th>keyword</th>\n      <th>interes</th>\n      <th>hour</th>\n      <th>location</th>\n      <th>marca</th>\n    </tr>\n  </thead>\n  <tbody>\n    <tr>\n      <th>0</th>\n      <td>2022-05-02</td>\n      <td>dia del padre</td>\n      <td>85</td>\n      <td>13:48</td>\n      <td>Aguascalientes</td>\n      <td>HSBC - Día del Padre</td>\n    </tr>\n    <tr>\n      <th>1</th>\n      <td>2022-05-02</td>\n      <td>dia del padre</td>\n      <td>88</td>\n      <td>13:48</td>\n      <td>Baja California</td>\n      <td>HSBC - Día del Padre</td>\n    </tr>\n    <tr>\n      <th>2</th>\n      <td>2022-05-02</td>\n      <td>dia del padre</td>\n      <td>91</td>\n      <td>13:48</td>\n      <td>Baja California Sur</td>\n      <td>HSBC - Día del Padre</td>\n    </tr>\n    <tr>\n      <th>3</th>\n      <td>2022-05-02</td>\n      <td>dia del padre</td>\n      <td>93</td>\n      <td>13:48</td>\n      <td>Campeche</td>\n      <td>HSBC - Día del Padre</td>\n    </tr>\n    <tr>\n      <th>4</th>\n      <td>2022-05-02</td>\n      <td>dia del padre</td>\n      <td>88</td>\n      <td>13:48</td>\n      <td>Chiapas</td>\n      <td>HSBC - Día del Padre</td>\n    </tr>\n    <tr>\n      <th>...</th>\n      <td>...</td>\n      <td>...</td>\n      <td>...</td>\n      <td>...</td>\n      <td>...</td>\n      <td>...</td>\n    </tr>\n    <tr>\n      <th>507</th>\n      <td>2022-05-02</td>\n      <td>ser padre</td>\n      <td>7</td>\n      <td>13:48</td>\n      <td>Tamaulipas</td>\n      <td>HSBC - Día del Padre</td>\n    </tr>\n    <tr>\n      <th>508</th>\n      <td>2022-05-02</td>\n      <td>ser padre</td>\n      <td>10</td>\n      <td>13:48</td>\n      <td>Tlaxcala</td>\n      <td>HSBC - Día del Padre</td>\n    </tr>\n    <tr>\n      <th>509</th>\n      <td>2022-05-02</td>\n      <td>ser padre</td>\n      <td>7</td>\n      <td>13:48</td>\n      <td>Veracruz</td>\n      <td>HSBC - Día del Padre</td>\n    </tr>\n    <tr>\n      <th>510</th>\n      <td>2022-05-02</td>\n      <td>ser padre</td>\n      <td>9</td>\n      <td>13:48</td>\n      <td>Yucatan</td>\n      <td>HSBC - Día del Padre</td>\n    </tr>\n    <tr>\n      <th>511</th>\n      <td>2022-05-02</td>\n      <td>ser padre</td>\n      <td>5</td>\n      <td>13:48</td>\n      <td>Zacatecas</td>\n      <td>HSBC - Día del Padre</td>\n    </tr>\n  </tbody>\n</table>\n<p>512 rows × 6 columns</p>\n</div>",
      "text/plain": "          dates        keyword interes   hour             location  \\\n0    2022-05-02  dia del padre      85  13:48       Aguascalientes   \n1    2022-05-02  dia del padre      88  13:48      Baja California   \n2    2022-05-02  dia del padre      91  13:48  Baja California Sur   \n3    2022-05-02  dia del padre      93  13:48             Campeche   \n4    2022-05-02  dia del padre      88  13:48              Chiapas   \n..          ...            ...     ...    ...                  ...   \n507  2022-05-02      ser padre       7  13:48           Tamaulipas   \n508  2022-05-02      ser padre      10  13:48             Tlaxcala   \n509  2022-05-02      ser padre       7  13:48             Veracruz   \n510  2022-05-02      ser padre       9  13:48              Yucatan   \n511  2022-05-02      ser padre       5  13:48            Zacatecas   \n\n                    marca  \n0    HSBC - Día del Padre  \n1    HSBC - Día del Padre  \n2    HSBC - Día del Padre  \n3    HSBC - Día del Padre  \n4    HSBC - Día del Padre  \n..                    ...  \n507  HSBC - Día del Padre  \n508  HSBC - Día del Padre  \n509  HSBC - Día del Padre  \n510  HSBC - Día del Padre  \n511  HSBC - Día del Padre  \n\n[512 rows x 6 columns]"
     },
     "execution_count": 9,
     "metadata": {},
     "output_type": "execute_result"
    }
   ],
   "execution_count": null
  },
  {
   "cell_type": "code",
   "metadata": {
    "cell_id": "00004-b2c0bb8b-b872-4048-9d7b-f22bf19be4b1",
    "deepnote_cell_type": "code",
    "deepnote_cell_height": 479.1875,
    "deepnote_output_heights": [
     382.1875
    ]
   },
   "source": "big_trend_brand",
   "outputs": [
    {
     "data": {
      "text/html": "<div>\n<style scoped>\n    .dataframe tbody tr th:only-of-type {\n        vertical-align: middle;\n    }\n\n    .dataframe tbody tr th {\n        vertical-align: top;\n    }\n\n    .dataframe thead th {\n        text-align: right;\n    }\n</style>\n<table border=\"1\" class=\"dataframe\">\n  <thead>\n    <tr style=\"text-align: right;\">\n      <th></th>\n      <th>query</th>\n      <th>interes</th>\n      <th>keyword</th>\n      <th>nquery</th>\n      <th>hour</th>\n      <th>dates</th>\n      <th>periodo</th>\n      <th>categoria</th>\n      <th>marca</th>\n    </tr>\n  </thead>\n  <tbody>\n    <tr>\n      <th>0</th>\n      <td>el dia del padre</td>\n      <td>100</td>\n      <td>dia del padre</td>\n      <td>0</td>\n      <td>13:48</td>\n      <td>2022-05-02</td>\n      <td>2019-06-01 2019-06-30</td>\n      <td>Global</td>\n      <td>HSBC - Día del Padre</td>\n    </tr>\n    <tr>\n      <th>1</th>\n      <td>feliz dia del padre</td>\n      <td>61</td>\n      <td>dia del padre</td>\n      <td>1100</td>\n      <td>13:48</td>\n      <td>2022-05-02</td>\n      <td>2019-06-01 2019-06-30</td>\n      <td>Global</td>\n      <td>HSBC - Día del Padre</td>\n    </tr>\n    <tr>\n      <th>2</th>\n      <td>feliz dia del padre</td>\n      <td>61</td>\n      <td>dia del padre</td>\n      <td>255400</td>\n      <td>13:48</td>\n      <td>2022-05-02</td>\n      <td>2019-06-01 2019-06-30</td>\n      <td>Global</td>\n      <td>HSBC - Día del Padre</td>\n    </tr>\n    <tr>\n      <th>3</th>\n      <td>feliz dia del padre</td>\n      <td>61</td>\n      <td>dia del padre</td>\n      <td>600</td>\n      <td>13:48</td>\n      <td>2022-05-02</td>\n      <td>2019-06-01 2019-06-30</td>\n      <td>Global</td>\n      <td>HSBC - Día del Padre</td>\n    </tr>\n    <tr>\n      <th>4</th>\n      <td>feliz dia del padre</td>\n      <td>17</td>\n      <td>dia del papa</td>\n      <td>1100</td>\n      <td>13:48</td>\n      <td>2022-05-02</td>\n      <td>2019-06-01 2019-06-30</td>\n      <td>Global</td>\n      <td>HSBC - Día del Padre</td>\n    </tr>\n    <tr>\n      <th>...</th>\n      <td>...</td>\n      <td>...</td>\n      <td>...</td>\n      <td>...</td>\n      <td>...</td>\n      <td>...</td>\n      <td>...</td>\n      <td>...</td>\n      <td>...</td>\n    </tr>\n    <tr>\n      <th>463</th>\n      <td>dias festivos 2022</td>\n      <td>0</td>\n      <td>dia del padre</td>\n      <td>350</td>\n      <td>13:48</td>\n      <td>2022-05-02</td>\n      <td>2022-01-01 2022-04-30</td>\n      <td>Global</td>\n      <td>HSBC - Día del Padre</td>\n    </tr>\n    <tr>\n      <th>464</th>\n      <td>cuando es el día del padre 2022</td>\n      <td>0</td>\n      <td>dia del padre</td>\n      <td>200</td>\n      <td>13:48</td>\n      <td>2022-05-02</td>\n      <td>2022-01-01 2022-04-30</td>\n      <td>Global</td>\n      <td>HSBC - Día del Padre</td>\n    </tr>\n    <tr>\n      <th>465</th>\n      <td>cuando es el dia del padre cdmx</td>\n      <td>0</td>\n      <td>dia del padre</td>\n      <td>140</td>\n      <td>13:48</td>\n      <td>2022-05-02</td>\n      <td>2022-01-01 2022-04-30</td>\n      <td>Global</td>\n      <td>HSBC - Día del Padre</td>\n    </tr>\n    <tr>\n      <th>466</th>\n      <td>carrera dia del padre 2022</td>\n      <td>0</td>\n      <td>dia del padre</td>\n      <td>140</td>\n      <td>13:48</td>\n      <td>2022-05-02</td>\n      <td>2022-01-01 2022-04-30</td>\n      <td>Global</td>\n      <td>HSBC - Día del Padre</td>\n    </tr>\n    <tr>\n      <th>467</th>\n      <td>medio maraton dia del padre 2022</td>\n      <td>0</td>\n      <td>dia del padre</td>\n      <td>80</td>\n      <td>13:48</td>\n      <td>2022-05-02</td>\n      <td>2022-01-01 2022-04-30</td>\n      <td>Global</td>\n      <td>HSBC - Día del Padre</td>\n    </tr>\n  </tbody>\n</table>\n<p>468 rows × 9 columns</p>\n</div>",
      "text/plain": "                                query interes        keyword  nquery   hour  \\\n0                    el dia del padre     100  dia del padre       0  13:48   \n1                 feliz dia del padre      61  dia del padre    1100  13:48   \n2                 feliz dia del padre      61  dia del padre  255400  13:48   \n3                 feliz dia del padre      61  dia del padre     600  13:48   \n4                 feliz dia del padre      17   dia del papa    1100  13:48   \n..                                ...     ...            ...     ...    ...   \n463                dias festivos 2022       0  dia del padre     350  13:48   \n464   cuando es el día del padre 2022       0  dia del padre     200  13:48   \n465   cuando es el dia del padre cdmx       0  dia del padre     140  13:48   \n466        carrera dia del padre 2022       0  dia del padre     140  13:48   \n467  medio maraton dia del padre 2022       0  dia del padre      80  13:48   \n\n          dates                periodo categoria                 marca  \n0    2022-05-02  2019-06-01 2019-06-30    Global  HSBC - Día del Padre  \n1    2022-05-02  2019-06-01 2019-06-30    Global  HSBC - Día del Padre  \n2    2022-05-02  2019-06-01 2019-06-30    Global  HSBC - Día del Padre  \n3    2022-05-02  2019-06-01 2019-06-30    Global  HSBC - Día del Padre  \n4    2022-05-02  2019-06-01 2019-06-30    Global  HSBC - Día del Padre  \n..          ...                    ...       ...                   ...  \n463  2022-05-02  2022-01-01 2022-04-30    Global  HSBC - Día del Padre  \n464  2022-05-02  2022-01-01 2022-04-30    Global  HSBC - Día del Padre  \n465  2022-05-02  2022-01-01 2022-04-30    Global  HSBC - Día del Padre  \n466  2022-05-02  2022-01-01 2022-04-30    Global  HSBC - Día del Padre  \n467  2022-05-02  2022-01-01 2022-04-30    Global  HSBC - Día del Padre  \n\n[468 rows x 9 columns]"
     },
     "execution_count": 10,
     "metadata": {},
     "output_type": "execute_result"
    }
   ],
   "execution_count": null
  },
  {
   "cell_type": "code",
   "metadata": {
    "cell_id": "00005-6ab83d8f-fb5e-4b44-9d18-67b2b66121be",
    "deepnote_cell_type": "code",
    "deepnote_cell_height": 138
   },
   "source": "interese.to_csv('{}_Intereses_{}_{}.csv'.format(proyecto, day, hour), encoding='utf-8')\n\nregions.to_csv('{}_Regiones_{}_{}.csv'.format(proyecto, day, hour), encoding='utf-8')\n\nbig_trend_brand.to_csv('{}_Related_{}_{}.csv'.format(proyecto, day, hour), encoding='utf-8')",
   "outputs": [],
   "execution_count": null
  },
  {
   "cell_type": "code",
   "metadata": {
    "cell_id": "00006-56b39be4-139f-4e53-bc69-b7bd90952064",
    "deepnote_cell_type": "code",
    "deepnote_cell_height": 118.1875,
    "deepnote_output_heights": [
     21.1875
    ]
   },
   "source": "pwd",
   "outputs": [
    {
     "data": {
      "text/plain": "'/Users/raul.castillo/SCRIPTS'"
     },
     "execution_count": 1,
     "metadata": {},
     "output_type": "execute_result"
    }
   ],
   "execution_count": null
  },
  {
   "cell_type": "code",
   "metadata": {
    "cell_id": "00007-73388447-5f2f-4111-885d-678fc71fd1d1",
    "deepnote_cell_type": "code",
    "deepnote_cell_height": 136.1875,
    "deepnote_output_heights": [
     21.1875
    ]
   },
   "source": "groups = [kw_list[i:i + 5] for i in range(0, len(kw_list), 5)]\ngroups",
   "outputs": [
    {
     "data": {
      "text/plain": "[['Play Doh', 'plastilina patra niños', 'plastilina no toxica']]"
     },
     "execution_count": 12,
     "metadata": {},
     "output_type": "execute_result"
    }
   ],
   "execution_count": null
  },
  {
   "cell_type": "code",
   "metadata": {
    "cell_id": "00008-92d760f5-7aa5-49e5-b933-41dc93b872f0",
    "deepnote_cell_type": "code",
    "deepnote_cell_height": 708,
    "deepnote_output_heights": [
     611
    ]
   },
   "source": "pytrend.trending_searches(pn='mexico')",
   "outputs": [
    {
     "data": {
      "text/html": "<div>\n<style scoped>\n    .dataframe tbody tr th:only-of-type {\n        vertical-align: middle;\n    }\n\n    .dataframe tbody tr th {\n        vertical-align: top;\n    }\n\n    .dataframe thead th {\n        text-align: right;\n    }\n</style>\n<table border=\"1\" class=\"dataframe\">\n  <thead>\n    <tr style=\"text-align: right;\">\n      <th></th>\n      <th>0</th>\n    </tr>\n  </thead>\n  <tbody>\n    <tr>\n      <th>0</th>\n      <td>Ezra Miller</td>\n    </tr>\n    <tr>\n      <th>1</th>\n      <td>WhatsApp Web</td>\n    </tr>\n    <tr>\n      <th>2</th>\n      <td>SAT</td>\n    </tr>\n    <tr>\n      <th>3</th>\n      <td>WhatsApp</td>\n    </tr>\n    <tr>\n      <th>4</th>\n      <td>Raquel Pankowsky</td>\n    </tr>\n    <tr>\n      <th>5</th>\n      <td>Maps</td>\n    </tr>\n    <tr>\n      <th>6</th>\n      <td>SCJN</td>\n    </tr>\n    <tr>\n      <th>7</th>\n      <td>Tenencia CDMX</td>\n    </tr>\n    <tr>\n      <th>8</th>\n      <td>CFE</td>\n    </tr>\n    <tr>\n      <th>9</th>\n      <td>Portugal vs Macedonia</td>\n    </tr>\n    <tr>\n      <th>10</th>\n      <td>Zoom</td>\n    </tr>\n    <tr>\n      <th>11</th>\n      <td>Banamex</td>\n    </tr>\n    <tr>\n      <th>12</th>\n      <td>Teniente O'Neil</td>\n    </tr>\n    <tr>\n      <th>13</th>\n      <td>Cancun</td>\n    </tr>\n    <tr>\n      <th>14</th>\n      <td>Eliminatorias Conmebol</td>\n    </tr>\n    <tr>\n      <th>15</th>\n      <td>Santander</td>\n    </tr>\n    <tr>\n      <th>16</th>\n      <td>HSBC</td>\n    </tr>\n    <tr>\n      <th>17</th>\n      <td>Banorte</td>\n    </tr>\n    <tr>\n      <th>18</th>\n      <td>FedEx</td>\n    </tr>\n    <tr>\n      <th>19</th>\n      <td>DHL</td>\n    </tr>\n  </tbody>\n</table>\n</div>",
      "text/plain": "                         0\n0              Ezra Miller\n1             WhatsApp Web\n2                      SAT\n3                 WhatsApp\n4         Raquel Pankowsky\n5                     Maps\n6                     SCJN\n7            Tenencia CDMX\n8                      CFE\n9    Portugal vs Macedonia\n10                    Zoom\n11                 Banamex\n12         Teniente O'Neil\n13                  Cancun\n14  Eliminatorias Conmebol\n15               Santander\n16                    HSBC\n17                 Banorte\n18                   FedEx\n19                     DHL"
     },
     "execution_count": 2,
     "metadata": {},
     "output_type": "execute_result"
    }
   ],
   "execution_count": null
  },
  {
   "cell_type": "code",
   "metadata": {
    "cell_id": "00009-f65cf9ed-a8d1-4051-affa-c63d5784b1f9",
    "deepnote_cell_type": "code",
    "deepnote_cell_height": 66
   },
   "source": "",
   "execution_count": null,
   "outputs": []
  },
  {
   "cell_type": "markdown",
   "source": "<a style='text-decoration:none;line-height:16px;display:flex;color:#5B5B62;padding:10px;justify-content:end;' href='https://deepnote.com?utm_source=created-in-deepnote-cell&projectId=705432f3-5a59-4b7f-9d5a-243608199265' target=\"_blank\">\n<img alt='Created in deepnote.com' style='display:inline;max-height:16px;margin:0px;margin-right:7.5px;' src='data:image/svg+xml;base64,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' > </img>\nCreated in <span style='font-weight:600;margin-left:4px;'>Deepnote</span></a>",
   "metadata": {
    "tags": [],
    "created_in_deepnote_cell": true,
    "deepnote_cell_type": "markdown"
   }
  }
 ],
 "nbformat": 4,
 "nbformat_minor": 5,
 "metadata": {
  "kernelspec": {
   "display_name": "Python 3",
   "language": "python",
   "name": "python3"
  },
  "language_info": {
   "codemirror_mode": {
    "name": "ipython",
    "version": 3
   },
   "file_extension": ".py",
   "mimetype": "text/x-python",
   "name": "python",
   "nbconvert_exporter": "python",
   "pygments_lexer": "ipython3",
   "version": "3.8.8"
  },
  "deepnote_notebook_id": "13df3498-e8b5-402a-bca2-7234a493a355",
  "deepnote": {},
  "deepnote_execution_queue": []
 }
}