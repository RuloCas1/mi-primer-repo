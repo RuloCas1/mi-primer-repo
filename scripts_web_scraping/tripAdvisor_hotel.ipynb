{
 "cells": [
  {
   "cell_type": "code",
   "metadata": {
    "cell_id": "00014-b3fdf735-06aa-4f11-b293-fdd444c7b283",
    "owner_user_id": "54b0fa4b-24ca-4159-ad76-52b42d159e99",
    "deepnote_cell_type": "code",
    "deepnote_cell_height": 66
   },
   "source": "",
   "execution_count": null,
   "outputs": []
  },
  {
   "cell_type": "code",
   "metadata": {
    "cell_id": "2a271e79-7d39-4e37-9702-5a2b7e815cde",
    "deepnote_to_be_reexecuted": false,
    "execution_millis": 146,
    "execution_start": 1651684403663,
    "source_hash": "b4c14122",
    "deepnote_cell_type": "code",
    "deepnote_cell_height": 351
   },
   "source": "from selenium import webdriver\nimport time\nimport pandas as pd\nimport requests\nimport sys\nfrom selenium.webdriver import Chrome\nfrom selenium.webdriver.common.by import By\nfrom selenium.webdriver.common.keys import Keys\nfrom selenium.webdriver.support.ui import WebDriverWait\nfrom selenium.webdriver.support import expected_conditions as EC\nfrom bs4 import BeautifulSoup\nfrom datetime import datetime,timedelta\nimport time\nimport random\nimport re\nimport operator",
   "execution_count": null,
   "outputs": []
  },
  {
   "cell_type": "code",
   "metadata": {
    "cell_id": "00001-8ca66231-c313-4f72-9738-455072c36dc2",
    "deepnote_cell_type": "code",
    "deepnote_cell_height": 246.171875
   },
   "source": "from webdriver_manager.chrome import ChromeDriverManager\n\nbrowser = webdriver.Chrome(ChromeDriverManager().install())",
   "execution_count": null,
   "outputs": [
    {
     "name": "stderr",
     "output_type": "stream",
     "text": "\n\n====== WebDriver manager ======\nCurrent google-chrome version is 101.0.4951\nGet LATEST chromedriver version for 101.0.4951 google-chrome\nDriver [/Users/raul.castillo/.wdm/drivers/chromedriver/mac64/101.0.4951.41/chromedriver] found in cache\n"
    }
   ]
  },
  {
   "cell_type": "code",
   "metadata": {
    "cell_id": "00002-c59f2b20-c8b2-45af-92cd-632965c4d40f",
    "deepnote_cell_type": "code",
    "deepnote_cell_height": 66
   },
   "source": "browser.get('https://www.tripadvisor.com.mx/Hotel_Review-g150797-d169771-Reviews-Camino_Real_Sumiya-Cuernavaca_Central_Mexico_and_Gulf_Coast.html#REVIEWS')",
   "execution_count": null,
   "outputs": []
  },
  {
   "cell_type": "code",
   "metadata": {
    "cell_id": "00003-0e6fcc4b-aec9-4f06-8d2e-4d07eb2cb3ed",
    "deepnote_cell_type": "code",
    "deepnote_cell_height": 66
   },
   "source": "data = pd.DataFrame(columns=('id','fecha_estancia','usuario','titulo','opinion','calificacion','genero'))",
   "execution_count": null,
   "outputs": []
  },
  {
   "cell_type": "code",
   "metadata": {
    "cell_id": "00004-23f88849-b917-43a4-9cca-328ec38fc876",
    "deepnote_cell_type": "code",
    "deepnote_cell_height": 84
   },
   "source": "elem = browser.find_element_by_xpath(\"//*\")\nsoup = BeautifulSoup(elem.get_attribute('innerHTML'),'html.parser')",
   "execution_count": null,
   "outputs": []
  },
  {
   "cell_type": "code",
   "metadata": {
    "cell_id": "00005-b0a08abb-3b62-469a-b985-e906eb5b2ecf",
    "deepnote_cell_type": "code",
    "deepnote_cell_height": 66
   },
   "source": "rev = soup.find_all('q',\"XllAv H4 _a\")[0].get_text()",
   "execution_count": null,
   "outputs": []
  },
  {
   "cell_type": "code",
   "metadata": {
    "cell_id": "00006-626fe70f-eecf-4fbf-a34c-3de35c4df260",
    "deepnote_cell_type": "code",
    "deepnote_cell_height": 118.1875,
    "deepnote_output_heights": [
     21.1875
    ]
   },
   "source": "len(rev)",
   "execution_count": null,
   "outputs": [
    {
     "data": {
      "text/plain": "215"
     },
     "execution_count": 7,
     "metadata": {},
     "output_type": "execute_result"
    }
   ]
  },
  {
   "cell_type": "code",
   "metadata": {
    "cell_id": "00007-e4d6370d-894f-44d9-8de6-0118413da7f2",
    "deepnote_cell_type": "code",
    "deepnote_cell_height": 66
   },
   "source": "total = range(0,10,5) # En un rango de 0 a 10 reseñas, va a saltar de 5 en 5",
   "execution_count": null,
   "outputs": []
  },
  {
   "cell_type": "code",
   "metadata": {
    "cell_id": "00008-d9c9b990-5040-4cf6-a6d3-d937d7bdf11f",
    "deepnote_cell_type": "code",
    "deepnote_cell_height": 534
   },
   "source": "def clean_text(txt):\n    txt = re.sub(\"[^a-záéíóúñüäë]\", \" \", txt.lower())\n    # Nos pasa el textoo a minúsculas.\n    txt = re.sub(' +',' ', txt)\n    # Limpia nuestro texto.\n    return txt.strip().split()\n    # Nos regresa el texto con las delimitaciones especificadas.\n\ndef df_to_dict(df, key_column, val_column):\n    \"\"\"convierte dos pandas series en un diccionario\"\"\"\n    xkey = df[key_column].tolist()\n    xval = df[val_column].tolist()\n    return dict(zip(xkey,xval))\n\ndef get_gender2(names):\n    names = clean_text(names)\n    names = [x for x in names if gender_list.get(x,'a') != 'a']\n    gender ={'m':0, 'f':0, 'a':0}\n    for i, name in enumerate(names):\n        g = gender_list.get(name,'a')\n        gender[g] += 1\n        gender[g] += 2 if len(names) > 1 and i == 0 and g != 'a' else 0 \n    gender['a'] = 0 if (gender['f']+gender['m']) > 0 else 1\n    return max(gender.items(), key=operator.itemgetter(1))[0]\n\ngender_list = pd.read_csv('nombres.csv')\ngender_list = df_to_dict(gender_list, key_column='nombre', val_column='genero')",
   "execution_count": null,
   "outputs": []
  },
  {
   "cell_type": "code",
   "metadata": {
    "cell_id": "00009-b066ec76-c753-4e4a-8847-6a3c17b5fd8f",
    "deepnote_cell_type": "code",
    "deepnote_cell_height": 84
   },
   "source": "url1 = \"https://www.tripadvisor.com.mx/Hotel_Review-g2550249-d169771-Reviews\"\nurl2 = \"-Camino_Real_Sumiya_Cuernavaca-Jiutepec_Central_Mexico_and_Gulf_Coast.html\"",
   "execution_count": null,
   "outputs": []
  },
  {
   "cell_type": "code",
   "metadata": {
    "cell_id": "00010-9bbe1272-4d9c-49b7-a94b-e5b50479e527",
    "deepnote_cell_type": "code",
    "deepnote_cell_height": 896.96875
   },
   "source": "browser.maximize_window()\nfor p in total:\n    if p == 0:\n        centro = '-'\n    else:\n        centro = '-or'+str(p)+'-'\n    url = url1+centro+url2\n    print(url1+centro+url2)\n    #print(url)\n    browser.get(url)\n    \n    desplazar = random.randint(400, 1200)\n    browser.execute_script('window.scrollTo(1, '+str(desplazar)+');')\n    time.sleep(2)\n    \n    elem = browser.find_element_by_xpath(\"//*\")\n    soup = BeautifulSoup(elem.get_attribute('innerHTML'),'html.parser')\n    samples = soup.find_all(\"div\", \"cWwQK MC R2 Gi z Z BB dXjiy\")\n    c=0\n    for s in samples:\n        ids = p+c+1\n        sample = samples[c]\n        autor = sample.find_all(\"a\",'ui_header_link bPvDb')[0].get_text()\n        gen = get_gender2(autor)\n        cal = str(sample.find_all('div',\"emWez F1\")[0])\n        cal = cal[92:len(cal)-15]\n        titulo = sample.find_all('a',\"fCitC\")[0].get_text()\n        opinion = sample.find_all('q',\"XllAv H4 _a\")[0].get_text()\n        fecha_est = sample.find_all('span',\"euPKI _R Me S4 H3\")[0].get_text()\n        fecha_est = fecha_est[21:]\n        #data = data.append({'fecha_estancia': fecha_est,'usuario':nombre,'calificacion':cal,'titulo':titulo,'opinion':opinion},ignore_index=True)\n        data = data.append({'id':ids, 'fecha_estancia': fecha_est,'usuario':autor,'calificacion':cal,'titulo':titulo,'opinion':opinion,'genero':gen},ignore_index=True)\n        c = c+1\n    \n    p+5\n    sleep = random.randint(5, 15)\n    print(sleep)\n    time.sleep(sleep)\n          \nprint('Ya puedes exportar')",
   "execution_count": null,
   "outputs": [
    {
     "name": "stdout",
     "output_type": "stream",
     "text": "https://www.tripadvisor.com.mx/Hotel_Review-g2550249-d169771-Reviews--Camino_Real_Sumiya_Cuernavaca-Jiutepec_Central_Mexico_and_Gulf_Coast.html\n14\nhttps://www.tripadvisor.com.mx/Hotel_Review-g2550249-d169771-Reviews-or5--Camino_Real_Sumiya_Cuernavaca-Jiutepec_Central_Mexico_and_Gulf_Coast.html\n8\nYa puedes exportar\n"
    }
   ]
  },
  {
   "cell_type": "code",
   "metadata": {
    "cell_id": "00012-6085dd2f-2dec-4e20-a90d-d6268de5edef",
    "deepnote_cell_type": "code",
    "deepnote_cell_height": 419,
    "deepnote_output_heights": [
     322
    ]
   },
   "source": "data",
   "execution_count": null,
   "outputs": [
    {
     "data": {
      "text/html": "<div>\n<style scoped>\n    .dataframe tbody tr th:only-of-type {\n        vertical-align: middle;\n    }\n\n    .dataframe tbody tr th {\n        vertical-align: top;\n    }\n\n    .dataframe thead th {\n        text-align: right;\n    }\n</style>\n<table border=\"1\" class=\"dataframe\">\n  <thead>\n    <tr style=\"text-align: right;\">\n      <th></th>\n      <th>id</th>\n      <th>fecha_estancia</th>\n      <th>usuario</th>\n      <th>titulo</th>\n      <th>opinion</th>\n      <th>calificacion</th>\n      <th>genero</th>\n    </tr>\n  </thead>\n  <tbody>\n    <tr>\n      <th>0</th>\n      <td>1</td>\n      <td>mayo de 2022</td>\n      <td>vmgjmq</td>\n      <td>Padrisimo!!!m</td>\n      <td>Muy bonito hotel, muy limpio, la comida muy ri...</td>\n      <td>40</td>\n      <td>a</td>\n    </tr>\n    <tr>\n      <th>1</th>\n      <td>2</td>\n      <td>marzo de 2022</td>\n      <td>lulumedinav</td>\n      <td>Mi estancia en el hotel fue buena</td>\n      <td>La habitación es agradable pero tuvimos la mal...</td>\n      <td>40</td>\n      <td>a</td>\n    </tr>\n    <tr>\n      <th>2</th>\n      <td>3</td>\n      <td>abril de 2022</td>\n      <td>378marianae</td>\n      <td>Excelente experiencia</td>\n      <td>La experiencia en el hotel fue gratificante y ...</td>\n      <td>50</td>\n      <td>a</td>\n    </tr>\n    <tr>\n      <th>3</th>\n      <td>4</td>\n      <td>abril de 2022</td>\n      <td>maria olivares</td>\n      <td>pesimas areas comunes</td>\n      <td>no habia camastros, y se les hizo facil decir:...</td>\n      <td>20</td>\n      <td>f</td>\n    </tr>\n    <tr>\n      <th>4</th>\n      <td>5</td>\n      <td>abril de 2022</td>\n      <td>nriver577345</td>\n      <td>pésima atención</td>\n      <td>Tengo un problema con el cobro en recepción. M...</td>\n      <td>10</td>\n      <td>a</td>\n    </tr>\n    <tr>\n      <th>5</th>\n      <td>6</td>\n      <td>abril de 2022</td>\n      <td>carlosbrimor</td>\n      <td>Excelente servicio</td>\n      <td>Todo el personal tiene una gran actitud de ser...</td>\n      <td>40</td>\n      <td>a</td>\n    </tr>\n    <tr>\n      <th>6</th>\n      <td>7</td>\n      <td>abril de 2022</td>\n      <td>mtello379232</td>\n      <td>Esperaba mas al ser de Camino Real</td>\n      <td>La propiedad es hermosa, buenísima ubicación, ...</td>\n      <td>30</td>\n      <td>a</td>\n    </tr>\n    <tr>\n      <th>7</th>\n      <td>8</td>\n      <td>abril de 2022</td>\n      <td>milkg297</td>\n      <td>Puede mejorar</td>\n      <td>Lugar bonito pero el servicio e instalaciones ...</td>\n      <td>30</td>\n      <td>a</td>\n    </tr>\n    <tr>\n      <th>8</th>\n      <td>9</td>\n      <td>abril de 2022</td>\n      <td>carmencardenas2022</td>\n      <td>Excelente servicio</td>\n      <td>Recomiendo que  observen esta mejora. Si son 3...</td>\n      <td>50</td>\n      <td>a</td>\n    </tr>\n    <tr>\n      <th>9</th>\n      <td>10</td>\n      <td>abril de 2022</td>\n      <td>Rodrigo B</td>\n      <td>Mala relación calidad y precio</td>\n      <td>Las instalaciones bien en general, las habitac...</td>\n      <td>30</td>\n      <td>m</td>\n    </tr>\n  </tbody>\n</table>\n</div>",
      "text/plain": "   id fecha_estancia             usuario                              titulo  \\\n0   1   mayo de 2022              vmgjmq                       Padrisimo!!!m   \n1   2  marzo de 2022         lulumedinav   Mi estancia en el hotel fue buena   \n2   3  abril de 2022         378marianae               Excelente experiencia   \n3   4  abril de 2022      maria olivares               pesimas areas comunes   \n4   5  abril de 2022        nriver577345                     pésima atención   \n5   6  abril de 2022        carlosbrimor                  Excelente servicio   \n6   7  abril de 2022        mtello379232  Esperaba mas al ser de Camino Real   \n7   8  abril de 2022            milkg297                       Puede mejorar   \n8   9  abril de 2022  carmencardenas2022                  Excelente servicio   \n9  10  abril de 2022           Rodrigo B      Mala relación calidad y precio   \n\n                                             opinion calificacion genero  \n0  Muy bonito hotel, muy limpio, la comida muy ri...           40      a  \n1  La habitación es agradable pero tuvimos la mal...           40      a  \n2  La experiencia en el hotel fue gratificante y ...           50      a  \n3  no habia camastros, y se les hizo facil decir:...           20      f  \n4  Tengo un problema con el cobro en recepción. M...           10      a  \n5  Todo el personal tiene una gran actitud de ser...           40      a  \n6  La propiedad es hermosa, buenísima ubicación, ...           30      a  \n7  Lugar bonito pero el servicio e instalaciones ...           30      a  \n8  Recomiendo que  observen esta mejora. Si son 3...           50      a  \n9  Las instalaciones bien en general, las habitac...           30      m  "
     },
     "execution_count": 12,
     "metadata": {},
     "output_type": "execute_result"
    }
   ]
  },
  {
   "cell_type": "code",
   "metadata": {
    "cell_id": "00013-3cdd37c3-65c9-4332-9759-8af630e39d61",
    "deepnote_cell_type": "code",
    "deepnote_cell_height": 303,
    "deepnote_output_heights": [
     206
    ]
   },
   "source": "data.groupby(['calificacion']).count()",
   "execution_count": null,
   "outputs": [
    {
     "data": {
      "text/html": "<div>\n<style scoped>\n    .dataframe tbody tr th:only-of-type {\n        vertical-align: middle;\n    }\n\n    .dataframe tbody tr th {\n        vertical-align: top;\n    }\n\n    .dataframe thead th {\n        text-align: right;\n    }\n</style>\n<table border=\"1\" class=\"dataframe\">\n  <thead>\n    <tr style=\"text-align: right;\">\n      <th></th>\n      <th>id</th>\n      <th>fecha_estancia</th>\n      <th>usuario</th>\n      <th>titulo</th>\n      <th>opinion</th>\n      <th>genero</th>\n    </tr>\n    <tr>\n      <th>calificacion</th>\n      <th></th>\n      <th></th>\n      <th></th>\n      <th></th>\n      <th></th>\n      <th></th>\n    </tr>\n  </thead>\n  <tbody>\n    <tr>\n      <th>10</th>\n      <td>1</td>\n      <td>1</td>\n      <td>1</td>\n      <td>1</td>\n      <td>1</td>\n      <td>1</td>\n    </tr>\n    <tr>\n      <th>20</th>\n      <td>1</td>\n      <td>1</td>\n      <td>1</td>\n      <td>1</td>\n      <td>1</td>\n      <td>1</td>\n    </tr>\n    <tr>\n      <th>30</th>\n      <td>3</td>\n      <td>3</td>\n      <td>3</td>\n      <td>3</td>\n      <td>3</td>\n      <td>3</td>\n    </tr>\n    <tr>\n      <th>40</th>\n      <td>3</td>\n      <td>3</td>\n      <td>3</td>\n      <td>3</td>\n      <td>3</td>\n      <td>3</td>\n    </tr>\n    <tr>\n      <th>50</th>\n      <td>2</td>\n      <td>2</td>\n      <td>2</td>\n      <td>2</td>\n      <td>2</td>\n      <td>2</td>\n    </tr>\n  </tbody>\n</table>\n</div>",
      "text/plain": "              id  fecha_estancia  usuario  titulo  opinion  genero\ncalificacion                                                      \n10             1               1        1       1        1       1\n20             1               1        1       1        1       1\n30             3               3        3       3        3       3\n40             3               3        3       3        3       3\n50             2               2        2       2        2       2"
     },
     "execution_count": 13,
     "metadata": {},
     "output_type": "execute_result"
    }
   ]
  },
  {
   "cell_type": "code",
   "metadata": {
    "cell_id": "00015-66ac9234-98f3-4319-a205-ef7e5c8effc2",
    "deepnote_cell_type": "code",
    "deepnote_cell_height": 66
   },
   "source": "",
   "execution_count": null,
   "outputs": []
  },
  {
   "cell_type": "code",
   "metadata": {
    "cell_id": "00016-0d8f66cf-e8a1-4a5e-9027-f8324ac87aa2",
    "deepnote_cell_type": "code",
    "deepnote_cell_height": 66
   },
   "source": "",
   "execution_count": null,
   "outputs": []
  },
  {
   "cell_type": "code",
   "metadata": {
    "cell_id": "00017-10ae9c39-23b9-49ce-b4a1-bc8e9e317f8a",
    "deepnote_cell_type": "code",
    "deepnote_cell_height": 66
   },
   "source": "",
   "execution_count": null,
   "outputs": []
  },
  {
   "cell_type": "code",
   "metadata": {
    "cell_id": "00018-974edb90-f435-47ba-87c7-4fad8d9338ab",
    "deepnote_cell_type": "code",
    "deepnote_cell_height": 102
   },
   "source": "c=0\nsamples = soup.find_all(\"div\", \"cWwQK MC R2 Gi z Z BB dXjiy\")\nsample = samples[c]",
   "execution_count": null,
   "outputs": []
  },
  {
   "cell_type": "code",
   "metadata": {
    "cell_id": "00019-7ccdda0f-8fdf-4c56-b825-b86be3392766",
    "deepnote_cell_type": "code",
    "deepnote_cell_height": 118.1875,
    "deepnote_output_heights": [
     21.1875
    ]
   },
   "source": "samples",
   "execution_count": null,
   "outputs": [
    {
     "data": {
      "text/plain": "[]"
     },
     "execution_count": 56,
     "metadata": {},
     "output_type": "execute_result"
    }
   ]
  },
  {
   "cell_type": "code",
   "metadata": {
    "cell_id": "00020-48526e3a-33a8-4036-b6a4-68837d6092df",
    "deepnote_cell_type": "code",
    "deepnote_cell_height": 66
   },
   "source": "nombre = sample.find_all(\"a\",'ui_header_link bPvDb')[0].get_text()",
   "execution_count": null,
   "outputs": []
  },
  {
   "cell_type": "code",
   "metadata": {
    "cell_id": "00021-04e88a7c-adce-4e7a-adb7-5cc7f91ae461",
    "deepnote_cell_type": "code",
    "deepnote_cell_height": 84
   },
   "source": "cal = str(sample.find_all('div',\"emWez F1\")[0])\ncal = cal[92:len(cal)-15]",
   "execution_count": null,
   "outputs": []
  },
  {
   "cell_type": "code",
   "metadata": {
    "cell_id": "00022-c13641e0-0648-487a-b140-26c81f438dde",
    "deepnote_cell_type": "code",
    "deepnote_cell_height": 66
   },
   "source": "titulo = sample.find_all('a',\"fCitC\")[0].get_text()",
   "execution_count": null,
   "outputs": []
  },
  {
   "cell_type": "code",
   "metadata": {
    "cell_id": "00023-7661454a-e11c-4c5c-ae07-fbf2ed6351aa",
    "deepnote_cell_type": "code",
    "deepnote_cell_height": 66
   },
   "source": "opinion = sample.find_all('q',\"XllAv H4 _a\")[0].get_text()",
   "execution_count": null,
   "outputs": []
  },
  {
   "cell_type": "code",
   "metadata": {
    "cell_id": "00024-cc23f5af-6fe5-47cc-8396-f82341f65721",
    "deepnote_cell_type": "code",
    "deepnote_cell_height": 84
   },
   "source": "fecha_est = sample.find_all('span',\"euPKI _R Me S4 H3\")[0].get_text()\nfecha_est = fecha_est[21:]",
   "execution_count": null,
   "outputs": []
  },
  {
   "cell_type": "markdown",
   "source": "<a style='text-decoration:none;line-height:16px;display:flex;color:#5B5B62;padding:10px;justify-content:end;' href='https://deepnote.com?utm_source=created-in-deepnote-cell&projectId=a4b48cf0-c50a-44f8-990b-e0da28b0964f' target=\"_blank\">\n<img alt='Created in deepnote.com' style='display:inline;max-height:16px;margin:0px;margin-right:7.5px;' src='data:image/svg+xml;base64,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' > </img>\nCreated in <span style='font-weight:600;margin-left:4px;'>Deepnote</span></a>",
   "metadata": {
    "tags": [],
    "created_in_deepnote_cell": true,
    "deepnote_cell_type": "markdown"
   }
  }
 ],
 "nbformat": 4,
 "nbformat_minor": 5,
 "metadata": {
  "deepnote": {},
  "deepnote_execution_queue": [],
  "deepnote_notebook_id": "2963c05d-2b39-46d7-b662-47d7d7723c2f",
  "kernelspec": {
   "display_name": "Python 3",
   "language": "python",
   "name": "python3"
  },
  "language_info": {
   "codemirror_mode": {
    "name": "ipython",
    "version": 3
   },
   "file_extension": ".py",
   "mimetype": "text/x-python",
   "name": "python",
   "nbconvert_exporter": "python",
   "pygments_lexer": "ipython3",
   "version": "3.8.8"
  }
 }
}