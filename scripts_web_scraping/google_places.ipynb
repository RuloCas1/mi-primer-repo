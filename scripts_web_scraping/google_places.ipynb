{
 "cells": [
  {
   "cell_type": "code",
   "metadata": {
    "cell_id": "06902aa1-6529-4a31-8dcc-6b4488aee38d",
    "deepnote_cell_type": "code",
    "deepnote_cell_height": 311.453125
   },
   "source": "pip install webdriver_manager\n# Hay que tener instalado webdriver_manager y selenium",
   "outputs": [
    {
     "name": "stdout",
     "output_type": "stream",
     "text": "Requirement already satisfied: webdriver_manager in /Users/raul.castillo/opt/anaconda3/lib/python3.8/site-packages (3.5.2)\nRequirement already satisfied: configparser in /Users/raul.castillo/opt/anaconda3/lib/python3.8/site-packages (from webdriver_manager) (5.2.0)\nRequirement already satisfied: requests in /Users/raul.castillo/opt/anaconda3/lib/python3.8/site-packages (from webdriver_manager) (2.25.1)\nRequirement already satisfied: crayons in /Users/raul.castillo/opt/anaconda3/lib/python3.8/site-packages (from webdriver_manager) (0.4.0)\nRequirement already satisfied: colorama in /Users/raul.castillo/opt/anaconda3/lib/python3.8/site-packages (from crayons->webdriver_manager) (0.4.4)\nRequirement already satisfied: certifi>=2017.4.17 in /Users/raul.castillo/opt/anaconda3/lib/python3.8/site-packages (from requests->webdriver_manager) (2020.12.5)\nRequirement already satisfied: urllib3<1.27,>=1.21.1 in /Users/raul.castillo/opt/anaconda3/lib/python3.8/site-packages (from requests->webdriver_manager) (1.26.4)\nRequirement already satisfied: idna<3,>=2.5 in /Users/raul.castillo/opt/anaconda3/lib/python3.8/site-packages (from requests->webdriver_manager) (2.10)\nRequirement already satisfied: chardet<5,>=3.0.2 in /Users/raul.castillo/opt/anaconda3/lib/python3.8/site-packages (from requests->webdriver_manager) (4.0.0)\nNote: you may need to restart the kernel to use updated packages.\n"
    }
   ],
   "execution_count": null
  },
  {
   "cell_type": "code",
   "metadata": {
    "cell_id": "00001-426aff0e-c955-4837-99d2-dfec7280637a",
    "deepnote_cell_type": "code",
    "deepnote_cell_height": 354
   },
   "source": "from selenium import webdriver\nimport operator\nimport re\nimport time\nimport pandas as pd\nfrom selenium.webdriver import Chrome\nfrom selenium.webdriver.common.by import By\nfrom selenium.webdriver.common.keys import Keys\nfrom selenium.webdriver.support.ui import WebDriverWait\nfrom selenium.webdriver.support import expected_conditions as EC\nfrom bs4 import BeautifulSoup\nfrom datetime import datetime,timedelta\nimport time\nimport random\nimport re\nimport operator\n#Impirtamos librerías",
   "outputs": [],
   "execution_count": null
  },
  {
   "cell_type": "code",
   "metadata": {
    "cell_id": "00002-9f2548a2-4c12-439e-92db-4b11baa35db6",
    "deepnote_cell_type": "code",
    "deepnote_cell_height": 246.171875
   },
   "source": "from webdriver_manager.chrome import ChromeDriverManager\ndriver = webdriver.Chrome(ChromeDriverManager().install())\n# Corremos \"webdriver\". No abrirá una segunda página web donde correrá el resto del programa",
   "outputs": [
    {
     "name": "stderr",
     "output_type": "stream",
     "text": "\n\n====== WebDriver manager ======\nCurrent google-chrome version is 101.0.4951\nGet LATEST chromedriver version for 101.0.4951 google-chrome\nDriver [/Users/raul.castillo/.wdm/drivers/chromedriver/mac64/101.0.4951.41/chromedriver] found in cache\n"
    }
   ],
   "execution_count": null
  },
  {
   "cell_type": "code",
   "metadata": {
    "cell_id": "00003-49e7fb14-d9da-4d60-9e03-a1653fbaa267",
    "deepnote_cell_type": "code",
    "deepnote_cell_height": 84
   },
   "source": "url = \"https://www.google.com/maps/place/UNITEC+Los+Reyes+-+Universidad+Tecnol%C3%B3gica+de+M%C3%A9xico/@19.3592234,-98.9935063,21z/data=!4m7!3m6!1s0x85d1e29828d3e631:0x324b294da57a4bf9!8m2!3d19.3591634!4d-98.9936022!9m1!1b1\"\n# 2 puntos relevantes en la URL. Debe estar dentro de reseñas y con un zoom a 21z  ",
   "outputs": [],
   "execution_count": null
  },
  {
   "cell_type": "code",
   "metadata": {
    "cell_id": "00004-117a1b28-d666-4c95-9625-095a8a137c10",
    "deepnote_cell_type": "code",
    "deepnote_cell_height": 84
   },
   "source": "driver.get(url)\n#Nos abre la URL en webdriver",
   "outputs": [],
   "execution_count": null
  },
  {
   "cell_type": "code",
   "metadata": {
    "cell_id": "00005-fea1ee50-ce7f-433a-8ed9-e72b9be31450",
    "deepnote_cell_type": "code",
    "deepnote_cell_height": 154.1875,
    "deepnote_output_heights": [
     21.1875
    ]
   },
   "source": "lugar = url[len('https://www.google.com.mx/maps/place/'):len('https://www.google.com.mx/maps/place/')+url[len('https://www.google.com.mx/maps/place/'):].find('/')].replace('+',' ')\nlugar\n# Extraemos el nombre del place de la URL",
   "outputs": [
    {
     "data": {
      "text/plain": "'TEC Los Reyes - Universidad Tecnol%C3%B3gica de M%C3%A9xico'"
     },
     "execution_count": 987,
     "metadata": {},
     "output_type": "execute_result"
    }
   ],
   "execution_count": null
  },
  {
   "cell_type": "code",
   "metadata": {
    "cell_id": "00006-bc587e19-52b6-4070-b69f-2c7887c11003",
    "deepnote_cell_type": "code",
    "deepnote_cell_height": 84
   },
   "source": "lugar = 'UNITEC Los Reyes'\n# Si el nombre que nos otorga la URL no es el que queremos conservar, podemos cambiarlo. De lo contrario, se ignora esta sección",
   "outputs": [],
   "execution_count": null
  },
  {
   "cell_type": "code",
   "metadata": {
    "cell_id": "00007-89063ac3-2638-4c56-b8c4-d17ae4feb4b5",
    "deepnote_cell_type": "code",
    "deepnote_cell_height": 154.1875,
    "deepnote_output_heights": [
     21.1875
    ]
   },
   "source": "coord = url[url[:].find('@')+1 : url[:].find(',2')]\ncoord\n#Obtenemos las coordenadas de la URL",
   "outputs": [
    {
     "data": {
      "text/plain": "'19.3592234,-98.9935063'"
     },
     "execution_count": 989,
     "metadata": {},
     "output_type": "execute_result"
    }
   ],
   "execution_count": null
  },
  {
   "cell_type": "code",
   "metadata": {
    "cell_id": "00008-fd9441ec-717e-4314-bb97-ab78b9f05221",
    "deepnote_cell_type": "code",
    "deepnote_cell_height": 154.1875,
    "deepnote_output_heights": [
     21.1875
    ]
   },
   "source": "y = coord[-coord.find(',')-1:]\ny\n#Obtenemos la coordenada \"Y\" por separado",
   "outputs": [
    {
     "data": {
      "text/plain": "'-98.9935063'"
     },
     "execution_count": 990,
     "metadata": {},
     "output_type": "execute_result"
    }
   ],
   "execution_count": null
  },
  {
   "cell_type": "code",
   "metadata": {
    "cell_id": "00009-8aa061de-d7fa-4154-aa9a-5a67c5125b02",
    "deepnote_cell_type": "code",
    "deepnote_cell_height": 154.1875,
    "deepnote_output_heights": [
     21.1875
    ]
   },
   "source": "x = coord[:-coord.find(',')-2]\nx\n#Obtenemos la coordenada \"X\" por separado",
   "outputs": [
    {
     "data": {
      "text/plain": "'19.3592234'"
     },
     "execution_count": 991,
     "metadata": {},
     "output_type": "execute_result"
    }
   ],
   "execution_count": null
  },
  {
   "cell_type": "code",
   "metadata": {
    "cell_id": "00010-5e7196f2-0ee8-423d-89c8-37d0f788673f",
    "deepnote_cell_type": "code",
    "deepnote_cell_height": 84
   },
   "source": "html = driver.find_element_by_tag_name('html')\n# Encuentra los elementos del código HTML",
   "outputs": [],
   "execution_count": null
  },
  {
   "cell_type": "markdown",
   "source": "down = range(1,700)\nfor d in down:\n    html.send_keys(Keys.PAGE_DOWN)\n    ran = random.randint(6, 10)\n    time.sleep(ran)\n    #print(d, ran)\n\n# Este es nuestro Robot para scrapear. El rango inicial es el número de veces que hará scroll, con una pausa de 6 a 10 segundo",
   "metadata": {
    "cell_id": "00011-89ee8c30-2c4c-4146-b7af-27a3a0b5f65c",
    "deepnote_cell_type": "markdown",
    "deepnote_cell_height": 296.796875
   }
  },
  {
   "cell_type": "code",
   "metadata": {
    "cell_id": "00012-8e1ccd8d-c033-4336-8fb1-785b45960963",
    "deepnote_cell_type": "code",
    "deepnote_cell_height": 120
   },
   "source": "elem = driver.find_element_by_xpath(\"//*\")\nsoup = BeautifulSoup(elem.get_attribute('innerHTML'),'html.parser')\n\n# toma el código fuente de la página html ",
   "outputs": [],
   "execution_count": null
  },
  {
   "cell_type": "code",
   "metadata": {
    "cell_id": "00013-91a971b4-254e-4a06-a8b2-c97792753447",
    "deepnote_cell_type": "code",
    "deepnote_cell_height": 84
   },
   "source": "reviews = soup.find_all((\"div\",'jJc9Ad'))[0].get_text()\n# encuentra el divisor que buscamos",
   "outputs": [],
   "execution_count": null
  },
  {
   "cell_type": "code",
   "metadata": {
    "cell_id": "00014-76289382-fb50-41ba-b962-ae5219f6e7c2",
    "deepnote_cell_type": "code",
    "deepnote_cell_height": 219.6875
   },
   "source": "reviews = soup.find_all(\"div\",'jJc9Ad')\nno = range(0,len(reviews))\nnow = datetime.now() #- timedelta(hours=6) \n#hora = now.strftime('%H:%M')\ndate = now.strftime('%Y-%m-%d')\nprint (no)\n# Nos indica con un rango, el número de reseñas que tenemos",
   "outputs": [
    {
     "name": "stdout",
     "output_type": "stream",
     "text": "range(0, 120)\n"
    }
   ],
   "execution_count": null
  },
  {
   "cell_type": "code",
   "metadata": {
    "cell_id": "00015-6b65c602-a6ad-4015-991d-ce0f927515a2",
    "deepnote_cell_type": "code",
    "deepnote_cell_height": 84
   },
   "source": "df = pd.DataFrame(columns=('name','gender','strellas','resena','fecha','lugar','proyecto','url','x','y'))\n#Generamos la estructura de nuestro Data Frame",
   "outputs": [],
   "execution_count": null
  },
  {
   "cell_type": "markdown",
   "source": "#df = pd.DataFrame(columns=('name','gender','strellas','resena','opiniones','fecha','lugar','proyecto','url','x','y'))\n#dfi = pd.DataFrame(columns=('name','x','y','img','foto'))",
   "metadata": {
    "cell_id": "00016-4228cf5b-1630-4922-bb63-7a7ac1cbf3bf",
    "deepnote_cell_type": "markdown",
    "deepnote_cell_height": 74.796875
   }
  },
  {
   "cell_type": "code",
   "metadata": {
    "cell_id": "00017-0168d277-c641-4283-b828-1313e83c1020",
    "deepnote_cell_type": "code",
    "deepnote_cell_height": 570
   },
   "source": "# Limpiamos texto y obtenemos el género de los usuairos. Tenemos que tener cargado el archivo nombres.csv en la misma carpeta donde está nuestrop script\n\ndef clean_text(txt):\n    txt = re.sub(\"[^a-záéíóúñüäë]\", \" \", txt.lower())\n    # Nos pasa el textoo a minúsculas.\n    txt = re.sub(' +',' ', txt)\n    # Limpia nuestro texto.\n    return txt.strip().split()\n    # Nos regresa el texto con las delimitaciones especificadas.\n\ndef df_to_dict(df, key_column, val_column):\n    \"\"\"convierte dos pandas series en un diccionario\"\"\"\n    xkey = df[key_column].tolist()\n    xval = df[val_column].tolist()\n    return dict(zip(xkey,xval))\n\ndef get_gender2(names):\n    names = clean_text(names)\n    names = [x for x in names if gender_list.get(x,'a') != 'a']\n    gender ={'m':0, 'f':0, 'a':0}\n    for i, name in enumerate(names):\n        g = gender_list.get(name,'a')\n        gender[g] += 1\n        gender[g] += 2 if len(names) > 1 and i == 0 and g != 'a' else 0 \n    gender['a'] = 0 if (gender['f']+gender['m']) > 0 else 1\n    return max(gender.items(), key=operator.itemgetter(1))[0]\n\ngender_list = pd.read_csv('nombres.csv')\ngender_list = df_to_dict(gender_list, key_column='nombre', val_column='genero')",
   "outputs": [],
   "execution_count": null
  },
  {
   "cell_type": "code",
   "metadata": {
    "cell_id": "00018-7c3538b0-090d-407b-b75d-9cde84dc78a3",
    "deepnote_cell_type": "code",
    "deepnote_cell_height": 1110
   },
   "source": "#Identificamos los fragmentos del código HTML de página y extraemos la información\nfor n in no:\n    try:\n        stars = reviews[n].find_all(\"span\",'kvMYJc')[0]['aria-label']\n        st = stars[1:2]\n        comm = reviews[n].find_all(\"span\",'wiI7pd')\n        co = comm[0].get_text().replace('\\n',' ').strip()\n        names = reviews[n].find_all(\"div\",'d4r55')\n        na = names[0].text.strip()\n        gen = get_gender2(na)\n\n        # Obtenemos imágenes y sus URL\n        for z in range(0,len(reviews[n].find_all(\"button\",'ODSEW-ShBeI-xJzy8c')),1):\n            imgs = reviews[n].find_all(\"button\",'KtCyie')[z]['style']\n            img = imgs[imgs.find('url(')+len('url('):imgs.find(');width')]\n            #print(url)\n            dfi = dfi.append({'name': na,'img':img,'x':x,'y':y,'foto':z},ignore_index=True)\n\n        # La fehca hay que transformala por el formato en el que viene\n        tiempo = reviews[0].find_all(\"span\",'rsqaWe')[0].text    \n        if 'una semana' in tiempo:\n            now = datetime.now() - timedelta(weeks=1) \n            date = now.strftime('%Y-%m-%d')\n            #print(n,tiempo, date)\n        if 'semanas' in tiempo:\n            now = datetime.now() - timedelta(weeks=int(tiempo[:1])) \n            date = now.strftime('%Y-%m-%d')\n            #print(n,tiempo, date)\n        if 'minutos' in tiempo:\n            now = datetime.now()\n            date = now.strftime('%Y-%m-%d')\n            #print(n,tiempo, date)\n        if 'horas' in tiempo:\n            now = datetime.now()\n            date = now.strftime('%Y-%m-%d')\n            #print(n,tiempo, date)\n        if 'día' in tiempo:\n            now = datetime.now() - timedelta(days=int(tiempo[len('hace '):6])) \n            date = now.strftime('%Y-%m-%d')\n            #print(n,tiempo, date)\n        if 'un mes' in tiempo:\n            now = datetime.now() - timedelta(weeks=4*1) \n            date = now.strftime('%Y-%m-%d')\n            #print(n,tiempo, date)\n        if 'meses' in tiempo:\n            now = datetime.now() - timedelta(weeks=4*int(tiempo[len('hace '):len(' meses')+1])) \n            date = now.strftime('%Y-%m-%d')\n            #print(n,tiempo, date)\n        if 'años' in tiempo:\n            now = datetime.now() - timedelta(weeks=4*int(tiempo[:1])*12) \n            date = now.strftime('%Y-%m-%d')\n                #print(n,tiempo, date)\n\n    except:\n        pass\n    \n    # Generamos nuestro Data Frame Final\n    df = df.append({'name': na,'gender':gen,'strellas':st,'resena':co,\n                    'fecha':date,'lugar':lugar,'proyecto':'TecMilenio','url':url,'x':x,'y':y},ignore_index=True)",
   "outputs": [],
   "execution_count": null
  },
  {
   "cell_type": "code",
   "metadata": {
    "cell_id": "00019-b2109646-5f81-4c37-b727-b8c6241e9646",
    "deepnote_cell_type": "code",
    "deepnote_cell_height": 479.1875,
    "deepnote_output_heights": [
     382.1875
    ]
   },
   "source": "df",
   "outputs": [
    {
     "data": {
      "text/html": "<div>\n<style scoped>\n    .dataframe tbody tr th:only-of-type {\n        vertical-align: middle;\n    }\n\n    .dataframe tbody tr th {\n        vertical-align: top;\n    }\n\n    .dataframe thead th {\n        text-align: right;\n    }\n</style>\n<table border=\"1\" class=\"dataframe\">\n  <thead>\n    <tr style=\"text-align: right;\">\n      <th></th>\n      <th>name</th>\n      <th>gender</th>\n      <th>strellas</th>\n      <th>resena</th>\n      <th>fecha</th>\n      <th>lugar</th>\n      <th>proyecto</th>\n      <th>url</th>\n      <th>x</th>\n      <th>y</th>\n    </tr>\n  </thead>\n  <tbody>\n    <tr>\n      <th>0</th>\n      <td>Olivia Ferreira</td>\n      <td>f</td>\n      <td>5</td>\n      <td>Ya me dieron seguimiento con mucha amabilidad ...</td>\n      <td>2022-03-16</td>\n      <td>UNITEC Los Reyes</td>\n      <td>TecMilenio</td>\n      <td>https://www.google.com/maps/place/UNITEC+Los+R...</td>\n      <td>19.3592234</td>\n      <td>-98.9935063</td>\n    </tr>\n    <tr>\n      <th>1</th>\n      <td>David Alva</td>\n      <td>m</td>\n      <td>1</td>\n      <td>Pésimo servicio educativo, administrativo, pur...</td>\n      <td>2022-03-16</td>\n      <td>UNITEC Los Reyes</td>\n      <td>TecMilenio</td>\n      <td>https://www.google.com/maps/place/UNITEC+Los+R...</td>\n      <td>19.3592234</td>\n      <td>-98.9935063</td>\n    </tr>\n    <tr>\n      <th>2</th>\n      <td>ᴢᴜʀɪᴇʟ ᴊᴏꜱᴜᴇ ᴠᴀʟᴀᴅᴇᴢ</td>\n      <td>a</td>\n      <td>1</td>\n      <td>Pesimo servicio, y que niveo educativo tan feo...</td>\n      <td>2022-03-16</td>\n      <td>UNITEC Los Reyes</td>\n      <td>TecMilenio</td>\n      <td>https://www.google.com/maps/place/UNITEC+Los+R...</td>\n      <td>19.3592234</td>\n      <td>-98.9935063</td>\n    </tr>\n    <tr>\n      <th>3</th>\n      <td>cristian</td>\n      <td>m</td>\n      <td>1</td>\n      <td>Da mucho miedo la zona y bueno la educación ah...</td>\n      <td>2022-03-16</td>\n      <td>UNITEC Los Reyes</td>\n      <td>TecMilenio</td>\n      <td>https://www.google.com/maps/place/UNITEC+Los+R...</td>\n      <td>19.3592234</td>\n      <td>-98.9935063</td>\n    </tr>\n    <tr>\n      <th>4</th>\n      <td>M Gm</td>\n      <td>a</td>\n      <td>1</td>\n      <td>Yo solo fui a pedir informes y según yo ya est...</td>\n      <td>2022-03-16</td>\n      <td>UNITEC Los Reyes</td>\n      <td>TecMilenio</td>\n      <td>https://www.google.com/maps/place/UNITEC+Los+R...</td>\n      <td>19.3592234</td>\n      <td>-98.9935063</td>\n    </tr>\n    <tr>\n      <th>...</th>\n      <td>...</td>\n      <td>...</td>\n      <td>...</td>\n      <td>...</td>\n      <td>...</td>\n      <td>...</td>\n      <td>...</td>\n      <td>...</td>\n      <td>...</td>\n      <td>...</td>\n    </tr>\n    <tr>\n      <th>115</th>\n      <td>Vega Ruiz Ximena Itzel</td>\n      <td>f</td>\n      <td>5</td>\n      <td></td>\n      <td>2022-03-16</td>\n      <td>UNITEC Los Reyes</td>\n      <td>TecMilenio</td>\n      <td>https://www.google.com/maps/place/UNITEC+Los+R...</td>\n      <td>19.3592234</td>\n      <td>-98.9935063</td>\n    </tr>\n    <tr>\n      <th>116</th>\n      <td>Adrian Portillo</td>\n      <td>m</td>\n      <td>5</td>\n      <td></td>\n      <td>2022-03-16</td>\n      <td>UNITEC Los Reyes</td>\n      <td>TecMilenio</td>\n      <td>https://www.google.com/maps/place/UNITEC+Los+R...</td>\n      <td>19.3592234</td>\n      <td>-98.9935063</td>\n    </tr>\n    <tr>\n      <th>117</th>\n      <td>Raúl López</td>\n      <td>m</td>\n      <td>5</td>\n      <td></td>\n      <td>2022-03-16</td>\n      <td>UNITEC Los Reyes</td>\n      <td>TecMilenio</td>\n      <td>https://www.google.com/maps/place/UNITEC+Los+R...</td>\n      <td>19.3592234</td>\n      <td>-98.9935063</td>\n    </tr>\n    <tr>\n      <th>118</th>\n      <td>Jessy Molina</td>\n      <td>f</td>\n      <td>5</td>\n      <td></td>\n      <td>2022-03-16</td>\n      <td>UNITEC Los Reyes</td>\n      <td>TecMilenio</td>\n      <td>https://www.google.com/maps/place/UNITEC+Los+R...</td>\n      <td>19.3592234</td>\n      <td>-98.9935063</td>\n    </tr>\n    <tr>\n      <th>119</th>\n      <td>にこかへやま</td>\n      <td>a</td>\n      <td>2</td>\n      <td></td>\n      <td>2022-03-16</td>\n      <td>UNITEC Los Reyes</td>\n      <td>TecMilenio</td>\n      <td>https://www.google.com/maps/place/UNITEC+Los+R...</td>\n      <td>19.3592234</td>\n      <td>-98.9935063</td>\n    </tr>\n  </tbody>\n</table>\n<p>120 rows × 10 columns</p>\n</div>",
      "text/plain": "                       name gender strellas  \\\n0           Olivia Ferreira      f        5   \n1                David Alva      m        1   \n2      ᴢᴜʀɪᴇʟ ᴊᴏꜱᴜᴇ ᴠᴀʟᴀᴅᴇᴢ      a        1   \n3                  cristian      m        1   \n4                      M Gm      a        1   \n..                      ...    ...      ...   \n115  Vega Ruiz Ximena Itzel      f        5   \n116         Adrian Portillo      m        5   \n117              Raúl López      m        5   \n118            Jessy Molina      f        5   \n119                  にこかへやま      a        2   \n\n                                                resena       fecha  \\\n0    Ya me dieron seguimiento con mucha amabilidad ...  2022-03-16   \n1    Pésimo servicio educativo, administrativo, pur...  2022-03-16   \n2    Pesimo servicio, y que niveo educativo tan feo...  2022-03-16   \n3    Da mucho miedo la zona y bueno la educación ah...  2022-03-16   \n4    Yo solo fui a pedir informes y según yo ya est...  2022-03-16   \n..                                                 ...         ...   \n115                                                     2022-03-16   \n116                                                     2022-03-16   \n117                                                     2022-03-16   \n118                                                     2022-03-16   \n119                                                     2022-03-16   \n\n                lugar    proyecto  \\\n0    UNITEC Los Reyes  TecMilenio   \n1    UNITEC Los Reyes  TecMilenio   \n2    UNITEC Los Reyes  TecMilenio   \n3    UNITEC Los Reyes  TecMilenio   \n4    UNITEC Los Reyes  TecMilenio   \n..                ...         ...   \n115  UNITEC Los Reyes  TecMilenio   \n116  UNITEC Los Reyes  TecMilenio   \n117  UNITEC Los Reyes  TecMilenio   \n118  UNITEC Los Reyes  TecMilenio   \n119  UNITEC Los Reyes  TecMilenio   \n\n                                                   url           x  \\\n0    https://www.google.com/maps/place/UNITEC+Los+R...  19.3592234   \n1    https://www.google.com/maps/place/UNITEC+Los+R...  19.3592234   \n2    https://www.google.com/maps/place/UNITEC+Los+R...  19.3592234   \n3    https://www.google.com/maps/place/UNITEC+Los+R...  19.3592234   \n4    https://www.google.com/maps/place/UNITEC+Los+R...  19.3592234   \n..                                                 ...         ...   \n115  https://www.google.com/maps/place/UNITEC+Los+R...  19.3592234   \n116  https://www.google.com/maps/place/UNITEC+Los+R...  19.3592234   \n117  https://www.google.com/maps/place/UNITEC+Los+R...  19.3592234   \n118  https://www.google.com/maps/place/UNITEC+Los+R...  19.3592234   \n119  https://www.google.com/maps/place/UNITEC+Los+R...  19.3592234   \n\n               y  \n0    -98.9935063  \n1    -98.9935063  \n2    -98.9935063  \n3    -98.9935063  \n4    -98.9935063  \n..           ...  \n115  -98.9935063  \n116  -98.9935063  \n117  -98.9935063  \n118  -98.9935063  \n119  -98.9935063  \n\n[120 rows x 10 columns]"
     },
     "execution_count": 999,
     "metadata": {},
     "output_type": "execute_result"
    }
   ],
   "execution_count": null
  },
  {
   "cell_type": "code",
   "metadata": {
    "cell_id": "00020-861fb051-0ff0-4fed-ab0b-4be5ab5296f7",
    "deepnote_cell_type": "code",
    "deepnote_cell_height": 187,
    "deepnote_output_heights": [
     90
    ]
   },
   "source": "df.groupby(['x']).count()",
   "outputs": [
    {
     "data": {
      "text/html": "<div>\n<style scoped>\n    .dataframe tbody tr th:only-of-type {\n        vertical-align: middle;\n    }\n\n    .dataframe tbody tr th {\n        vertical-align: top;\n    }\n\n    .dataframe thead th {\n        text-align: right;\n    }\n</style>\n<table border=\"1\" class=\"dataframe\">\n  <thead>\n    <tr style=\"text-align: right;\">\n      <th></th>\n      <th>name</th>\n      <th>gender</th>\n      <th>strellas</th>\n      <th>resena</th>\n      <th>fecha</th>\n      <th>lugar</th>\n      <th>proyecto</th>\n      <th>url</th>\n      <th>y</th>\n    </tr>\n    <tr>\n      <th>x</th>\n      <th></th>\n      <th></th>\n      <th></th>\n      <th></th>\n      <th></th>\n      <th></th>\n      <th></th>\n      <th></th>\n      <th></th>\n    </tr>\n  </thead>\n  <tbody>\n    <tr>\n      <th>19.3592234</th>\n      <td>120</td>\n      <td>120</td>\n      <td>120</td>\n      <td>120</td>\n      <td>120</td>\n      <td>120</td>\n      <td>120</td>\n      <td>120</td>\n      <td>120</td>\n    </tr>\n  </tbody>\n</table>\n</div>",
      "text/plain": "            name  gender  strellas  resena  fecha  lugar  proyecto  url    y\nx                                                                           \n19.3592234   120     120       120     120    120    120       120  120  120"
     },
     "execution_count": 1000,
     "metadata": {},
     "output_type": "execute_result"
    }
   ],
   "execution_count": null
  },
  {
   "cell_type": "code",
   "metadata": {
    "cell_id": "00021-5204f42c-58ec-43ec-b532-59f2e81855bd",
    "deepnote_cell_type": "code",
    "deepnote_cell_height": 66
   },
   "source": "export_csv = df.to_csv (\"TM_UNITEC_10.csv\", index = None, header=True , encoding='UTF-8')",
   "outputs": [],
   "execution_count": null
  },
  {
   "cell_type": "code",
   "metadata": {
    "cell_id": "00022-db4b85f2-874c-4811-bad0-d53cc014ebd2",
    "deepnote_cell_type": "code",
    "deepnote_cell_height": 66
   },
   "source": "#pip install plotly",
   "outputs": [],
   "execution_count": null
  },
  {
   "cell_type": "code",
   "metadata": {
    "cell_id": "00023-322dbbac-4fc2-44ed-82db-9acd364973bc",
    "deepnote_cell_type": "code",
    "deepnote_cell_height": 696,
    "deepnote_output_heights": [
     527
    ]
   },
   "source": "import plotly.express as px\nfig = px.density_mapbox(df, lat='x', lon='y', z='strellas', radius=5,\n                        center=dict(lat=20.69, lon=-100.43), zoom=8,\n                        mapbox_style=\"open-street-map\")\nfig.show()",
   "outputs": [
    {
     "data": {
      "application/vnd.plotly.v1+json": {
       "config": {
        "plotlyServerURL": "https://plot.ly"
       },
       "data": [
        {
         "coloraxis": "coloraxis",
         "hovertemplate": "strellas=%{z}<br>x=%{lat}<br>y=%{lon}<extra></extra>",
         "lat": [
          "19.499572",
          "19.499572",
          "19.499572",
          "19.499572",
          "19.499572",
          "19.499572",
          "19.499572",
          "19.499572",
          "19.499572",
          "19.499572",
          "19.499572",
          "19.499572",
          "19.499572",
          "19.499572",
          "19.499572",
          "19.499572",
          "19.499572",
          "19.499572",
          "19.499572",
          "19.499572",
          "19.499572",
          "19.499572",
          "19.499572",
          "19.499572",
          "19.499572",
          "19.499572",
          "19.499572",
          "19.499572",
          "19.499572",
          "19.499572",
          "19.499572",
          "19.499572",
          "19.499572",
          "19.499572",
          "19.499572",
          "19.499572",
          "19.499572",
          "19.499572",
          "19.499572",
          "19.499572",
          "19.499572",
          "19.499572",
          "19.499572",
          "19.499572",
          "19.499572",
          "19.499572",
          "19.499572",
          "19.499572",
          "19.499572",
          "19.499572",
          "19.499572",
          "19.499572",
          "19.499572",
          "19.499572",
          "19.499572",
          "19.499572",
          "19.499572",
          "19.499572",
          "19.499572",
          "19.499572",
          "19.499572",
          "19.499572",
          "19.499572",
          "19.499572",
          "19.499572",
          "19.499572",
          "19.499572",
          "19.499572",
          "19.499572",
          "19.499572",
          "19.499572",
          "19.499572",
          "19.499572",
          "19.499572",
          "19.499572",
          "19.499572",
          "19.499572",
          "19.499572",
          "19.499572",
          "19.499572",
          "19.499572",
          "19.499572",
          "19.499572",
          "19.499572",
          "19.499572",
          "19.499572",
          "19.499572",
          "19.499572",
          "19.499572",
          "19.499572"
         ],
         "lon": [
          "-99.1756297",
          "-99.1756297",
          "-99.1756297",
          "-99.1756297",
          "-99.1756297",
          "-99.1756297",
          "-99.1756297",
          "-99.1756297",
          "-99.1756297",
          "-99.1756297",
          "-99.1756297",
          "-99.1756297",
          "-99.1756297",
          "-99.1756297",
          "-99.1756297",
          "-99.1756297",
          "-99.1756297",
          "-99.1756297",
          "-99.1756297",
          "-99.1756297",
          "-99.1756297",
          "-99.1756297",
          "-99.1756297",
          "-99.1756297",
          "-99.1756297",
          "-99.1756297",
          "-99.1756297",
          "-99.1756297",
          "-99.1756297",
          "-99.1756297",
          "-99.1756297",
          "-99.1756297",
          "-99.1756297",
          "-99.1756297",
          "-99.1756297",
          "-99.1756297",
          "-99.1756297",
          "-99.1756297",
          "-99.1756297",
          "-99.1756297",
          "-99.1756297",
          "-99.1756297",
          "-99.1756297",
          "-99.1756297",
          "-99.1756297",
          "-99.1756297",
          "-99.1756297",
          "-99.1756297",
          "-99.1756297",
          "-99.1756297",
          "-99.1756297",
          "-99.1756297",
          "-99.1756297",
          "-99.1756297",
          "-99.1756297",
          "-99.1756297",
          "-99.1756297",
          "-99.1756297",
          "-99.1756297",
          "-99.1756297",
          "-99.1756297",
          "-99.1756297",
          "-99.1756297",
          "-99.1756297",
          "-99.1756297",
          "-99.1756297",
          "-99.1756297",
          "-99.1756297",
          "-99.1756297",
          "-99.1756297",
          "-99.1756297",
          "-99.1756297",
          "-99.1756297",
          "-99.1756297",
          "-99.1756297",
          "-99.1756297",
          "-99.1756297",
          "-99.1756297",
          "-99.1756297",
          "-99.1756297",
          "-99.1756297",
          "-99.1756297",
          "-99.1756297",
          "-99.1756297",
          "-99.1756297",
          "-99.1756297",
          "-99.1756297",
          "-99.1756297",
          "-99.1756297",
          "-99.1756297"
         ],
         "name": "",
         "radius": 5,
         "subplot": "mapbox",
         "type": "densitymapbox",
         "z": [
          "3",
          "4",
          "5",
          "5",
          "1",
          "4",
          "5",
          "5",
          "5",
          "5",
          "1",
          "1",
          "1",
          "5",
          "1",
          "5",
          "1",
          "1",
          "1",
          "1",
          "1",
          "2",
          "2",
          "5",
          "1",
          "1",
          "1",
          "1",
          "5",
          "5",
          "1",
          "1",
          "1",
          "1",
          "5",
          "2",
          "2",
          "5",
          "5",
          "5",
          "1",
          "5",
          "5",
          "5",
          "5",
          "5",
          "5",
          "5",
          "5",
          "5",
          "1",
          "5",
          "1",
          "4",
          "5",
          "5",
          "1",
          "1",
          "1",
          "5",
          "5",
          "4",
          "5",
          "3",
          "4",
          "5",
          "5",
          "5",
          "5",
          "3",
          "1",
          "5",
          "5",
          "5",
          "5",
          "5",
          "1",
          "5",
          "5",
          "5",
          "5",
          "5",
          "5",
          "5",
          "3",
          "5",
          "3",
          "1",
          "5",
          "5"
         ]
        }
       ],
       "layout": {
        "coloraxis": {
         "colorbar": {
          "title": {
           "text": "strellas"
          }
         },
         "colorscale": [
          [
           0,
           "#0d0887"
          ],
          [
           0.1111111111111111,
           "#46039f"
          ],
          [
           0.2222222222222222,
           "#7201a8"
          ],
          [
           0.3333333333333333,
           "#9c179e"
          ],
          [
           0.4444444444444444,
           "#bd3786"
          ],
          [
           0.5555555555555556,
           "#d8576b"
          ],
          [
           0.6666666666666666,
           "#ed7953"
          ],
          [
           0.7777777777777778,
           "#fb9f3a"
          ],
          [
           0.8888888888888888,
           "#fdca26"
          ],
          [
           1,
           "#f0f921"
          ]
         ]
        },
        "legend": {
         "tracegroupgap": 0
        },
        "mapbox": {
         "center": {
          "lat": 20.69,
          "lon": -100.43
         },
         "domain": {
          "x": [
           0,
           1
          ],
          "y": [
           0,
           1
          ]
         },
         "style": "open-street-map",
         "zoom": 8
        },
        "margin": {
         "t": 60
        },
        "template": {
         "data": {
          "bar": [
           {
            "error_x": {
             "color": "#2a3f5f"
            },
            "error_y": {
             "color": "#2a3f5f"
            },
            "marker": {
             "line": {
              "color": "#E5ECF6",
              "width": 0.5
             },
             "pattern": {
              "fillmode": "overlay",
              "size": 10,
              "solidity": 0.2
             }
            },
            "type": "bar"
           }
          ],
          "barpolar": [
           {
            "marker": {
             "line": {
              "color": "#E5ECF6",
              "width": 0.5
             },
             "pattern": {
              "fillmode": "overlay",
              "size": 10,
              "solidity": 0.2
             }
            },
            "type": "barpolar"
           }
          ],
          "carpet": [
           {
            "aaxis": {
             "endlinecolor": "#2a3f5f",
             "gridcolor": "white",
             "linecolor": "white",
             "minorgridcolor": "white",
             "startlinecolor": "#2a3f5f"
            },
            "baxis": {
             "endlinecolor": "#2a3f5f",
             "gridcolor": "white",
             "linecolor": "white",
             "minorgridcolor": "white",
             "startlinecolor": "#2a3f5f"
            },
            "type": "carpet"
           }
          ],
          "choropleth": [
           {
            "colorbar": {
             "outlinewidth": 0,
             "ticks": ""
            },
            "type": "choropleth"
           }
          ],
          "contour": [
           {
            "colorbar": {
             "outlinewidth": 0,
             "ticks": ""
            },
            "colorscale": [
             [
              0,
              "#0d0887"
             ],
             [
              0.1111111111111111,
              "#46039f"
             ],
             [
              0.2222222222222222,
              "#7201a8"
             ],
             [
              0.3333333333333333,
              "#9c179e"
             ],
             [
              0.4444444444444444,
              "#bd3786"
             ],
             [
              0.5555555555555556,
              "#d8576b"
             ],
             [
              0.6666666666666666,
              "#ed7953"
             ],
             [
              0.7777777777777778,
              "#fb9f3a"
             ],
             [
              0.8888888888888888,
              "#fdca26"
             ],
             [
              1,
              "#f0f921"
             ]
            ],
            "type": "contour"
           }
          ],
          "contourcarpet": [
           {
            "colorbar": {
             "outlinewidth": 0,
             "ticks": ""
            },
            "type": "contourcarpet"
           }
          ],
          "heatmap": [
           {
            "colorbar": {
             "outlinewidth": 0,
             "ticks": ""
            },
            "colorscale": [
             [
              0,
              "#0d0887"
             ],
             [
              0.1111111111111111,
              "#46039f"
             ],
             [
              0.2222222222222222,
              "#7201a8"
             ],
             [
              0.3333333333333333,
              "#9c179e"
             ],
             [
              0.4444444444444444,
              "#bd3786"
             ],
             [
              0.5555555555555556,
              "#d8576b"
             ],
             [
              0.6666666666666666,
              "#ed7953"
             ],
             [
              0.7777777777777778,
              "#fb9f3a"
             ],
             [
              0.8888888888888888,
              "#fdca26"
             ],
             [
              1,
              "#f0f921"
             ]
            ],
            "type": "heatmap"
           }
          ],
          "heatmapgl": [
           {
            "colorbar": {
             "outlinewidth": 0,
             "ticks": ""
            },
            "colorscale": [
             [
              0,
              "#0d0887"
             ],
             [
              0.1111111111111111,
              "#46039f"
             ],
             [
              0.2222222222222222,
              "#7201a8"
             ],
             [
              0.3333333333333333,
              "#9c179e"
             ],
             [
              0.4444444444444444,
              "#bd3786"
             ],
             [
              0.5555555555555556,
              "#d8576b"
             ],
             [
              0.6666666666666666,
              "#ed7953"
             ],
             [
              0.7777777777777778,
              "#fb9f3a"
             ],
             [
              0.8888888888888888,
              "#fdca26"
             ],
             [
              1,
              "#f0f921"
             ]
            ],
            "type": "heatmapgl"
           }
          ],
          "histogram": [
           {
            "marker": {
             "pattern": {
              "fillmode": "overlay",
              "size": 10,
              "solidity": 0.2
             }
            },
            "type": "histogram"
           }
          ],
          "histogram2d": [
           {
            "colorbar": {
             "outlinewidth": 0,
             "ticks": ""
            },
            "colorscale": [
             [
              0,
              "#0d0887"
             ],
             [
              0.1111111111111111,
              "#46039f"
             ],
             [
              0.2222222222222222,
              "#7201a8"
             ],
             [
              0.3333333333333333,
              "#9c179e"
             ],
             [
              0.4444444444444444,
              "#bd3786"
             ],
             [
              0.5555555555555556,
              "#d8576b"
             ],
             [
              0.6666666666666666,
              "#ed7953"
             ],
             [
              0.7777777777777778,
              "#fb9f3a"
             ],
             [
              0.8888888888888888,
              "#fdca26"
             ],
             [
              1,
              "#f0f921"
             ]
            ],
            "type": "histogram2d"
           }
          ],
          "histogram2dcontour": [
           {
            "colorbar": {
             "outlinewidth": 0,
             "ticks": ""
            },
            "colorscale": [
             [
              0,
              "#0d0887"
             ],
             [
              0.1111111111111111,
              "#46039f"
             ],
             [
              0.2222222222222222,
              "#7201a8"
             ],
             [
              0.3333333333333333,
              "#9c179e"
             ],
             [
              0.4444444444444444,
              "#bd3786"
             ],
             [
              0.5555555555555556,
              "#d8576b"
             ],
             [
              0.6666666666666666,
              "#ed7953"
             ],
             [
              0.7777777777777778,
              "#fb9f3a"
             ],
             [
              0.8888888888888888,
              "#fdca26"
             ],
             [
              1,
              "#f0f921"
             ]
            ],
            "type": "histogram2dcontour"
           }
          ],
          "mesh3d": [
           {
            "colorbar": {
             "outlinewidth": 0,
             "ticks": ""
            },
            "type": "mesh3d"
           }
          ],
          "parcoords": [
           {
            "line": {
             "colorbar": {
              "outlinewidth": 0,
              "ticks": ""
             }
            },
            "type": "parcoords"
           }
          ],
          "pie": [
           {
            "automargin": true,
            "type": "pie"
           }
          ],
          "scatter": [
           {
            "marker": {
             "colorbar": {
              "outlinewidth": 0,
              "ticks": ""
             }
            },
            "type": "scatter"
           }
          ],
          "scatter3d": [
           {
            "line": {
             "colorbar": {
              "outlinewidth": 0,
              "ticks": ""
             }
            },
            "marker": {
             "colorbar": {
              "outlinewidth": 0,
              "ticks": ""
             }
            },
            "type": "scatter3d"
           }
          ],
          "scattercarpet": [
           {
            "marker": {
             "colorbar": {
              "outlinewidth": 0,
              "ticks": ""
             }
            },
            "type": "scattercarpet"
           }
          ],
          "scattergeo": [
           {
            "marker": {
             "colorbar": {
              "outlinewidth": 0,
              "ticks": ""
             }
            },
            "type": "scattergeo"
           }
          ],
          "scattergl": [
           {
            "marker": {
             "colorbar": {
              "outlinewidth": 0,
              "ticks": ""
             }
            },
            "type": "scattergl"
           }
          ],
          "scattermapbox": [
           {
            "marker": {
             "colorbar": {
              "outlinewidth": 0,
              "ticks": ""
             }
            },
            "type": "scattermapbox"
           }
          ],
          "scatterpolar": [
           {
            "marker": {
             "colorbar": {
              "outlinewidth": 0,
              "ticks": ""
             }
            },
            "type": "scatterpolar"
           }
          ],
          "scatterpolargl": [
           {
            "marker": {
             "colorbar": {
              "outlinewidth": 0,
              "ticks": ""
             }
            },
            "type": "scatterpolargl"
           }
          ],
          "scatterternary": [
           {
            "marker": {
             "colorbar": {
              "outlinewidth": 0,
              "ticks": ""
             }
            },
            "type": "scatterternary"
           }
          ],
          "surface": [
           {
            "colorbar": {
             "outlinewidth": 0,
             "ticks": ""
            },
            "colorscale": [
             [
              0,
              "#0d0887"
             ],
             [
              0.1111111111111111,
              "#46039f"
             ],
             [
              0.2222222222222222,
              "#7201a8"
             ],
             [
              0.3333333333333333,
              "#9c179e"
             ],
             [
              0.4444444444444444,
              "#bd3786"
             ],
             [
              0.5555555555555556,
              "#d8576b"
             ],
             [
              0.6666666666666666,
              "#ed7953"
             ],
             [
              0.7777777777777778,
              "#fb9f3a"
             ],
             [
              0.8888888888888888,
              "#fdca26"
             ],
             [
              1,
              "#f0f921"
             ]
            ],
            "type": "surface"
           }
          ],
          "table": [
           {
            "cells": {
             "fill": {
              "color": "#EBF0F8"
             },
             "line": {
              "color": "white"
             }
            },
            "header": {
             "fill": {
              "color": "#C8D4E3"
             },
             "line": {
              "color": "white"
             }
            },
            "type": "table"
           }
          ]
         },
         "layout": {
          "annotationdefaults": {
           "arrowcolor": "#2a3f5f",
           "arrowhead": 0,
           "arrowwidth": 1
          },
          "autotypenumbers": "strict",
          "coloraxis": {
           "colorbar": {
            "outlinewidth": 0,
            "ticks": ""
           }
          },
          "colorscale": {
           "diverging": [
            [
             0,
             "#8e0152"
            ],
            [
             0.1,
             "#c51b7d"
            ],
            [
             0.2,
             "#de77ae"
            ],
            [
             0.3,
             "#f1b6da"
            ],
            [
             0.4,
             "#fde0ef"
            ],
            [
             0.5,
             "#f7f7f7"
            ],
            [
             0.6,
             "#e6f5d0"
            ],
            [
             0.7,
             "#b8e186"
            ],
            [
             0.8,
             "#7fbc41"
            ],
            [
             0.9,
             "#4d9221"
            ],
            [
             1,
             "#276419"
            ]
           ],
           "sequential": [
            [
             0,
             "#0d0887"
            ],
            [
             0.1111111111111111,
             "#46039f"
            ],
            [
             0.2222222222222222,
             "#7201a8"
            ],
            [
             0.3333333333333333,
             "#9c179e"
            ],
            [
             0.4444444444444444,
             "#bd3786"
            ],
            [
             0.5555555555555556,
             "#d8576b"
            ],
            [
             0.6666666666666666,
             "#ed7953"
            ],
            [
             0.7777777777777778,
             "#fb9f3a"
            ],
            [
             0.8888888888888888,
             "#fdca26"
            ],
            [
             1,
             "#f0f921"
            ]
           ],
           "sequentialminus": [
            [
             0,
             "#0d0887"
            ],
            [
             0.1111111111111111,
             "#46039f"
            ],
            [
             0.2222222222222222,
             "#7201a8"
            ],
            [
             0.3333333333333333,
             "#9c179e"
            ],
            [
             0.4444444444444444,
             "#bd3786"
            ],
            [
             0.5555555555555556,
             "#d8576b"
            ],
            [
             0.6666666666666666,
             "#ed7953"
            ],
            [
             0.7777777777777778,
             "#fb9f3a"
            ],
            [
             0.8888888888888888,
             "#fdca26"
            ],
            [
             1,
             "#f0f921"
            ]
           ]
          },
          "colorway": [
           "#636efa",
           "#EF553B",
           "#00cc96",
           "#ab63fa",
           "#FFA15A",
           "#19d3f3",
           "#FF6692",
           "#B6E880",
           "#FF97FF",
           "#FECB52"
          ],
          "font": {
           "color": "#2a3f5f"
          },
          "geo": {
           "bgcolor": "white",
           "lakecolor": "white",
           "landcolor": "#E5ECF6",
           "showlakes": true,
           "showland": true,
           "subunitcolor": "white"
          },
          "hoverlabel": {
           "align": "left"
          },
          "hovermode": "closest",
          "mapbox": {
           "style": "light"
          },
          "paper_bgcolor": "white",
          "plot_bgcolor": "#E5ECF6",
          "polar": {
           "angularaxis": {
            "gridcolor": "white",
            "linecolor": "white",
            "ticks": ""
           },
           "bgcolor": "#E5ECF6",
           "radialaxis": {
            "gridcolor": "white",
            "linecolor": "white",
            "ticks": ""
           }
          },
          "scene": {
           "xaxis": {
            "backgroundcolor": "#E5ECF6",
            "gridcolor": "white",
            "gridwidth": 2,
            "linecolor": "white",
            "showbackground": true,
            "ticks": "",
            "zerolinecolor": "white"
           },
           "yaxis": {
            "backgroundcolor": "#E5ECF6",
            "gridcolor": "white",
            "gridwidth": 2,
            "linecolor": "white",
            "showbackground": true,
            "ticks": "",
            "zerolinecolor": "white"
           },
           "zaxis": {
            "backgroundcolor": "#E5ECF6",
            "gridcolor": "white",
            "gridwidth": 2,
            "linecolor": "white",
            "showbackground": true,
            "ticks": "",
            "zerolinecolor": "white"
           }
          },
          "shapedefaults": {
           "line": {
            "color": "#2a3f5f"
           }
          },
          "ternary": {
           "aaxis": {
            "gridcolor": "white",
            "linecolor": "white",
            "ticks": ""
           },
           "baxis": {
            "gridcolor": "white",
            "linecolor": "white",
            "ticks": ""
           },
           "bgcolor": "#E5ECF6",
           "caxis": {
            "gridcolor": "white",
            "linecolor": "white",
            "ticks": ""
           }
          },
          "title": {
           "x": 0.05
          },
          "xaxis": {
           "automargin": true,
           "gridcolor": "white",
           "linecolor": "white",
           "ticks": "",
           "title": {
            "standoff": 15
           },
           "zerolinecolor": "white",
           "zerolinewidth": 2
          },
          "yaxis": {
           "automargin": true,
           "gridcolor": "white",
           "linecolor": "white",
           "ticks": "",
           "title": {
            "standoff": 15
           },
           "zerolinecolor": "white",
           "zerolinewidth": 2
          }
         }
        }
       }
      },
      "text/html": "<div>                            <div id=\"880cefa1-3118-4123-b344-2cb986ed7a28\" class=\"plotly-graph-div\" style=\"height:525px; width:100%;\"></div>            <script type=\"text/javascript\">                require([\"plotly\"], function(Plotly) {                    window.PLOTLYENV=window.PLOTLYENV || {};                                    if (document.getElementById(\"880cefa1-3118-4123-b344-2cb986ed7a28\")) {                    Plotly.newPlot(                        \"880cefa1-3118-4123-b344-2cb986ed7a28\",                        [{\"coloraxis\":\"coloraxis\",\"hovertemplate\":\"strellas=%{z}<br>x=%{lat}<br>y=%{lon}<extra></extra>\",\"lat\":[\"19.499572\",\"19.499572\",\"19.499572\",\"19.499572\",\"19.499572\",\"19.499572\",\"19.499572\",\"19.499572\",\"19.499572\",\"19.499572\",\"19.499572\",\"19.499572\",\"19.499572\",\"19.499572\",\"19.499572\",\"19.499572\",\"19.499572\",\"19.499572\",\"19.499572\",\"19.499572\",\"19.499572\",\"19.499572\",\"19.499572\",\"19.499572\",\"19.499572\",\"19.499572\",\"19.499572\",\"19.499572\",\"19.499572\",\"19.499572\",\"19.499572\",\"19.499572\",\"19.499572\",\"19.499572\",\"19.499572\",\"19.499572\",\"19.499572\",\"19.499572\",\"19.499572\",\"19.499572\",\"19.499572\",\"19.499572\",\"19.499572\",\"19.499572\",\"19.499572\",\"19.499572\",\"19.499572\",\"19.499572\",\"19.499572\",\"19.499572\",\"19.499572\",\"19.499572\",\"19.499572\",\"19.499572\",\"19.499572\",\"19.499572\",\"19.499572\",\"19.499572\",\"19.499572\",\"19.499572\",\"19.499572\",\"19.499572\",\"19.499572\",\"19.499572\",\"19.499572\",\"19.499572\",\"19.499572\",\"19.499572\",\"19.499572\",\"19.499572\",\"19.499572\",\"19.499572\",\"19.499572\",\"19.499572\",\"19.499572\",\"19.499572\",\"19.499572\",\"19.499572\",\"19.499572\",\"19.499572\",\"19.499572\",\"19.499572\",\"19.499572\",\"19.499572\",\"19.499572\",\"19.499572\",\"19.499572\",\"19.499572\",\"19.499572\",\"19.499572\"],\"lon\":[\"-99.1756297\",\"-99.1756297\",\"-99.1756297\",\"-99.1756297\",\"-99.1756297\",\"-99.1756297\",\"-99.1756297\",\"-99.1756297\",\"-99.1756297\",\"-99.1756297\",\"-99.1756297\",\"-99.1756297\",\"-99.1756297\",\"-99.1756297\",\"-99.1756297\",\"-99.1756297\",\"-99.1756297\",\"-99.1756297\",\"-99.1756297\",\"-99.1756297\",\"-99.1756297\",\"-99.1756297\",\"-99.1756297\",\"-99.1756297\",\"-99.1756297\",\"-99.1756297\",\"-99.1756297\",\"-99.1756297\",\"-99.1756297\",\"-99.1756297\",\"-99.1756297\",\"-99.1756297\",\"-99.1756297\",\"-99.1756297\",\"-99.1756297\",\"-99.1756297\",\"-99.1756297\",\"-99.1756297\",\"-99.1756297\",\"-99.1756297\",\"-99.1756297\",\"-99.1756297\",\"-99.1756297\",\"-99.1756297\",\"-99.1756297\",\"-99.1756297\",\"-99.1756297\",\"-99.1756297\",\"-99.1756297\",\"-99.1756297\",\"-99.1756297\",\"-99.1756297\",\"-99.1756297\",\"-99.1756297\",\"-99.1756297\",\"-99.1756297\",\"-99.1756297\",\"-99.1756297\",\"-99.1756297\",\"-99.1756297\",\"-99.1756297\",\"-99.1756297\",\"-99.1756297\",\"-99.1756297\",\"-99.1756297\",\"-99.1756297\",\"-99.1756297\",\"-99.1756297\",\"-99.1756297\",\"-99.1756297\",\"-99.1756297\",\"-99.1756297\",\"-99.1756297\",\"-99.1756297\",\"-99.1756297\",\"-99.1756297\",\"-99.1756297\",\"-99.1756297\",\"-99.1756297\",\"-99.1756297\",\"-99.1756297\",\"-99.1756297\",\"-99.1756297\",\"-99.1756297\",\"-99.1756297\",\"-99.1756297\",\"-99.1756297\",\"-99.1756297\",\"-99.1756297\",\"-99.1756297\"],\"name\":\"\",\"radius\":5,\"subplot\":\"mapbox\",\"type\":\"densitymapbox\",\"z\":[\"3\",\"4\",\"5\",\"5\",\"1\",\"4\",\"5\",\"5\",\"5\",\"5\",\"1\",\"1\",\"1\",\"5\",\"1\",\"5\",\"1\",\"1\",\"1\",\"1\",\"1\",\"2\",\"2\",\"5\",\"1\",\"1\",\"1\",\"1\",\"5\",\"5\",\"1\",\"1\",\"1\",\"1\",\"5\",\"2\",\"2\",\"5\",\"5\",\"5\",\"1\",\"5\",\"5\",\"5\",\"5\",\"5\",\"5\",\"5\",\"5\",\"5\",\"1\",\"5\",\"1\",\"4\",\"5\",\"5\",\"1\",\"1\",\"1\",\"5\",\"5\",\"4\",\"5\",\"3\",\"4\",\"5\",\"5\",\"5\",\"5\",\"3\",\"1\",\"5\",\"5\",\"5\",\"5\",\"5\",\"1\",\"5\",\"5\",\"5\",\"5\",\"5\",\"5\",\"5\",\"3\",\"5\",\"3\",\"1\",\"5\",\"5\"]}],                        {\"coloraxis\":{\"colorbar\":{\"title\":{\"text\":\"strellas\"}},\"colorscale\":[[0.0,\"#0d0887\"],[0.1111111111111111,\"#46039f\"],[0.2222222222222222,\"#7201a8\"],[0.3333333333333333,\"#9c179e\"],[0.4444444444444444,\"#bd3786\"],[0.5555555555555556,\"#d8576b\"],[0.6666666666666666,\"#ed7953\"],[0.7777777777777778,\"#fb9f3a\"],[0.8888888888888888,\"#fdca26\"],[1.0,\"#f0f921\"]]},\"legend\":{\"tracegroupgap\":0},\"mapbox\":{\"center\":{\"lat\":20.69,\"lon\":-100.43},\"domain\":{\"x\":[0.0,1.0],\"y\":[0.0,1.0]},\"style\":\"open-street-map\",\"zoom\":8},\"margin\":{\"t\":60},\"template\":{\"data\":{\"bar\":[{\"error_x\":{\"color\":\"#2a3f5f\"},\"error_y\":{\"color\":\"#2a3f5f\"},\"marker\":{\"line\":{\"color\":\"#E5ECF6\",\"width\":0.5},\"pattern\":{\"fillmode\":\"overlay\",\"size\":10,\"solidity\":0.2}},\"type\":\"bar\"}],\"barpolar\":[{\"marker\":{\"line\":{\"color\":\"#E5ECF6\",\"width\":0.5},\"pattern\":{\"fillmode\":\"overlay\",\"size\":10,\"solidity\":0.2}},\"type\":\"barpolar\"}],\"carpet\":[{\"aaxis\":{\"endlinecolor\":\"#2a3f5f\",\"gridcolor\":\"white\",\"linecolor\":\"white\",\"minorgridcolor\":\"white\",\"startlinecolor\":\"#2a3f5f\"},\"baxis\":{\"endlinecolor\":\"#2a3f5f\",\"gridcolor\":\"white\",\"linecolor\":\"white\",\"minorgridcolor\":\"white\",\"startlinecolor\":\"#2a3f5f\"},\"type\":\"carpet\"}],\"choropleth\":[{\"colorbar\":{\"outlinewidth\":0,\"ticks\":\"\"},\"type\":\"choropleth\"}],\"contour\":[{\"colorbar\":{\"outlinewidth\":0,\"ticks\":\"\"},\"colorscale\":[[0.0,\"#0d0887\"],[0.1111111111111111,\"#46039f\"],[0.2222222222222222,\"#7201a8\"],[0.3333333333333333,\"#9c179e\"],[0.4444444444444444,\"#bd3786\"],[0.5555555555555556,\"#d8576b\"],[0.6666666666666666,\"#ed7953\"],[0.7777777777777778,\"#fb9f3a\"],[0.8888888888888888,\"#fdca26\"],[1.0,\"#f0f921\"]],\"type\":\"contour\"}],\"contourcarpet\":[{\"colorbar\":{\"outlinewidth\":0,\"ticks\":\"\"},\"type\":\"contourcarpet\"}],\"heatmap\":[{\"colorbar\":{\"outlinewidth\":0,\"ticks\":\"\"},\"colorscale\":[[0.0,\"#0d0887\"],[0.1111111111111111,\"#46039f\"],[0.2222222222222222,\"#7201a8\"],[0.3333333333333333,\"#9c179e\"],[0.4444444444444444,\"#bd3786\"],[0.5555555555555556,\"#d8576b\"],[0.6666666666666666,\"#ed7953\"],[0.7777777777777778,\"#fb9f3a\"],[0.8888888888888888,\"#fdca26\"],[1.0,\"#f0f921\"]],\"type\":\"heatmap\"}],\"heatmapgl\":[{\"colorbar\":{\"outlinewidth\":0,\"ticks\":\"\"},\"colorscale\":[[0.0,\"#0d0887\"],[0.1111111111111111,\"#46039f\"],[0.2222222222222222,\"#7201a8\"],[0.3333333333333333,\"#9c179e\"],[0.4444444444444444,\"#bd3786\"],[0.5555555555555556,\"#d8576b\"],[0.6666666666666666,\"#ed7953\"],[0.7777777777777778,\"#fb9f3a\"],[0.8888888888888888,\"#fdca26\"],[1.0,\"#f0f921\"]],\"type\":\"heatmapgl\"}],\"histogram\":[{\"marker\":{\"pattern\":{\"fillmode\":\"overlay\",\"size\":10,\"solidity\":0.2}},\"type\":\"histogram\"}],\"histogram2d\":[{\"colorbar\":{\"outlinewidth\":0,\"ticks\":\"\"},\"colorscale\":[[0.0,\"#0d0887\"],[0.1111111111111111,\"#46039f\"],[0.2222222222222222,\"#7201a8\"],[0.3333333333333333,\"#9c179e\"],[0.4444444444444444,\"#bd3786\"],[0.5555555555555556,\"#d8576b\"],[0.6666666666666666,\"#ed7953\"],[0.7777777777777778,\"#fb9f3a\"],[0.8888888888888888,\"#fdca26\"],[1.0,\"#f0f921\"]],\"type\":\"histogram2d\"}],\"histogram2dcontour\":[{\"colorbar\":{\"outlinewidth\":0,\"ticks\":\"\"},\"colorscale\":[[0.0,\"#0d0887\"],[0.1111111111111111,\"#46039f\"],[0.2222222222222222,\"#7201a8\"],[0.3333333333333333,\"#9c179e\"],[0.4444444444444444,\"#bd3786\"],[0.5555555555555556,\"#d8576b\"],[0.6666666666666666,\"#ed7953\"],[0.7777777777777778,\"#fb9f3a\"],[0.8888888888888888,\"#fdca26\"],[1.0,\"#f0f921\"]],\"type\":\"histogram2dcontour\"}],\"mesh3d\":[{\"colorbar\":{\"outlinewidth\":0,\"ticks\":\"\"},\"type\":\"mesh3d\"}],\"parcoords\":[{\"line\":{\"colorbar\":{\"outlinewidth\":0,\"ticks\":\"\"}},\"type\":\"parcoords\"}],\"pie\":[{\"automargin\":true,\"type\":\"pie\"}],\"scatter\":[{\"marker\":{\"colorbar\":{\"outlinewidth\":0,\"ticks\":\"\"}},\"type\":\"scatter\"}],\"scatter3d\":[{\"line\":{\"colorbar\":{\"outlinewidth\":0,\"ticks\":\"\"}},\"marker\":{\"colorbar\":{\"outlinewidth\":0,\"ticks\":\"\"}},\"type\":\"scatter3d\"}],\"scattercarpet\":[{\"marker\":{\"colorbar\":{\"outlinewidth\":0,\"ticks\":\"\"}},\"type\":\"scattercarpet\"}],\"scattergeo\":[{\"marker\":{\"colorbar\":{\"outlinewidth\":0,\"ticks\":\"\"}},\"type\":\"scattergeo\"}],\"scattergl\":[{\"marker\":{\"colorbar\":{\"outlinewidth\":0,\"ticks\":\"\"}},\"type\":\"scattergl\"}],\"scattermapbox\":[{\"marker\":{\"colorbar\":{\"outlinewidth\":0,\"ticks\":\"\"}},\"type\":\"scattermapbox\"}],\"scatterpolar\":[{\"marker\":{\"colorbar\":{\"outlinewidth\":0,\"ticks\":\"\"}},\"type\":\"scatterpolar\"}],\"scatterpolargl\":[{\"marker\":{\"colorbar\":{\"outlinewidth\":0,\"ticks\":\"\"}},\"type\":\"scatterpolargl\"}],\"scatterternary\":[{\"marker\":{\"colorbar\":{\"outlinewidth\":0,\"ticks\":\"\"}},\"type\":\"scatterternary\"}],\"surface\":[{\"colorbar\":{\"outlinewidth\":0,\"ticks\":\"\"},\"colorscale\":[[0.0,\"#0d0887\"],[0.1111111111111111,\"#46039f\"],[0.2222222222222222,\"#7201a8\"],[0.3333333333333333,\"#9c179e\"],[0.4444444444444444,\"#bd3786\"],[0.5555555555555556,\"#d8576b\"],[0.6666666666666666,\"#ed7953\"],[0.7777777777777778,\"#fb9f3a\"],[0.8888888888888888,\"#fdca26\"],[1.0,\"#f0f921\"]],\"type\":\"surface\"}],\"table\":[{\"cells\":{\"fill\":{\"color\":\"#EBF0F8\"},\"line\":{\"color\":\"white\"}},\"header\":{\"fill\":{\"color\":\"#C8D4E3\"},\"line\":{\"color\":\"white\"}},\"type\":\"table\"}]},\"layout\":{\"annotationdefaults\":{\"arrowcolor\":\"#2a3f5f\",\"arrowhead\":0,\"arrowwidth\":1},\"autotypenumbers\":\"strict\",\"coloraxis\":{\"colorbar\":{\"outlinewidth\":0,\"ticks\":\"\"}},\"colorscale\":{\"diverging\":[[0,\"#8e0152\"],[0.1,\"#c51b7d\"],[0.2,\"#de77ae\"],[0.3,\"#f1b6da\"],[0.4,\"#fde0ef\"],[0.5,\"#f7f7f7\"],[0.6,\"#e6f5d0\"],[0.7,\"#b8e186\"],[0.8,\"#7fbc41\"],[0.9,\"#4d9221\"],[1,\"#276419\"]],\"sequential\":[[0.0,\"#0d0887\"],[0.1111111111111111,\"#46039f\"],[0.2222222222222222,\"#7201a8\"],[0.3333333333333333,\"#9c179e\"],[0.4444444444444444,\"#bd3786\"],[0.5555555555555556,\"#d8576b\"],[0.6666666666666666,\"#ed7953\"],[0.7777777777777778,\"#fb9f3a\"],[0.8888888888888888,\"#fdca26\"],[1.0,\"#f0f921\"]],\"sequentialminus\":[[0.0,\"#0d0887\"],[0.1111111111111111,\"#46039f\"],[0.2222222222222222,\"#7201a8\"],[0.3333333333333333,\"#9c179e\"],[0.4444444444444444,\"#bd3786\"],[0.5555555555555556,\"#d8576b\"],[0.6666666666666666,\"#ed7953\"],[0.7777777777777778,\"#fb9f3a\"],[0.8888888888888888,\"#fdca26\"],[1.0,\"#f0f921\"]]},\"colorway\":[\"#636efa\",\"#EF553B\",\"#00cc96\",\"#ab63fa\",\"#FFA15A\",\"#19d3f3\",\"#FF6692\",\"#B6E880\",\"#FF97FF\",\"#FECB52\"],\"font\":{\"color\":\"#2a3f5f\"},\"geo\":{\"bgcolor\":\"white\",\"lakecolor\":\"white\",\"landcolor\":\"#E5ECF6\",\"showlakes\":true,\"showland\":true,\"subunitcolor\":\"white\"},\"hoverlabel\":{\"align\":\"left\"},\"hovermode\":\"closest\",\"mapbox\":{\"style\":\"light\"},\"paper_bgcolor\":\"white\",\"plot_bgcolor\":\"#E5ECF6\",\"polar\":{\"angularaxis\":{\"gridcolor\":\"white\",\"linecolor\":\"white\",\"ticks\":\"\"},\"bgcolor\":\"#E5ECF6\",\"radialaxis\":{\"gridcolor\":\"white\",\"linecolor\":\"white\",\"ticks\":\"\"}},\"scene\":{\"xaxis\":{\"backgroundcolor\":\"#E5ECF6\",\"gridcolor\":\"white\",\"gridwidth\":2,\"linecolor\":\"white\",\"showbackground\":true,\"ticks\":\"\",\"zerolinecolor\":\"white\"},\"yaxis\":{\"backgroundcolor\":\"#E5ECF6\",\"gridcolor\":\"white\",\"gridwidth\":2,\"linecolor\":\"white\",\"showbackground\":true,\"ticks\":\"\",\"zerolinecolor\":\"white\"},\"zaxis\":{\"backgroundcolor\":\"#E5ECF6\",\"gridcolor\":\"white\",\"gridwidth\":2,\"linecolor\":\"white\",\"showbackground\":true,\"ticks\":\"\",\"zerolinecolor\":\"white\"}},\"shapedefaults\":{\"line\":{\"color\":\"#2a3f5f\"}},\"ternary\":{\"aaxis\":{\"gridcolor\":\"white\",\"linecolor\":\"white\",\"ticks\":\"\"},\"baxis\":{\"gridcolor\":\"white\",\"linecolor\":\"white\",\"ticks\":\"\"},\"bgcolor\":\"#E5ECF6\",\"caxis\":{\"gridcolor\":\"white\",\"linecolor\":\"white\",\"ticks\":\"\"}},\"title\":{\"x\":0.05},\"xaxis\":{\"automargin\":true,\"gridcolor\":\"white\",\"linecolor\":\"white\",\"ticks\":\"\",\"title\":{\"standoff\":15},\"zerolinecolor\":\"white\",\"zerolinewidth\":2},\"yaxis\":{\"automargin\":true,\"gridcolor\":\"white\",\"linecolor\":\"white\",\"ticks\":\"\",\"title\":{\"standoff\":15},\"zerolinecolor\":\"white\",\"zerolinewidth\":2}}}},                        {\"responsive\": true}                    ).then(function(){\n                            \nvar gd = document.getElementById('880cefa1-3118-4123-b344-2cb986ed7a28');\nvar x = new MutationObserver(function (mutations, observer) {{\n        var display = window.getComputedStyle(gd).display;\n        if (!display || display === 'none') {{\n            console.log([gd, 'removed!']);\n            Plotly.purge(gd);\n            observer.disconnect();\n        }}\n}});\n\n// Listen for the removal of the full notebook cells\nvar notebookContainer = gd.closest('#notebook-container');\nif (notebookContainer) {{\n    x.observe(notebookContainer, {childList: true});\n}}\n\n// Listen for the clearing of the current output cell\nvar outputEl = gd.closest('.output');\nif (outputEl) {{\n    x.observe(outputEl, {childList: true});\n}}\n\n                        })                };                });            </script>        </div>"
     },
     "metadata": {},
     "output_type": "display_data"
    }
   ],
   "execution_count": null
  },
  {
   "cell_type": "code",
   "metadata": {
    "cell_id": "00024-84341bd1-768f-41ac-be2b-8a06e4a32f39",
    "deepnote_cell_type": "code",
    "deepnote_cell_height": 118.1875,
    "deepnote_output_heights": [
     21.1875
    ]
   },
   "source": "pwd",
   "outputs": [
    {
     "data": {
      "text/plain": "'/Users/raul.castillo/SCRIPTS/GOOGLE Places'"
     },
     "execution_count": 1003,
     "metadata": {},
     "output_type": "execute_result"
    }
   ],
   "execution_count": null
  },
  {
   "cell_type": "code",
   "metadata": {
    "cell_id": "00025-2151e2a5-d3ac-47c4-8575-9b4676c9bf08",
    "deepnote_cell_type": "code",
    "deepnote_cell_height": 156.578125,
    "deepnote_output_heights": [
     59.578125
    ]
   },
   "source": "df.columns",
   "outputs": [
    {
     "data": {
      "text/plain": "Index(['name', 'gender', 'strellas', 'resena', 'fecha', 'lugar', 'proyecto',\n       'url', 'x', 'y'],\n      dtype='object')"
     },
     "execution_count": 1004,
     "metadata": {},
     "output_type": "execute_result"
    }
   ],
   "execution_count": null
  },
  {
   "cell_type": "code",
   "metadata": {
    "cell_id": "00026-59fe062d-6332-41cc-9b26-1a0c78835717",
    "deepnote_cell_type": "code",
    "deepnote_cell_height": 66
   },
   "source": "",
   "execution_count": null,
   "outputs": []
  },
  {
   "cell_type": "markdown",
   "source": "<a style='text-decoration:none;line-height:16px;display:flex;color:#5B5B62;padding:10px;justify-content:end;' href='https://deepnote.com?utm_source=created-in-deepnote-cell&projectId=851a6ba8-4407-4727-a931-5d5f428cca42' target=\"_blank\">\n<img alt='Created in deepnote.com' style='display:inline;max-height:16px;margin:0px;margin-right:7.5px;' src='data:image/svg+xml;base64,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' > </img>\nCreated in <span style='font-weight:600;margin-left:4px;'>Deepnote</span></a>",
   "metadata": {
    "tags": [],
    "created_in_deepnote_cell": true,
    "deepnote_cell_type": "markdown"
   }
  }
 ],
 "nbformat": 4,
 "nbformat_minor": 5,
 "metadata": {
  "kernelspec": {
   "display_name": "Python 3",
   "language": "python",
   "name": "python3"
  },
  "language_info": {
   "codemirror_mode": {
    "name": "ipython",
    "version": 3
   },
   "file_extension": ".py",
   "mimetype": "text/x-python",
   "name": "python",
   "nbconvert_exporter": "python",
   "pygments_lexer": "ipython3",
   "version": "3.8.8"
  },
  "deepnote_notebook_id": "015e5eaf-87fe-4de7-acc4-eacf552818bf",
  "deepnote": {},
  "deepnote_execution_queue": []
 }
}