{
 "cells": [
  {
   "cell_type": "code",
   "metadata": {
    "cell_id": "f4d652da-04b9-4af7-aa9e-fcfa7282434f",
    "deepnote_cell_type": "code",
    "deepnote_cell_height": 338.453125
   },
   "source": "pip install webdriver_manager",
   "execution_count": 15,
   "outputs": [
    {
     "name": "stdout",
     "output_type": "stream",
     "text": "Requirement already satisfied: webdriver_manager in /Users/raul.castillo/opt/anaconda3/lib/python3.8/site-packages (3.5.2)\nRequirement already satisfied: crayons in /Users/raul.castillo/opt/anaconda3/lib/python3.8/site-packages (from webdriver_manager) (0.4.0)\nRequirement already satisfied: configparser in /Users/raul.castillo/opt/anaconda3/lib/python3.8/site-packages (from webdriver_manager) (5.2.0)\nRequirement already satisfied: requests in /Users/raul.castillo/opt/anaconda3/lib/python3.8/site-packages (from webdriver_manager) (2.25.1)\nRequirement already satisfied: colorama in /Users/raul.castillo/opt/anaconda3/lib/python3.8/site-packages (from crayons->webdriver_manager) (0.4.4)\nRequirement already satisfied: chardet<5,>=3.0.2 in /Users/raul.castillo/opt/anaconda3/lib/python3.8/site-packages (from requests->webdriver_manager) (4.0.0)\nRequirement already satisfied: idna<3,>=2.5 in /Users/raul.castillo/opt/anaconda3/lib/python3.8/site-packages (from requests->webdriver_manager) (2.10)\nRequirement already satisfied: certifi>=2017.4.17 in /Users/raul.castillo/opt/anaconda3/lib/python3.8/site-packages (from requests->webdriver_manager) (2020.12.5)\nRequirement already satisfied: urllib3<1.27,>=1.21.1 in /Users/raul.castillo/opt/anaconda3/lib/python3.8/site-packages (from requests->webdriver_manager) (1.26.4)\nNote: you may need to restart the kernel to use updated packages.\n"
    }
   ]
  },
  {
   "cell_type": "code",
   "metadata": {
    "cell_id": "00001-8df4b001-b631-4d0f-bcee-8014b9cae534",
    "deepnote_cell_type": "code",
    "deepnote_cell_height": 180.890625
   },
   "source": "pip install numpy",
   "execution_count": 79,
   "outputs": [
    {
     "name": "stdout",
     "output_type": "stream",
     "text": "Requirement already satisfied: numpy in /Users/raul.castillo/opt/anaconda3/lib/python3.8/site-packages (1.20.1)\nNote: you may need to restart the kernel to use updated packages.\n"
    }
   ]
  },
  {
   "cell_type": "code",
   "metadata": {
    "cell_id": "00002-f8fe68a4-a11a-4de8-b219-24c3387adeab",
    "deepnote_cell_type": "code",
    "deepnote_cell_height": 282
   },
   "source": "from selenium import webdriver\nimport operator\nimport re\nimport time\nimport pandas as pd\nfrom selenium.webdriver import Chrome\nfrom selenium.webdriver.common.by import By\nfrom selenium.webdriver.common.keys import Keys\nfrom selenium.webdriver.support.ui import WebDriverWait\nfrom selenium.webdriver.support import expected_conditions as EC\nfrom bs4 import BeautifulSoup\nfrom datetime import datetime,timedelta\nimport random",
   "execution_count": 1,
   "outputs": []
  },
  {
   "cell_type": "code",
   "metadata": {
    "cell_id": "00003-ffa8a3e0-9dd8-43f9-8ada-3745759d3d24",
    "deepnote_cell_type": "code",
    "deepnote_cell_height": 66
   },
   "source": "import numpy as np",
   "execution_count": 2,
   "outputs": []
  },
  {
   "cell_type": "markdown",
   "source": "driver=webdriver.Chrome(executable_path=r\"/Users/raul.castillo/SCRIPTS/chromedriver 96\")",
   "metadata": {
    "cell_id": "00004-dd915abf-25d3-44e0-948f-8e0393ae77ae",
    "deepnote_cell_type": "markdown",
    "deepnote_cell_height": 52.390625
   }
  },
  {
   "cell_type": "code",
   "metadata": {
    "cell_id": "00005-5d7d521c-956e-44ef-934d-58ae26df6305",
    "deepnote_cell_type": "code",
    "deepnote_cell_height": 246.171875
   },
   "source": "from webdriver_manager.chrome import ChromeDriverManager\n\ndriver = webdriver.Chrome(ChromeDriverManager().install())",
   "execution_count": 3,
   "outputs": [
    {
     "name": "stderr",
     "output_type": "stream",
     "text": "\n\n====== WebDriver manager ======\nCurrent google-chrome version is 101.0.4951\nGet LATEST chromedriver version for 101.0.4951 google-chrome\nDriver [/Users/raul.castillo/.wdm/drivers/chromedriver/mac64/101.0.4951.41/chromedriver] found in cache\n"
    }
   ]
  },
  {
   "cell_type": "markdown",
   "source": "pwd",
   "metadata": {
    "cell_id": "00006-1c5f10f5-c1c1-4679-8e0b-579efa0aa286",
    "deepnote_cell_type": "markdown",
    "deepnote_cell_height": 52.390625
   }
  },
  {
   "cell_type": "markdown",
   "source": "ls -lth",
   "metadata": {
    "cell_id": "00007-1b2799fd-d619-41f5-aa81-43f845842c5d",
    "deepnote_cell_type": "markdown",
    "deepnote_cell_height": 52.390625
   }
  },
  {
   "cell_type": "markdown",
   "source": "#'/Users/raul.castillo/SCRIPTS'",
   "metadata": {
    "cell_id": "00008-6998c738-cce9-4e66-9e65-3d15d4836ea2",
    "deepnote_cell_type": "markdown",
    "deepnote_cell_height": 52.390625
   }
  },
  {
   "cell_type": "code",
   "metadata": {
    "cell_id": "00009-e6a9b465-aa5a-4a2d-90e9-385eca3d0254",
    "deepnote_cell_type": "code",
    "deepnote_cell_height": 462
   },
   "source": "urls = ['https://www.youtube.com/watch?v=iuxNzJ0Qs8w',\n        'https://www.youtube.com/watch?v=xrv2K3p6sfM',\n        'https://www.youtube.com/watch?v=xOEDX_AJZ8E',\n        'https://www.youtube.com/watch?v=-9KgzMVxGNw',\n        'https://www.youtube.com/watch?v=seClRAJ89As',\n        'https://www.youtube.com/watch?v=CQewYIF-50A',\n        'https://www.youtube.com/watch?v=xRhnWRy1ALk',\n        'https://www.youtube.com/watch?v=r7YQTwBzQ_o',\n        'https://www.youtube.com/watch?v=dtToTnjnRH0',\n        'https://www.youtube.com/watch?v=nEnQK2vkpHA'\n       ]\ntitles = ['¡CÓMO EMPEZAR A EMPRENDER CON ÉXITO!',\n          'COMO EMPEZAR TU NEGOCIO DESDE CERO',\n          '7 Ideas de Negocios Rentables Para Empezar Desde Ya',\n          '20 Ideas De Pequeños Negocios Rentables🚀 Con Mínima Inversión 👌',\n          'CÓMO EMPEZAR UN NEGOCIO DESDE CERO - Tati Uribe',\n          '👉Como Solicitar un CREDITO del BANCO del BIENESTAR de 20 mil a 50 mil pesos💰Micro Empresas 🏦',\n          '💰 5 APOYOS y CRÉDITOS del gobierno en 2021 💰 Serendipia Data',\n          '¿Pedir un préstamo para un negocio?',\n          '¿Es recomendable sacar un préstamo para mi negocio? | Dany Vlogs de la Tiendita',\n          'Cómo obtener crédito bancario como emprendedor o independiente en 2021'         \n         ]\ndata =[]",
   "execution_count": 4,
   "outputs": []
  },
  {
   "cell_type": "code",
   "metadata": {
    "cell_id": "00010-af957db9-084e-44c9-9ae9-cf1f3e735d53",
    "deepnote_cell_type": "code",
    "deepnote_cell_height": 889.078125
   },
   "source": "no = range(0,len(urls))\nyoutubedf = pd.DataFrame(columns=['title','comment','author','url'])\n\nfor n in no:\n    print(urls[n])\n    data = []\n    data2 = []\n    driver.get(urls[n])\n    driver.maximize_window()\n    time.sleep(4)\n\n    driver.execute_script('window.scrollTo(1, 500);')\n\n    #now wait let load the comments\n    time.sleep(4)\n    wait = WebDriverWait(driver,5)\n    \n    elem = driver.find_element_by_xpath(\"//*\")\n    soup = BeautifulSoup(elem.get_attribute('innerHTML'),'html.parser')\n    \n    comm = int(soup.find_all(\"h2\",'style-scope ytd-comments-header-renderer')[0].find_all('span','')[0].get_text().replace(',',''))\n    print('comentarios: ', comm)\n    \n    #------\n    for item in range(round(comm/20)): \n        wait.until(EC.visibility_of_element_located((By.TAG_NAME, \"body\"))).send_keys(Keys.END)\n        time.sleep(4)\n    \n    for comment in wait.until(EC.presence_of_all_elements_located((By.CSS_SELECTOR, \"#content-text\"))):\n            data.append(comment.text)\n    \n    for author in wait.until(EC.presence_of_all_elements_located((By.CSS_SELECTOR, \"#author-text\"))):\n            data2.append(author.text)\n            \n    data3 = {'comment':data, 'author':data2}\n    df = pd.DataFrame(data3)\n    df = df[0:]\n    print(len(df))\n    df['title']=titles[n]\n    df['url']=urls[n]\n    dfc = df[['title','comment','author','url']]\n    youtubedf = youtubedf.append(dfc,ignore_index=True)",
   "execution_count": 5,
   "outputs": [
    {
     "name": "stdout",
     "output_type": "stream",
     "text": "https://www.youtube.com/watch?v=iuxNzJ0Qs8w\ncomentarios:  1603\n1273\n"
    }
   ]
  },
  {
   "cell_type": "code",
   "metadata": {
    "cell_id": "00011-68cbc305-3fb2-4456-a2c9-6088d98ee83f",
    "deepnote_cell_type": "code",
    "deepnote_cell_height": 66
   },
   "source": "",
   "execution_count": null,
   "outputs": []
  },
  {
   "cell_type": "code",
   "metadata": {
    "cell_id": "00012-caebf4a9-172d-459d-b9be-d8c64d588e27",
    "deepnote_cell_type": "code",
    "deepnote_cell_height": 611.90625
   },
   "source": "autoreslista = soup.find_all('a',{'id':'author-text'})\nfor aut in autoreslista:\n    var=aut.getText().replace(',','').replace('\\n','').replace('  ','')\n    print(var)\n    \n#author = soup.find_all('a',{'id':'author-text'})[0].find_all('span','')[0].replace(',','').replace('\\n','').replace('  ','')\n#soup.find_all('a',{'id':'author-text'}).getText()\n#soup.find_all(\"h3\",'style-scope ytd-comment-renderer')[0].find_all('span','')[0].get_text().replace(',','').replace('\\n','').replace('  ','')",
   "execution_count": 6,
   "outputs": [
    {
     "name": "stdout",
     "output_type": "stream",
     "text": "Sebastián Publica\nAntonella Sanchez Espinosa\nSara Landivar\nSara LC\nSulmis\nGanancia Pro\nAraceli Solis\nRecetas Aleliamada y mas\nEntre amigas\nMayra Ramírez\nIts ViEM\nCrismar Sánchez\nDaiana C\nMove\nAna Fontalvo\nLiseth Espino\nAlo 3121\nPaula Allien\nLindura green (#naturalmente bella y poderosa)\nJulissa Aliaga\n"
    }
   ]
  },
  {
   "cell_type": "code",
   "metadata": {
    "cell_id": "00013-c03f6d3d-081a-4f46-a7c9-4a2bf1faa581",
    "deepnote_cell_type": "code",
    "deepnote_cell_height": 187,
    "deepnote_output_heights": [
     90
    ]
   },
   "source": "youtubedf.groupby(['title']).count()",
   "execution_count": 7,
   "outputs": [
    {
     "data": {
      "text/html": "<div>\n<style scoped>\n    .dataframe tbody tr th:only-of-type {\n        vertical-align: middle;\n    }\n\n    .dataframe tbody tr th {\n        vertical-align: top;\n    }\n\n    .dataframe thead th {\n        text-align: right;\n    }\n</style>\n<table border=\"1\" class=\"dataframe\">\n  <thead>\n    <tr style=\"text-align: right;\">\n      <th></th>\n      <th>comment</th>\n      <th>author</th>\n      <th>url</th>\n    </tr>\n    <tr>\n      <th>title</th>\n      <th></th>\n      <th></th>\n      <th></th>\n    </tr>\n  </thead>\n  <tbody>\n    <tr>\n      <th>¡CÓMO EMPEZAR A EMPRENDER CON ÉXITO!</th>\n      <td>1273</td>\n      <td>1273</td>\n      <td>1273</td>\n    </tr>\n  </tbody>\n</table>\n</div>",
      "text/plain": "                                      comment  author   url\ntitle                                                      \n¡CÓMO EMPEZAR A EMPRENDER CON ÉXITO!     1273    1273  1273"
     },
     "execution_count": 7,
     "metadata": {},
     "output_type": "execute_result"
    }
   ]
  },
  {
   "cell_type": "code",
   "metadata": {
    "cell_id": "00014-12de5cd6-bf9b-48eb-a27b-296529f11e8a",
    "deepnote_cell_type": "code",
    "deepnote_cell_height": 479.1875,
    "deepnote_output_heights": [
     382.1875
    ]
   },
   "source": "dfc",
   "execution_count": 8,
   "outputs": [
    {
     "data": {
      "text/html": "<div>\n<style scoped>\n    .dataframe tbody tr th:only-of-type {\n        vertical-align: middle;\n    }\n\n    .dataframe tbody tr th {\n        vertical-align: top;\n    }\n\n    .dataframe thead th {\n        text-align: right;\n    }\n</style>\n<table border=\"1\" class=\"dataframe\">\n  <thead>\n    <tr style=\"text-align: right;\">\n      <th></th>\n      <th>title</th>\n      <th>comment</th>\n      <th>author</th>\n      <th>url</th>\n    </tr>\n  </thead>\n  <tbody>\n    <tr>\n      <th>0</th>\n      <td>¡CÓMO EMPEZAR A EMPRENDER CON ÉXITO!</td>\n      <td>Empecé hace 6 meses con una heladería, actualm...</td>\n      <td>Sebastián Publica</td>\n      <td>https://www.youtube.com/watch?v=iuxNzJ0Qs8w</td>\n    </tr>\n    <tr>\n      <th>1</th>\n      <td>¡CÓMO EMPEZAR A EMPRENDER CON ÉXITO!</td>\n      <td>Empecé a emprender hace 4 días, me puse mi pro...</td>\n      <td>Antonella Sanchez Espinosa</td>\n      <td>https://www.youtube.com/watch?v=iuxNzJ0Qs8w</td>\n    </tr>\n    <tr>\n      <th>2</th>\n      <td>¡CÓMO EMPEZAR A EMPRENDER CON ÉXITO!</td>\n      <td>Empecé hace 3 meses con mi negocio de jugos de...</td>\n      <td>Sara Landivar</td>\n      <td>https://www.youtube.com/watch?v=iuxNzJ0Qs8w</td>\n    </tr>\n    <tr>\n      <th>3</th>\n      <td>¡CÓMO EMPEZAR A EMPRENDER CON ÉXITO!</td>\n      <td>Hace 2 días abrí mi oficina de estudio contabl...</td>\n      <td>Sara LC</td>\n      <td>https://www.youtube.com/watch?v=iuxNzJ0Qs8w</td>\n    </tr>\n    <tr>\n      <th>4</th>\n      <td>¡CÓMO EMPEZAR A EMPRENDER CON ÉXITO!</td>\n      <td>Pao yo inicie en el 2019 con todo tus consejos...</td>\n      <td>Sulmis</td>\n      <td>https://www.youtube.com/watch?v=iuxNzJ0Qs8w</td>\n    </tr>\n    <tr>\n      <th>...</th>\n      <td>...</td>\n      <td>...</td>\n      <td>...</td>\n      <td>...</td>\n    </tr>\n    <tr>\n      <th>1268</th>\n      <td>¡CÓMO EMPEZAR A EMPRENDER CON ÉXITO!</td>\n      <td>Hola</td>\n      <td>Miguel angel Rodas mejia</td>\n      <td>https://www.youtube.com/watch?v=iuxNzJ0Qs8w</td>\n    </tr>\n    <tr>\n      <th>1269</th>\n      <td>¡CÓMO EMPEZAR A EMPRENDER CON ÉXITO!</td>\n      <td>entao ta bao</td>\n      <td>VITINZADO</td>\n      <td>https://www.youtube.com/watch?v=iuxNzJ0Qs8w</td>\n    </tr>\n    <tr>\n      <th>1270</th>\n      <td>¡CÓMO EMPEZAR A EMPRENDER CON ÉXITO!</td>\n      <td>20 minutos para decir nada ajjajajajajajajajaj...</td>\n      <td>Daz</td>\n      <td>https://www.youtube.com/watch?v=iuxNzJ0Qs8w</td>\n    </tr>\n    <tr>\n      <th>1271</th>\n      <td>¡CÓMO EMPEZAR A EMPRENDER CON ÉXITO!</td>\n      <td>De tanto que hablaste no te entendí nada</td>\n      <td>Blanca Quintanar</td>\n      <td>https://www.youtube.com/watch?v=iuxNzJ0Qs8w</td>\n    </tr>\n    <tr>\n      <th>1272</th>\n      <td>¡CÓMO EMPEZAR A EMPRENDER CON ÉXITO!</td>\n      <td>Ty ceja derecho me distrae</td>\n      <td>Janet Martinez</td>\n      <td>https://www.youtube.com/watch?v=iuxNzJ0Qs8w</td>\n    </tr>\n  </tbody>\n</table>\n<p>1273 rows × 4 columns</p>\n</div>",
      "text/plain": "                                     title  \\\n0     ¡CÓMO EMPEZAR A EMPRENDER CON ÉXITO!   \n1     ¡CÓMO EMPEZAR A EMPRENDER CON ÉXITO!   \n2     ¡CÓMO EMPEZAR A EMPRENDER CON ÉXITO!   \n3     ¡CÓMO EMPEZAR A EMPRENDER CON ÉXITO!   \n4     ¡CÓMO EMPEZAR A EMPRENDER CON ÉXITO!   \n...                                    ...   \n1268  ¡CÓMO EMPEZAR A EMPRENDER CON ÉXITO!   \n1269  ¡CÓMO EMPEZAR A EMPRENDER CON ÉXITO!   \n1270  ¡CÓMO EMPEZAR A EMPRENDER CON ÉXITO!   \n1271  ¡CÓMO EMPEZAR A EMPRENDER CON ÉXITO!   \n1272  ¡CÓMO EMPEZAR A EMPRENDER CON ÉXITO!   \n\n                                                comment  \\\n0     Empecé hace 6 meses con una heladería, actualm...   \n1     Empecé a emprender hace 4 días, me puse mi pro...   \n2     Empecé hace 3 meses con mi negocio de jugos de...   \n3     Hace 2 días abrí mi oficina de estudio contabl...   \n4     Pao yo inicie en el 2019 con todo tus consejos...   \n...                                                 ...   \n1268                                               Hola   \n1269                                       entao ta bao   \n1270  20 minutos para decir nada ajjajajajajajajajaj...   \n1271           De tanto que hablaste no te entendí nada   \n1272                         Ty ceja derecho me distrae   \n\n                          author                                          url  \n0              Sebastián Publica  https://www.youtube.com/watch?v=iuxNzJ0Qs8w  \n1     Antonella Sanchez Espinosa  https://www.youtube.com/watch?v=iuxNzJ0Qs8w  \n2                  Sara Landivar  https://www.youtube.com/watch?v=iuxNzJ0Qs8w  \n3                        Sara LC  https://www.youtube.com/watch?v=iuxNzJ0Qs8w  \n4                         Sulmis  https://www.youtube.com/watch?v=iuxNzJ0Qs8w  \n...                          ...                                          ...  \n1268    Miguel angel Rodas mejia  https://www.youtube.com/watch?v=iuxNzJ0Qs8w  \n1269                   VITINZADO  https://www.youtube.com/watch?v=iuxNzJ0Qs8w  \n1270                         Daz  https://www.youtube.com/watch?v=iuxNzJ0Qs8w  \n1271            Blanca Quintanar  https://www.youtube.com/watch?v=iuxNzJ0Qs8w  \n1272              Janet Martinez  https://www.youtube.com/watch?v=iuxNzJ0Qs8w  \n\n[1273 rows x 4 columns]"
     },
     "execution_count": 8,
     "metadata": {},
     "output_type": "execute_result"
    }
   ]
  },
  {
   "cell_type": "code",
   "metadata": {
    "cell_id": "00015-2bf5194b-47e8-4fa7-a9cd-687efc07fd24",
    "deepnote_cell_type": "code",
    "deepnote_cell_height": 66
   },
   "source": "export_csv = youtubedf.to_csv (\"YT_Emp.csv\", index = None, header=True , encoding='UTF-8')",
   "execution_count": 19,
   "outputs": []
  },
  {
   "cell_type": "code",
   "metadata": {
    "cell_id": "00016-598a87b3-9ddb-4353-80d2-43e3c7b09f67",
    "deepnote_cell_type": "code",
    "deepnote_cell_height": 66
   },
   "source": "",
   "execution_count": null,
   "outputs": []
  },
  {
   "cell_type": "markdown",
   "source": "<a style='text-decoration:none;line-height:16px;display:flex;color:#5B5B62;padding:10px;justify-content:end;' href='https://deepnote.com?utm_source=created-in-deepnote-cell&projectId=bf6e6301-35eb-4a8f-a150-0299c0b56ab5' target=\"_blank\">\n<img alt='Created in deepnote.com' style='display:inline;max-height:16px;margin:0px;margin-right:7.5px;' src='data:image/svg+xml;base64,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' > </img>\nCreated in <span style='font-weight:600;margin-left:4px;'>Deepnote</span></a>",
   "metadata": {
    "tags": [],
    "created_in_deepnote_cell": true,
    "deepnote_cell_type": "markdown"
   }
  }
 ],
 "nbformat": 4,
 "nbformat_minor": 5,
 "metadata": {
  "kernelspec": {
   "display_name": "Python 3",
   "language": "python",
   "name": "python3"
  },
  "language_info": {
   "codemirror_mode": {
    "name": "ipython",
    "version": 3
   },
   "file_extension": ".py",
   "mimetype": "text/x-python",
   "name": "python",
   "nbconvert_exporter": "python",
   "pygments_lexer": "ipython3",
   "version": "3.8.8"
  },
  "deepnote_notebook_id": "93f79c3a-64b2-4a7c-acea-49842069d93d",
  "deepnote": {},
  "deepnote_execution_queue": []
 }
}