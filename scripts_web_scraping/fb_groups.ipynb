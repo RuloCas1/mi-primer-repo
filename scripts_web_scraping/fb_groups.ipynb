{
 "cells": [
  {
   "cell_type": "code",
   "metadata": {
    "cell_id": "509b7cef-35ba-4785-83a4-ddcc8afc2ac9",
    "deepnote_cell_type": "code",
    "deepnote_cell_height": 515.703125
   },
   "source": "pip install dateparser",
   "outputs": [
    {
     "name": "stdout",
     "output_type": "stream",
     "text": "Collecting dateparser\n  Downloading dateparser-1.1.0-py2.py3-none-any.whl (288 kB)\n\u001b[K     |████████████████████████████████| 288 kB 1.3 MB/s eta 0:00:01\n\u001b[?25hRequirement already satisfied: regex!=2019.02.19,!=2021.8.27 in /Users/raul.castillo/opt/anaconda3/lib/python3.8/site-packages (from dateparser) (2021.4.4)\nRequirement already satisfied: python-dateutil in /Users/raul.castillo/opt/anaconda3/lib/python3.8/site-packages (from dateparser) (2.8.1)\nCollecting tzlocal\n  Downloading tzlocal-4.1-py3-none-any.whl (19 kB)\nRequirement already satisfied: pytz in /Users/raul.castillo/opt/anaconda3/lib/python3.8/site-packages (from dateparser) (2021.1)\nRequirement already satisfied: six>=1.5 in /Users/raul.castillo/opt/anaconda3/lib/python3.8/site-packages (from python-dateutil->dateparser) (1.15.0)\nCollecting pytz-deprecation-shim\n  Downloading pytz_deprecation_shim-0.1.0.post0-py2.py3-none-any.whl (15 kB)\nCollecting backports.zoneinfo\n  Downloading backports.zoneinfo-0.2.1-cp38-cp38-macosx_10_14_x86_64.whl (35 kB)\nCollecting tzdata\n  Downloading tzdata-2021.5-py2.py3-none-any.whl (339 kB)\n\u001b[K     |████████████████████████████████| 339 kB 17.5 MB/s eta 0:00:01\n\u001b[?25hInstalling collected packages: tzdata, backports.zoneinfo, pytz-deprecation-shim, tzlocal, dateparser\nSuccessfully installed backports.zoneinfo-0.2.1 dateparser-1.1.0 pytz-deprecation-shim-0.1.0.post0 tzdata-2021.5 tzlocal-4.1\nNote: you may need to restart the kernel to use updated packages.\n"
    }
   ],
   "execution_count": null
  },
  {
   "cell_type": "code",
   "metadata": {
    "cell_id": "00001-9c6800f4-cb52-418a-a026-e682fb00c8fc",
    "deepnote_cell_type": "code",
    "deepnote_cell_height": 4013.59375
   },
   "source": "#Aqui le puse contadores visuales para ver el avance\nimport dateparser\nimport re\nfrom datetime import date\nimport pandas as pd\nfrom datetime import datetime\nimport requests\nimport sys\nimport json\nfrom pandas.io.json import json_normalize\nfrom bs4 import BeautifulSoup\nimport time\nimport random\nfrom selenium import webdriver\nfrom selenium.webdriver.common.by import By\nfrom selenium.webdriver.common.keys import Keys\nfrom selenium.webdriver.common.action_chains import ActionChains\nfrom webdriver_manager.chrome import ChromeDriverManager\nlistaid=[792104374161319]\n# Colocamos los ID de los grupos de Facebook que vamos a scrapear\nfor i in listaid:\n    dataC = pd.DataFrame(columns=('autor','comentario','post_id', 'comment_id'))\n    dataP = pd.DataFrame(columns=('fanpage', 'autor', 'texto', 'post_id','time' , 'fecha', 'permalink', 'likes', 'comments', 'shares', 'image','type', 'cliente'))\n    chrome_options = webdriver.ChromeOptions()\n    chrome_options.add_argument(\"--incognito\")\n    fanpage=str(i)\n    Type='groups'\n    cliente='Escuelas'\n    # El cliente va cambiando conforme el proyecto.\n    n=10\n    # Numero de scrols que va a dar nuestro bot.\n    fecha = '110522'\n    # Representa la fecha del día que hicimos el scrap.\n    \n    browser = webdriver.Chrome(ChromeDriverManager().install())\n    browser.get('https://m.facebook.com/')\n    username_box = browser.find_element_by_id('m_login_email')\n    #Aquí poner email como str\n    username_box.send_keys(\"rcastillo@acceso.com\") \n    password_box = browser.find_element_by_id('m_login_password')\n    #Aquí el password como str\n    password_box.send_keys(\"AbrirCA2\") \n    login_box = browser.find_element_by_name('login')\n    login_box.click()\n    time.sleep(30)\n\n    urlm='https://m.facebook.com/'+Type+'/'+fanpage+'/'\n    browser.get(urlm)\n    #Vamos a bajar n veces\n\n    for scrols in range(n): \n        ActionChains(browser).send_keys(Keys.END).perform()\n        sleep = random.randint(15, 25)\n        time.sleep(sleep)\n        print(str(scrols)+\"/\"+str(n)+\" scrolls\")\n\n    elemd = browser.find_element_by_xpath(\"//*\")\n    soupd = BeautifulSoup(elemd.get_attribute('innerHTML'),'html.parser')\n    posts = soupd.find_all(\"article\",'_55wo _5rgr _5gh8 async_like')\n    listaTotal=[]\n    listaConCom=[]\n    for po in posts:\n        text = str(po)\n        left = ',\"feedback_target\":'\n        right = ',\"feedback_source\"'\n    #Vemos si tiene comments o shares\n        if po.findChild(\"span\", class_=[\"_1j-c\"] ):\n            metrica = po.find_all(\"span\", '_1j-c')[0].get_text()\n            listaConCom.append(text[text.index(left)+len(left):text.index(right)])\n        listaTotal.append(text[text.index(left)+len(left):text.index(right)])\n        content = po.find_all(\"div\", '_5rgt _5nk5 _5msi')\n        headerAutor = po.find_all(\"div\",'_5xu4')\n        date = po.find_all(\"div\", '_52jc _5qc4 _78cz _24u0 _36xo')\n        reactions = po.find_all(\"div\", '_1g06')\n        comshares = po.find_all(\"span\", '_1j-c')\n        images = po.find_all(\"div\", '_5uso _5t8z')\n        autor=''\n        texto=''\n        post_id=text[text.index(left)+len(left):text.index(right)]\n        Time=''\n        likes=''\n        comments=''\n        shares=''\n        image=''\n        permalink = urlm+'permalink/'+str(post_id)\n        fecha=str(dateparser.parse('hoy'))[0:10]\n        if headerAutor:\n            for ha in headerAutor:\n                if ha.find('a'):\n                    autor = ha.find('a').text\n        if content:\n            for con in content:\n                try:\n                    text = con.find('p').text\n                except:\n                    text = 'SINTEXTO'\n        if date:\n            for d in date:\n                fechapre = d.find('a').text\n                Time = str(dateparser.parse(fechapre))[0:19]\n        if reactions:\n            for r in reactions:\n                likes = int(r.get_text())\n        if comshares:\n            for cs in comshares:\n                txt=cs.get_text()\n                if 'Comment' in txt:\n                    comments = int(re.search(r'(\\d+) Comment', txt).group().strip(' Comment'))\n                    if 'Share' in txt:\n                        shares = int(re.search(r'(\\d+) Share', txt).group().strip(' Share'))\n                    else:\n                        shares = 0\n                else:\n                    comments = 0\n                    if 'Share' in txt:\n                        shares = int(re.search(r'(\\d+) Share', txt).group().strip(' Share'))\n                    else:\n                        shares = 0\n        if images:\n            for img in images:\n                image =img.find('a')['href']\n        dataP = dataP.append({'fanpage':fanpage, 'autor': autor, 'texto': text, 'post_id':post_id,'time':Time , 'fecha':fecha, 'permalink':permalink, 'likes':likes, 'comments':comments, 'shares':shares, 'image':image,'type':Type, 'cliente':cliente},ignore_index=True)\n\n\n    ds = fecha\n    ns = str(n)\n\n    dataP2 = dataP\n    dataP2.drop_duplicates(subset=['fecha', 'autor'])\n    dataP2.to_csv(str(i)+'posts'+ds+'scroll'+ns+'.csv', encoding='UTF-8')\n    listaTotal2 = list(set(listaTotal))\n    listaConCom2 = list(set(listaConCom))\n    print(\"Encontré \"+str(len(listaTotal2))+\"posts, \"+str(len(listaConCom2))+\" tenían comentarios\")\n    for idx, po in enumerate(listaConCom2):\n        print(str(idx)+\"/\"+str(len(listaConCom2)))\n        browser.get(\"https://m.facebook.com/\"+po)\n        elem = browser.find_element_by_xpath(\"//*\")\n        soup = BeautifulSoup(elem.get_attribute('innerHTML'),'html.parser')\n        comments = soup.find_all(\"div\",'_2b06')\n        for com in comments:\n            autor = com.find_all(\"div\",'_2b05')[0].get_text()\n            comentario = com.find_all(\"div\",'')[1].get_text()\n            comment_id1 = com.find_all(\"div\",'')[1]\n            comment_id = comment_id1[\"data-commentid\"]\n            dataC = dataC.append({'autor': autor,'comentario':comentario, 'post_id':po, 'comment_id':comment_id},ignore_index=True)\n            sleep = random.randint(20, 60)\n        time.sleep(sleep)\n\n\n\n    ds = fecha\n    ns = str(n)\n    dataC2=dataC.drop_duplicates(subset=['autor', 'comentario'])\n    dataC2.to_csv(str(i)+'COMMENTS'+ds+'scroll'+ns+'.csv', encoding='UTF-8')",
   "outputs": [
    {
     "name": "stderr",
     "output_type": "stream",
     "text": "\n\n====== WebDriver manager ======\nCurrent google-chrome version is 101.0.4951\nGet LATEST chromedriver version for 101.0.4951 google-chrome\nTrying to download new driver from https://chromedriver.storage.googleapis.com/101.0.4951.41/chromedriver_mac64.zip\nDriver has been saved in cache [/Users/raul.castillo/.wdm/drivers/chromedriver/mac64/101.0.4951.41]\n"
    },
    {
     "name": "stdout",
     "output_type": "stream",
     "text": "0/10 scrolls\n1/10 scrolls\n2/10 scrolls\n3/10 scrolls\n4/10 scrolls\n5/10 scrolls\n6/10 scrolls\n7/10 scrolls\n8/10 scrolls\n9/10 scrolls\n"
    },
    {
     "name": "stderr",
     "output_type": "stream",
     "text": "/Users/raul.castillo/opt/anaconda3/lib/python3.8/site-packages/dateparser/date_parser.py:35: PytzUsageWarning: The localize method is no longer necessary, as this time zone supports the fold attribute (PEP 495). For more details on migrating to a PEP 495-compliant implementation, see https://pytz-deprecation-shim.readthedocs.io/en/latest/migration.html\n  date_obj = stz.localize(date_obj)\n"
    },
    {
     "name": "stdout",
     "output_type": "stream",
     "text": "Encontré 220posts, 172 tenían comentarios\n0/172\n1/172\n2/172\n3/172\n4/172\n5/172\n6/172\n7/172\n8/172\n9/172\n10/172\n11/172\n12/172\n13/172\n14/172\n15/172\n16/172\n17/172\n18/172\n19/172\n20/172\n21/172\n22/172\n23/172\n24/172\n25/172\n26/172\n27/172\n28/172\n29/172\n30/172\n31/172\n32/172\n33/172\n34/172\n35/172\n36/172\n37/172\n38/172\n39/172\n40/172\n41/172\n42/172\n43/172\n44/172\n45/172\n46/172\n47/172\n48/172\n49/172\n50/172\n51/172\n52/172\n53/172\n54/172\n55/172\n56/172\n57/172\n58/172\n59/172\n60/172\n61/172\n62/172\n63/172\n64/172\n65/172\n66/172\n67/172\n68/172\n69/172\n70/172\n71/172\n72/172\n73/172\n74/172\n75/172\n76/172\n77/172\n78/172\n79/172\n80/172\n81/172\n82/172\n83/172\n84/172\n85/172\n86/172\n87/172\n88/172\n89/172\n90/172\n91/172\n92/172\n93/172\n94/172\n95/172\n96/172\n97/172\n98/172\n99/172\n100/172\n101/172\n102/172\n103/172\n104/172\n105/172\n106/172\n107/172\n108/172\n109/172\n110/172\n111/172\n112/172\n113/172\n114/172\n115/172\n116/172\n117/172\n118/172\n119/172\n120/172\n121/172\n122/172\n123/172\n124/172\n125/172\n126/172\n127/172\n128/172\n129/172\n"
    },
    {
     "ename": "WebDriverException",
     "evalue": "Message: unknown error: net::ERR_CONNECTION_CLOSED\n  (Session info: chrome=101.0.4951.54)\n",
     "output_type": "error",
     "traceback": [
      "\u001b[0;31m---------------------------------------------------------------------------\u001b[0m",
      "\u001b[0;31mWebDriverException\u001b[0m                        Traceback (most recent call last)",
      "\u001b[0;32m<ipython-input-1-6fe0d2ecc7e7>\u001b[0m in \u001b[0;36m<module>\u001b[0;34m\u001b[0m\n\u001b[1;32m    134\u001b[0m     \u001b[0;32mfor\u001b[0m \u001b[0midx\u001b[0m\u001b[0;34m,\u001b[0m \u001b[0mpo\u001b[0m \u001b[0;32min\u001b[0m \u001b[0menumerate\u001b[0m\u001b[0;34m(\u001b[0m\u001b[0mlistaConCom2\u001b[0m\u001b[0;34m)\u001b[0m\u001b[0;34m:\u001b[0m\u001b[0;34m\u001b[0m\u001b[0;34m\u001b[0m\u001b[0m\n\u001b[1;32m    135\u001b[0m         \u001b[0mprint\u001b[0m\u001b[0;34m(\u001b[0m\u001b[0mstr\u001b[0m\u001b[0;34m(\u001b[0m\u001b[0midx\u001b[0m\u001b[0;34m)\u001b[0m\u001b[0;34m+\u001b[0m\u001b[0;34m\"/\"\u001b[0m\u001b[0;34m+\u001b[0m\u001b[0mstr\u001b[0m\u001b[0;34m(\u001b[0m\u001b[0mlen\u001b[0m\u001b[0;34m(\u001b[0m\u001b[0mlistaConCom2\u001b[0m\u001b[0;34m)\u001b[0m\u001b[0;34m)\u001b[0m\u001b[0;34m)\u001b[0m\u001b[0;34m\u001b[0m\u001b[0;34m\u001b[0m\u001b[0m\n\u001b[0;32m--> 136\u001b[0;31m         \u001b[0mbrowser\u001b[0m\u001b[0;34m.\u001b[0m\u001b[0mget\u001b[0m\u001b[0;34m(\u001b[0m\u001b[0;34m\"https://m.facebook.com/\"\u001b[0m\u001b[0;34m+\u001b[0m\u001b[0mpo\u001b[0m\u001b[0;34m)\u001b[0m\u001b[0;34m\u001b[0m\u001b[0;34m\u001b[0m\u001b[0m\n\u001b[0m\u001b[1;32m    137\u001b[0m         \u001b[0melem\u001b[0m \u001b[0;34m=\u001b[0m \u001b[0mbrowser\u001b[0m\u001b[0;34m.\u001b[0m\u001b[0mfind_element_by_xpath\u001b[0m\u001b[0;34m(\u001b[0m\u001b[0;34m\"//*\"\u001b[0m\u001b[0;34m)\u001b[0m\u001b[0;34m\u001b[0m\u001b[0;34m\u001b[0m\u001b[0m\n\u001b[1;32m    138\u001b[0m         \u001b[0msoup\u001b[0m \u001b[0;34m=\u001b[0m \u001b[0mBeautifulSoup\u001b[0m\u001b[0;34m(\u001b[0m\u001b[0melem\u001b[0m\u001b[0;34m.\u001b[0m\u001b[0mget_attribute\u001b[0m\u001b[0;34m(\u001b[0m\u001b[0;34m'innerHTML'\u001b[0m\u001b[0;34m)\u001b[0m\u001b[0;34m,\u001b[0m\u001b[0;34m'html.parser'\u001b[0m\u001b[0;34m)\u001b[0m\u001b[0;34m\u001b[0m\u001b[0;34m\u001b[0m\u001b[0m\n",
      "\u001b[0;32m~/opt/anaconda3/lib/python3.8/site-packages/selenium/webdriver/remote/webdriver.py\u001b[0m in \u001b[0;36mget\u001b[0;34m(self, url)\u001b[0m\n\u001b[1;32m    331\u001b[0m         \u001b[0mLoads\u001b[0m \u001b[0ma\u001b[0m \u001b[0mweb\u001b[0m \u001b[0mpage\u001b[0m \u001b[0;32min\u001b[0m \u001b[0mthe\u001b[0m \u001b[0mcurrent\u001b[0m \u001b[0mbrowser\u001b[0m \u001b[0msession\u001b[0m\u001b[0;34m.\u001b[0m\u001b[0;34m\u001b[0m\u001b[0;34m\u001b[0m\u001b[0m\n\u001b[1;32m    332\u001b[0m         \"\"\"\n\u001b[0;32m--> 333\u001b[0;31m         \u001b[0mself\u001b[0m\u001b[0;34m.\u001b[0m\u001b[0mexecute\u001b[0m\u001b[0;34m(\u001b[0m\u001b[0mCommand\u001b[0m\u001b[0;34m.\u001b[0m\u001b[0mGET\u001b[0m\u001b[0;34m,\u001b[0m \u001b[0;34m{\u001b[0m\u001b[0;34m'url'\u001b[0m\u001b[0;34m:\u001b[0m \u001b[0murl\u001b[0m\u001b[0;34m}\u001b[0m\u001b[0;34m)\u001b[0m\u001b[0;34m\u001b[0m\u001b[0;34m\u001b[0m\u001b[0m\n\u001b[0m\u001b[1;32m    334\u001b[0m \u001b[0;34m\u001b[0m\u001b[0m\n\u001b[1;32m    335\u001b[0m     \u001b[0;34m@\u001b[0m\u001b[0mproperty\u001b[0m\u001b[0;34m\u001b[0m\u001b[0;34m\u001b[0m\u001b[0m\n",
      "\u001b[0;32m~/opt/anaconda3/lib/python3.8/site-packages/selenium/webdriver/remote/webdriver.py\u001b[0m in \u001b[0;36mexecute\u001b[0;34m(self, driver_command, params)\u001b[0m\n\u001b[1;32m    319\u001b[0m         \u001b[0mresponse\u001b[0m \u001b[0;34m=\u001b[0m \u001b[0mself\u001b[0m\u001b[0;34m.\u001b[0m\u001b[0mcommand_executor\u001b[0m\u001b[0;34m.\u001b[0m\u001b[0mexecute\u001b[0m\u001b[0;34m(\u001b[0m\u001b[0mdriver_command\u001b[0m\u001b[0;34m,\u001b[0m \u001b[0mparams\u001b[0m\u001b[0;34m)\u001b[0m\u001b[0;34m\u001b[0m\u001b[0;34m\u001b[0m\u001b[0m\n\u001b[1;32m    320\u001b[0m         \u001b[0;32mif\u001b[0m \u001b[0mresponse\u001b[0m\u001b[0;34m:\u001b[0m\u001b[0;34m\u001b[0m\u001b[0;34m\u001b[0m\u001b[0m\n\u001b[0;32m--> 321\u001b[0;31m             \u001b[0mself\u001b[0m\u001b[0;34m.\u001b[0m\u001b[0merror_handler\u001b[0m\u001b[0;34m.\u001b[0m\u001b[0mcheck_response\u001b[0m\u001b[0;34m(\u001b[0m\u001b[0mresponse\u001b[0m\u001b[0;34m)\u001b[0m\u001b[0;34m\u001b[0m\u001b[0;34m\u001b[0m\u001b[0m\n\u001b[0m\u001b[1;32m    322\u001b[0m             response['value'] = self._unwrap_value(\n\u001b[1;32m    323\u001b[0m                 response.get('value', None))\n",
      "\u001b[0;32m~/opt/anaconda3/lib/python3.8/site-packages/selenium/webdriver/remote/errorhandler.py\u001b[0m in \u001b[0;36mcheck_response\u001b[0;34m(self, response)\u001b[0m\n\u001b[1;32m    240\u001b[0m                 \u001b[0malert_text\u001b[0m \u001b[0;34m=\u001b[0m \u001b[0mvalue\u001b[0m\u001b[0;34m[\u001b[0m\u001b[0;34m'alert'\u001b[0m\u001b[0;34m]\u001b[0m\u001b[0;34m.\u001b[0m\u001b[0mget\u001b[0m\u001b[0;34m(\u001b[0m\u001b[0;34m'text'\u001b[0m\u001b[0;34m)\u001b[0m\u001b[0;34m\u001b[0m\u001b[0;34m\u001b[0m\u001b[0m\n\u001b[1;32m    241\u001b[0m             \u001b[0;32mraise\u001b[0m \u001b[0mexception_class\u001b[0m\u001b[0;34m(\u001b[0m\u001b[0mmessage\u001b[0m\u001b[0;34m,\u001b[0m \u001b[0mscreen\u001b[0m\u001b[0;34m,\u001b[0m \u001b[0mstacktrace\u001b[0m\u001b[0;34m,\u001b[0m \u001b[0malert_text\u001b[0m\u001b[0;34m)\u001b[0m\u001b[0;34m\u001b[0m\u001b[0;34m\u001b[0m\u001b[0m\n\u001b[0;32m--> 242\u001b[0;31m         \u001b[0;32mraise\u001b[0m \u001b[0mexception_class\u001b[0m\u001b[0;34m(\u001b[0m\u001b[0mmessage\u001b[0m\u001b[0;34m,\u001b[0m \u001b[0mscreen\u001b[0m\u001b[0;34m,\u001b[0m \u001b[0mstacktrace\u001b[0m\u001b[0;34m)\u001b[0m\u001b[0;34m\u001b[0m\u001b[0;34m\u001b[0m\u001b[0m\n\u001b[0m\u001b[1;32m    243\u001b[0m \u001b[0;34m\u001b[0m\u001b[0m\n\u001b[1;32m    244\u001b[0m     \u001b[0;32mdef\u001b[0m \u001b[0m_value_or_default\u001b[0m\u001b[0;34m(\u001b[0m\u001b[0mself\u001b[0m\u001b[0;34m,\u001b[0m \u001b[0mobj\u001b[0m\u001b[0;34m,\u001b[0m \u001b[0mkey\u001b[0m\u001b[0;34m,\u001b[0m \u001b[0mdefault\u001b[0m\u001b[0;34m)\u001b[0m\u001b[0;34m:\u001b[0m\u001b[0;34m\u001b[0m\u001b[0;34m\u001b[0m\u001b[0m\n",
      "\u001b[0;31mWebDriverException\u001b[0m: Message: unknown error: net::ERR_CONNECTION_CLOSED\n  (Session info: chrome=101.0.4951.54)\n"
     ]
    }
   ],
   "execution_count": null
  },
  {
   "cell_type": "code",
   "metadata": {
    "cell_id": "00002-5d2dbb15-1356-4025-9e2c-551610edf8ca",
    "deepnote_cell_type": "code",
    "deepnote_cell_height": 66
   },
   "source": "",
   "execution_count": null,
   "outputs": []
  },
  {
   "cell_type": "markdown",
   "source": "<a style='text-decoration:none;line-height:16px;display:flex;color:#5B5B62;padding:10px;justify-content:end;' href='https://deepnote.com?utm_source=created-in-deepnote-cell&projectId=87c9d0b0-6942-480f-83c8-ce8875c09714' target=\"_blank\">\n<img alt='Created in deepnote.com' style='display:inline;max-height:16px;margin:0px;margin-right:7.5px;' src='data:image/svg+xml;base64,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' > </img>\nCreated in <span style='font-weight:600;margin-left:4px;'>Deepnote</span></a>",
   "metadata": {
    "tags": [],
    "created_in_deepnote_cell": true,
    "deepnote_cell_type": "markdown"
   }
  }
 ],
 "nbformat": 4,
 "nbformat_minor": 4,
 "metadata": {
  "kernelspec": {
   "display_name": "Python 3",
   "language": "python",
   "name": "python3"
  },
  "language_info": {
   "codemirror_mode": {
    "name": "ipython",
    "version": 3
   },
   "file_extension": ".py",
   "mimetype": "text/x-python",
   "name": "python",
   "nbconvert_exporter": "python",
   "pygments_lexer": "ipython3",
   "version": "3.8.8"
  },
  "deepnote_notebook_id": "0365a20a-7e3b-445d-b0f8-9ec7483f6f72",
  "deepnote": {},
  "deepnote_execution_queue": []
 }
}