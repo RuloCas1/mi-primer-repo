{
 "cells": [
  {
   "cell_type": "code",
   "metadata": {
    "cell_id": "5de428e9-4cde-4240-bd9c-e1dd9f59e6c3",
    "deepnote_cell_type": "code",
    "deepnote_cell_height": 246
   },
   "source": "import pandas as pd\nfrom datetime import datetime\nimport requests\nimport sys\nimport json\nfrom pandas.io.json import json_normalize\nfrom bs4 import BeautifulSoup\nimport time\nimport random\nimport operator\nimport re",
   "outputs": [],
   "execution_count": null
  },
  {
   "cell_type": "code",
   "metadata": {
    "cell_id": "00001-e8970c2f-b35c-4c42-8e1d-08b639afb73c",
    "deepnote_cell_type": "code",
    "deepnote_cell_height": 138
   },
   "source": "from selenium import webdriver\nfrom selenium.webdriver.common.by import By\nfrom selenium.webdriver.common.keys import Keys\n#/Users/leopoldo.alarcon/Documents/scriptsRRSS/chromedriver 2\n#https://pbpython.com/pandas-html-table.html",
   "outputs": [],
   "execution_count": null
  },
  {
   "cell_type": "code",
   "metadata": {
    "cell_id": "00002-0d08ed80-6991-4e72-a8dc-c9fb3a482a36",
    "deepnote_cell_type": "code",
    "deepnote_cell_height": 246.171875
   },
   "source": "from webdriver_manager.chrome import ChromeDriverManager\n\nbrowser = webdriver.Chrome(ChromeDriverManager().install())",
   "outputs": [
    {
     "name": "stderr",
     "output_type": "stream",
     "text": "\n\n====== WebDriver manager ======\nCurrent google-chrome version is 101.0.4951\nGet LATEST chromedriver version for 101.0.4951 google-chrome\nDriver [/Users/raul.castillo/.wdm/drivers/chromedriver/mac64/101.0.4951.41/chromedriver] found in cache\n"
    }
   ],
   "execution_count": null
  },
  {
   "cell_type": "code",
   "metadata": {
    "cell_id": "00003-dfd749b3-3187-4a1b-8824-c08999c7efda",
    "deepnote_cell_type": "code",
    "deepnote_cell_height": 66
   },
   "source": "#browser = webdriver.Chrome(executable_path=r\"/Users/raul.castillo/SCRIPTS/chromedriver 96\")",
   "execution_count": null,
   "outputs": []
  },
  {
   "cell_type": "code",
   "metadata": {
    "cell_id": "00004-3033bb58-780d-4901-a208-ed33ebffa2be",
    "deepnote_cell_type": "code",
    "deepnote_cell_height": 84
   },
   "source": "browser.get('https://www.amazon.com/-/es/Sparkling-Prebiotic-Strawberry-beneficios-intestinal/product-reviews/B084L3Z6LY/ref=cm_cr_dp_d_show_all_btm?ie=UTF8&reviewerType=all_reviews')\n# Previo a correr la liga, hay que verificar que en la página, estamos dentro de los comentarios.",
   "outputs": [],
   "execution_count": null
  },
  {
   "cell_type": "code",
   "metadata": {
    "cell_id": "00005-b12e2a98-0a92-49a2-900d-4751cf1b17dc",
    "deepnote_cell_type": "code",
    "deepnote_cell_height": 66
   },
   "source": "elem = browser.find_element_by_xpath(\"//*\")",
   "outputs": [],
   "execution_count": null
  },
  {
   "cell_type": "code",
   "metadata": {
    "cell_id": "00006-2f244225-2edb-4dd1-8a0d-9cb9c1ae71cd",
    "deepnote_cell_type": "code",
    "deepnote_cell_height": 66
   },
   "source": "soup = BeautifulSoup(elem.get_attribute('innerHTML'),'html.parser')",
   "outputs": [],
   "execution_count": null
  },
  {
   "cell_type": "code",
   "metadata": {
    "cell_id": "00007-e8ba3671-4fc5-4adb-8a7f-3c480eecc6bc",
    "deepnote_cell_type": "code",
    "deepnote_cell_height": 66
   },
   "source": "rev = soup.find_all(\"div\",'a-section review aok-relative')",
   "outputs": [],
   "execution_count": null
  },
  {
   "cell_type": "code",
   "metadata": {
    "cell_id": "00008-4fc2a18d-6318-45cd-9607-30b2be638ce8",
    "deepnote_cell_type": "code",
    "deepnote_cell_height": 118.1875,
    "deepnote_output_heights": [
     21.1875
    ]
   },
   "source": "len(rev)",
   "outputs": [
    {
     "data": {
      "text/plain": "10"
     },
     "execution_count": 8,
     "metadata": {},
     "output_type": "execute_result"
    }
   ],
   "execution_count": null
  },
  {
   "cell_type": "code",
   "metadata": {
    "cell_id": "00009-7cf91543-28b1-4eb1-b587-0a3832617824",
    "deepnote_cell_type": "code",
    "deepnote_cell_height": 102
   },
   "source": "#pages = range(86,88,1)\ndata = pd.DataFrame(columns=['FECHA', 'LUGAR', 'USUARIO', 'RATE', 'TITULO', 'REVIEW', 'GENERO','PROYECTO',\n       'PRODUCTO'])",
   "outputs": [],
   "execution_count": null
  },
  {
   "cell_type": "code",
   "metadata": {
    "cell_id": "00010-cc88deaa-96e9-40d9-b5c0-3551947a11fe",
    "deepnote_cell_type": "code",
    "deepnote_cell_height": 570
   },
   "source": "#APLICACION DE GENERO A COMENTARIOS\n\ndef clean_text(txt):\n    txt = re.sub(\"[^a-záéíóúñüäë]\", \" \", txt.lower())\n    # Nos pasa el textoo a minúsculas.\n    txt = re.sub(' +',' ', txt)\n    # Limpia nuestro texto.\n    return txt.strip().split()\n    # Nos regresa el texto con las delimitaciones especificadas.\n\ndef df_to_dict(df, key_column, val_column):\n    \"\"\"convierte dos pandas series en un diccionario\"\"\"\n    xkey = df[key_column].tolist()\n    xval = df[val_column].tolist()\n    return dict(zip(xkey,xval))\n\ndef get_gender2(names):\n    names = clean_text(names)\n    names = [x for x in names if gender_list.get(x,'a') != 'a']\n    gender ={'m':0, 'f':0, 'a':0}\n    for i, name in enumerate(names):\n        g = gender_list.get(name,'a')\n        gender[g] += 1\n        gender[g] += 2 if len(names) > 1 and i == 0 and g != 'a' else 0 \n    gender['a'] = 0 if (gender['f']+gender['m']) > 0 else 1\n    return max(gender.items(), key=operator.itemgetter(1))[0]\n\ngender_list = pd.read_csv('nombres.csv')\ngender_list = df_to_dict(gender_list, key_column='nombre', val_column='genero')",
   "outputs": [],
   "execution_count": null
  },
  {
   "cell_type": "code",
   "metadata": {
    "cell_id": "00011-53ef0a3d-278d-4d00-bb78-38d29606165b",
    "deepnote_cell_type": "code",
    "deepnote_cell_height": 1153.015625
   },
   "source": "pages = range(1,10,1)\n#inicio de rango, hasta dónde llega el rango (el fin) es el número de páginas, saltos (1 en 1, 3 en 3 o 20 en 20)\n# Va a correr 160 veces (Conciderando que tenemos 1600 comentarios y 10 comentarios por página, multiplicamos 10x160 = 1600)\nurl1='https://www.amazon.com/-/es/Sparkling-Prebiotic-Strawberry-beneficios-intestinal/product-reviews/B084L3Z6LY/ref=cm_cr_dp_d_show_all_btm?ie=UTF8&reviewerType=all_reviews'\n# Previo a correr la liga, hay que verificar que en la página, estamos dentro de los comentarios.\nurl2='&pageNumber='\nproducto = url1[len('https://www.amazon.com.mx/'):len('https://www.amazon.com.mx/')+url1[len('https://www.amazon.com.mx/'):].find('/')].replace('+',' ')\nbrowser.maximize_window()\nfor p in pages:\n    desplazar = random.randint(400, 1200)\n    browser.execute_script('window.scrollTo(1, '+str(desplazar)+');')\n    time.sleep(2)\n    urlr = url1+str(p)+url2+str(p)\n    print(urlr)\n    browser.get(urlr)\n    elem = browser.find_element_by_xpath(\"//*\")\n    soup = BeautifulSoup(elem.get_attribute('innerHTML'),'html.parser')\n    reviews = soup.find_all(\"div\",'a-section review aok-relative')\n    print(len(reviews),len(data),desplazar)\n    for rev in reviews:\n        #print(com.get_text(),'\\n')\n        fecha = rev.find_all(\"span\",'a-size-base a-color-secondary review-date')[0].get_text()\n        fechas = fecha.split('el',1)[1].strip(' ')\n        lugar = fecha.split('el',1)[0].split('en',2)[1].strip(' ')\n        autor = rev.find_all(\"span\",'a-profile-name')[0].get_text()\n        gen = get_gender2(autor)\n        rate = rev.find_all(\"span\",'a-icon-alt')[0].get_text()\n        rate = rate.split('de',1)[0]\n        #title = rev.find_all(\"\",'a-size-base a-link-normal review-title a-color-base review-title-content a-text-bold')[0].find_all(\"span\",'')[0].get_text()\n        title = rev.find_all(\"a\",'review-title')[0].text.strip('\\n')\n        #comen = rev.find_all(\"span\",'a-size-base review-text review-text-content')[0].find_all(\"span\",'')[0].get_text()\n        #comen = comen.strip('\\n')\n        comen = rev.find_all(\"span\",'a-size-base review-text review-text-content')[0].text.strip('\\n').strip(' ')\n        #comentario = pd.DataFrame([[fechas,lugar,autor,rate,title,comen,gen]])\n        #data = data.append(comentario,ignore_index=True)\n        data = data.append({'FECHA': fechas,'LUGAR':lugar,'USUARIO':autor,'RATE':rate,'TITULO':title,\n                    'REVIEW':comen,'GENERO':gen,'PROYECTO':'SINZU','PRODUCTO':producto},ignore_index=True)\n    sleep = random.randint(19, 29) # Hará el scroll entre 19 y 29 segundos\n    #print(sleep)\n    time.sleep(sleep)",
   "outputs": [
    {
     "name": "stdout",
     "output_type": "stream",
     "text": "https://www.amazon.com/-/es/Sparkling-Prebiotic-Strawberry-beneficios-intestinal/product-reviews/B084L3Z6LY/ref=cm_cr_dp_d_show_all_btm?ie=UTF8&reviewerType=all_reviews1&pageNumber=1\n10 0 553\nhttps://www.amazon.com/-/es/Sparkling-Prebiotic-Strawberry-beneficios-intestinal/product-reviews/B084L3Z6LY/ref=cm_cr_dp_d_show_all_btm?ie=UTF8&reviewerType=all_reviews2&pageNumber=2\n10 10 505\nhttps://www.amazon.com/-/es/Sparkling-Prebiotic-Strawberry-beneficios-intestinal/product-reviews/B084L3Z6LY/ref=cm_cr_dp_d_show_all_btm?ie=UTF8&reviewerType=all_reviews3&pageNumber=3\n10 20 917\nhttps://www.amazon.com/-/es/Sparkling-Prebiotic-Strawberry-beneficios-intestinal/product-reviews/B084L3Z6LY/ref=cm_cr_dp_d_show_all_btm?ie=UTF8&reviewerType=all_reviews4&pageNumber=4\n10 30 950\nhttps://www.amazon.com/-/es/Sparkling-Prebiotic-Strawberry-beneficios-intestinal/product-reviews/B084L3Z6LY/ref=cm_cr_dp_d_show_all_btm?ie=UTF8&reviewerType=all_reviews5&pageNumber=5\n10 40 403\nhttps://www.amazon.com/-/es/Sparkling-Prebiotic-Strawberry-beneficios-intestinal/product-reviews/B084L3Z6LY/ref=cm_cr_dp_d_show_all_btm?ie=UTF8&reviewerType=all_reviews6&pageNumber=6\n10 50 1165\nhttps://www.amazon.com/-/es/Sparkling-Prebiotic-Strawberry-beneficios-intestinal/product-reviews/B084L3Z6LY/ref=cm_cr_dp_d_show_all_btm?ie=UTF8&reviewerType=all_reviews7&pageNumber=7\n10 60 809\nhttps://www.amazon.com/-/es/Sparkling-Prebiotic-Strawberry-beneficios-intestinal/product-reviews/B084L3Z6LY/ref=cm_cr_dp_d_show_all_btm?ie=UTF8&reviewerType=all_reviews8&pageNumber=8\n10 70 1118\nhttps://www.amazon.com/-/es/Sparkling-Prebiotic-Strawberry-beneficios-intestinal/product-reviews/B084L3Z6LY/ref=cm_cr_dp_d_show_all_btm?ie=UTF8&reviewerType=all_reviews9&pageNumber=9\n10 80 796\n"
    }
   ],
   "execution_count": null
  },
  {
   "cell_type": "code",
   "metadata": {
    "cell_id": "00012-4003c62b-33a8-4b52-a21f-8b13464a7967",
    "deepnote_cell_type": "code",
    "deepnote_cell_height": 479.1875,
    "deepnote_output_heights": [
     382.1875
    ]
   },
   "source": "data",
   "outputs": [
    {
     "data": {
      "text/html": "<div>\n<style scoped>\n    .dataframe tbody tr th:only-of-type {\n        vertical-align: middle;\n    }\n\n    .dataframe tbody tr th {\n        vertical-align: top;\n    }\n\n    .dataframe thead th {\n        text-align: right;\n    }\n</style>\n<table border=\"1\" class=\"dataframe\">\n  <thead>\n    <tr style=\"text-align: right;\">\n      <th></th>\n      <th>FECHA</th>\n      <th>LUGAR</th>\n      <th>USUARIO</th>\n      <th>RATE</th>\n      <th>TITULO</th>\n      <th>REVIEW</th>\n      <th>GENERO</th>\n      <th>PROYECTO</th>\n      <th>PRODUCTO</th>\n    </tr>\n  </thead>\n  <tbody>\n    <tr>\n      <th>0</th>\n      <td>7 de abril de 2020</td>\n      <td>Estados Unidos</td>\n      <td>Amazon Customer</td>\n      <td>2.0</td>\n      <td>Made with Stevia</td>\n      <td>Upon seeing this product on Shark Tank, we wer...</td>\n      <td>a</td>\n      <td>SINZU</td>\n      <td>s</td>\n    </tr>\n    <tr>\n      <th>1</th>\n      <td>29 de marzo de 2020</td>\n      <td>Estados Unidos</td>\n      <td>Samer K.</td>\n      <td>5.0</td>\n      <td>Takes  you to flavor town! With Only 15cal.</td>\n      <td>Talk about flavor!The Orange flavor is my favo...</td>\n      <td>m</td>\n      <td>SINZU</td>\n      <td>s</td>\n    </tr>\n    <tr>\n      <th>2</th>\n      <td>23 de marzo de 2021</td>\n      <td>Estados Unidos</td>\n      <td>Cary Murray</td>\n      <td>5.0</td>\n      <td>Great alternative to wine when trying to cut b...</td>\n      <td>I got turned on to Poppi in December 2020 afte...</td>\n      <td>m</td>\n      <td>SINZU</td>\n      <td>s</td>\n    </tr>\n    <tr>\n      <th>3</th>\n      <td>30 de mayo de 2021</td>\n      <td>Estados Unidos</td>\n      <td>Quackers719</td>\n      <td>5.0</td>\n      <td>Great alternative to regular sodas!</td>\n      <td>I am obsessed with Poppi. I would invest in th...</td>\n      <td>a</td>\n      <td>SINZU</td>\n      <td>s</td>\n    </tr>\n    <tr>\n      <th>4</th>\n      <td>3 de mayo de 2020</td>\n      <td>Estados Unidos</td>\n      <td>Opinionated</td>\n      <td>3.0</td>\n      <td>Too much Stevia, not enough ACV flavor</td>\n      <td>This beverage has a nice, light, refreshing fl...</td>\n      <td>a</td>\n      <td>SINZU</td>\n      <td>s</td>\n    </tr>\n    <tr>\n      <th>...</th>\n      <td>...</td>\n      <td>...</td>\n      <td>...</td>\n      <td>...</td>\n      <td>...</td>\n      <td>...</td>\n      <td>...</td>\n      <td>...</td>\n      <td>...</td>\n    </tr>\n    <tr>\n      <th>85</th>\n      <td>17 de junio de 2020</td>\n      <td>Estados Unidos</td>\n      <td>Hannalore</td>\n      <td>2.0</td>\n      <td>POPPI is not very tasty</td>\n      <td>The drink is ridiculously over priced. Not at ...</td>\n      <td>a</td>\n      <td>SINZU</td>\n      <td>s</td>\n    </tr>\n    <tr>\n      <th>86</th>\n      <td>7 de septiembre de 2020</td>\n      <td>Estados Unidos</td>\n      <td>Natalie Daniels</td>\n      <td>1.0</td>\n      <td>didn't care for the flavors</td>\n      <td>Didn't care for the flavor and too expensive.</td>\n      <td>f</td>\n      <td>SINZU</td>\n      <td>s</td>\n    </tr>\n    <tr>\n      <th>87</th>\n      <td>30 de junio de 2021</td>\n      <td>Estados Unidos</td>\n      <td>Cord and Colleen Gallegos</td>\n      <td>4.0</td>\n      <td>So amazing, but so expensive</td>\n      <td>I love these so much. Much healthier than soda...</td>\n      <td>m</td>\n      <td>SINZU</td>\n      <td>s</td>\n    </tr>\n    <tr>\n      <th>88</th>\n      <td>11 de septiembre de 2021</td>\n      <td>Estados Unidos</td>\n      <td>HidefKd</td>\n      <td>5.0</td>\n      <td>My grandson loves these!</td>\n      <td>We bought these at Whole Foods as an after sch...</td>\n      <td>a</td>\n      <td>SINZU</td>\n      <td>s</td>\n    </tr>\n    <tr>\n      <th>89</th>\n      <td>19 de mayo de 2021</td>\n      <td>Estados Unidos</td>\n      <td>James Childress</td>\n      <td>1.0</td>\n      <td>Not worth it.</td>\n      <td>Awful, they tasted funny and I'm sure it was a...</td>\n      <td>m</td>\n      <td>SINZU</td>\n      <td>s</td>\n    </tr>\n  </tbody>\n</table>\n<p>90 rows × 9 columns</p>\n</div>",
      "text/plain": "                       FECHA           LUGAR                    USUARIO  RATE  \\\n0         7 de abril de 2020  Estados Unidos            Amazon Customer  2.0    \n1        29 de marzo de 2020  Estados Unidos                   Samer K.  5.0    \n2        23 de marzo de 2021  Estados Unidos                Cary Murray  5.0    \n3         30 de mayo de 2021  Estados Unidos                Quackers719  5.0    \n4          3 de mayo de 2020  Estados Unidos                Opinionated  3.0    \n..                       ...             ...                        ...   ...   \n85       17 de junio de 2020  Estados Unidos                  Hannalore  2.0    \n86   7 de septiembre de 2020  Estados Unidos            Natalie Daniels  1.0    \n87       30 de junio de 2021  Estados Unidos  Cord and Colleen Gallegos  4.0    \n88  11 de septiembre de 2021  Estados Unidos                    HidefKd  5.0    \n89        19 de mayo de 2021  Estados Unidos            James Childress  1.0    \n\n                                               TITULO  \\\n0                                    Made with Stevia   \n1         Takes  you to flavor town! With Only 15cal.   \n2   Great alternative to wine when trying to cut b...   \n3                 Great alternative to regular sodas!   \n4              Too much Stevia, not enough ACV flavor   \n..                                                ...   \n85                            POPPI is not very tasty   \n86                        didn't care for the flavors   \n87                       So amazing, but so expensive   \n88                           My grandson loves these!   \n89                                      Not worth it.   \n\n                                               REVIEW GENERO PROYECTO PRODUCTO  \n0   Upon seeing this product on Shark Tank, we wer...      a    SINZU        s  \n1   Talk about flavor!The Orange flavor is my favo...      m    SINZU        s  \n2   I got turned on to Poppi in December 2020 afte...      m    SINZU        s  \n3   I am obsessed with Poppi. I would invest in th...      a    SINZU        s  \n4   This beverage has a nice, light, refreshing fl...      a    SINZU        s  \n..                                                ...    ...      ...      ...  \n85  The drink is ridiculously over priced. Not at ...      a    SINZU        s  \n86      Didn't care for the flavor and too expensive.      f    SINZU        s  \n87  I love these so much. Much healthier than soda...      m    SINZU        s  \n88  We bought these at Whole Foods as an after sch...      a    SINZU        s  \n89  Awful, they tasted funny and I'm sure it was a...      m    SINZU        s  \n\n[90 rows x 9 columns]"
     },
     "execution_count": 12,
     "metadata": {},
     "output_type": "execute_result"
    }
   ],
   "execution_count": null
  },
  {
   "cell_type": "code",
   "metadata": {
    "cell_id": "00013-b07bc862-1741-4ccb-813e-4a347df0801e",
    "deepnote_cell_type": "code",
    "deepnote_cell_height": 303,
    "deepnote_output_heights": [
     206
    ]
   },
   "source": "data.groupby(['RATE']).count()",
   "outputs": [
    {
     "data": {
      "text/html": "<div>\n<style scoped>\n    .dataframe tbody tr th:only-of-type {\n        vertical-align: middle;\n    }\n\n    .dataframe tbody tr th {\n        vertical-align: top;\n    }\n\n    .dataframe thead th {\n        text-align: right;\n    }\n</style>\n<table border=\"1\" class=\"dataframe\">\n  <thead>\n    <tr style=\"text-align: right;\">\n      <th></th>\n      <th>FECHA</th>\n      <th>LUGAR</th>\n      <th>USUARIO</th>\n      <th>TITULO</th>\n      <th>REVIEW</th>\n      <th>GENERO</th>\n      <th>PROYECTO</th>\n      <th>PRODUCTO</th>\n    </tr>\n    <tr>\n      <th>RATE</th>\n      <th></th>\n      <th></th>\n      <th></th>\n      <th></th>\n      <th></th>\n      <th></th>\n      <th></th>\n      <th></th>\n    </tr>\n  </thead>\n  <tbody>\n    <tr>\n      <th>1.0</th>\n      <td>11</td>\n      <td>11</td>\n      <td>11</td>\n      <td>11</td>\n      <td>11</td>\n      <td>11</td>\n      <td>11</td>\n      <td>11</td>\n    </tr>\n    <tr>\n      <th>2.0</th>\n      <td>4</td>\n      <td>4</td>\n      <td>4</td>\n      <td>4</td>\n      <td>4</td>\n      <td>4</td>\n      <td>4</td>\n      <td>4</td>\n    </tr>\n    <tr>\n      <th>3.0</th>\n      <td>3</td>\n      <td>3</td>\n      <td>3</td>\n      <td>3</td>\n      <td>3</td>\n      <td>3</td>\n      <td>3</td>\n      <td>3</td>\n    </tr>\n    <tr>\n      <th>4.0</th>\n      <td>11</td>\n      <td>11</td>\n      <td>11</td>\n      <td>11</td>\n      <td>11</td>\n      <td>11</td>\n      <td>11</td>\n      <td>11</td>\n    </tr>\n    <tr>\n      <th>5.0</th>\n      <td>61</td>\n      <td>61</td>\n      <td>61</td>\n      <td>61</td>\n      <td>61</td>\n      <td>61</td>\n      <td>61</td>\n      <td>61</td>\n    </tr>\n  </tbody>\n</table>\n</div>",
      "text/plain": "      FECHA  LUGAR  USUARIO  TITULO  REVIEW  GENERO  PROYECTO  PRODUCTO\nRATE                                                                   \n1.0      11     11       11      11      11      11        11        11\n2.0       4      4        4       4       4       4         4         4\n3.0       3      3        3       3       3       3         3         3\n4.0      11     11       11      11      11      11        11        11\n5.0      61     61       61      61      61      61        61        61"
     },
     "execution_count": 216,
     "metadata": {},
     "output_type": "execute_result"
    }
   ],
   "execution_count": null
  },
  {
   "cell_type": "code",
   "metadata": {
    "cell_id": "00014-6b58111c-c95b-4a55-a235-1bfb0c02b92f",
    "deepnote_cell_type": "code",
    "deepnote_cell_height": 66
   },
   "source": "export_csv = data.to_csv (\"Sinzu8.csv\", index = None, header=True , encoding='UTF-8')",
   "outputs": [],
   "execution_count": null
  },
  {
   "cell_type": "code",
   "metadata": {
    "cell_id": "00015-a70c50e8-983a-444d-9f22-f59a4430a9d0",
    "deepnote_cell_type": "code",
    "deepnote_cell_height": 66
   },
   "source": "",
   "execution_count": null,
   "outputs": []
  },
  {
   "cell_type": "markdown",
   "source": "<a style='text-decoration:none;line-height:16px;display:flex;color:#5B5B62;padding:10px;justify-content:end;' href='https://deepnote.com?utm_source=created-in-deepnote-cell&projectId=61de9947-6a6b-4aa1-8e4b-fbaeeeaf203b' target=\"_blank\">\n<img alt='Created in deepnote.com' style='display:inline;max-height:16px;margin:0px;margin-right:7.5px;' src='data:image/svg+xml;base64,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' > </img>\nCreated in <span style='font-weight:600;margin-left:4px;'>Deepnote</span></a>",
   "metadata": {
    "tags": [],
    "created_in_deepnote_cell": true,
    "deepnote_cell_type": "markdown"
   }
  }
 ],
 "nbformat": 4,
 "nbformat_minor": 5,
 "metadata": {
  "kernelspec": {
   "display_name": "Python 3",
   "language": "python",
   "name": "python3"
  },
  "language_info": {
   "codemirror_mode": {
    "name": "ipython",
    "version": 3
   },
   "file_extension": ".py",
   "mimetype": "text/x-python",
   "name": "python",
   "nbconvert_exporter": "python",
   "pygments_lexer": "ipython3",
   "version": "3.8.8"
  },
  "deepnote_notebook_id": "16933269-1431-4d1f-8f90-7e9f4a49ee90",
  "deepnote": {},
  "deepnote_execution_queue": []
 }
}