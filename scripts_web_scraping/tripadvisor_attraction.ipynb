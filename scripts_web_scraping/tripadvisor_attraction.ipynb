{
 "cells": [
  {
   "cell_type": "code",
   "metadata": {
    "cell_id": "2dfcf67d-363d-410f-a026-98897024fd5b",
    "deepnote_cell_type": "code",
    "deepnote_cell_height": 336
   },
   "source": "from selenium import webdriver\nimport time\nimport pandas as pd\nimport requests\nimport sys\nfrom selenium.webdriver import Chrome\nfrom selenium.webdriver.common.by import By\nfrom selenium.webdriver.common.keys import Keys\nfrom selenium.webdriver.support.ui import WebDriverWait\nfrom selenium.webdriver.support import expected_conditions as EC\nfrom bs4 import BeautifulSoup\nfrom datetime import datetime,timedelta\nimport time\nimport random\nimport re\nimport operator",
   "outputs": [],
   "execution_count": null
  },
  {
   "cell_type": "code",
   "metadata": {
    "cell_id": "00001-22fe0bd9-884a-449b-99ea-76012a0ea6a7",
    "deepnote_cell_type": "code",
    "deepnote_cell_height": 270.359375
   },
   "source": "from webdriver_manager.chrome import ChromeDriverManager\n\nbrowser = webdriver.Chrome(ChromeDriverManager().install())",
   "outputs": [
    {
     "name": "stderr",
     "output_type": "stream",
     "text": "\n\n====== WebDriver manager ======\nCurrent google-chrome version is 101.0.4951\nGet LATEST chromedriver version for 101.0.4951 google-chrome\nTrying to download new driver from https://chromedriver.storage.googleapis.com/101.0.4951.41/chromedriver_mac64.zip\nDriver has been saved in cache [/Users/raul.castillo/.wdm/drivers/chromedriver/mac64/101.0.4951.41]\n"
    }
   ],
   "execution_count": null
  },
  {
   "cell_type": "code",
   "metadata": {
    "cell_id": "00002-73f548c2-09a7-4240-9662-1d9243fe024a",
    "deepnote_cell_type": "code",
    "deepnote_cell_height": 66
   },
   "source": "browser.get('https://www.tripadvisor.com.mx/Attraction_Review-g552077-d12653697-Reviews-Playa_San_Pancho-San_Francisco_Pacific_Coast.html')",
   "outputs": [],
   "execution_count": null
  },
  {
   "cell_type": "code",
   "metadata": {
    "cell_id": "00003-dc2ef71c-742c-4b3c-9772-08979cbdd4e2",
    "deepnote_cell_type": "code",
    "deepnote_cell_height": 66
   },
   "source": "data = pd.DataFrame(columns=('id','fecha_estancia','usuario','titulo','opinion','calificacion','genero','estado','lugar','x','y'))",
   "outputs": [],
   "execution_count": null
  },
  {
   "cell_type": "code",
   "metadata": {
    "cell_id": "00004-ae7797fc-4d43-430a-b58c-d803c3ea2786",
    "deepnote_cell_type": "code",
    "deepnote_cell_height": 84
   },
   "source": "elem = browser.find_element_by_xpath(\"//*\")\nsoup = BeautifulSoup(elem.get_attribute('innerHTML'),'html.parser')",
   "outputs": [],
   "execution_count": null
  },
  {
   "cell_type": "code",
   "metadata": {
    "cell_id": "00005-aedbc250-03fe-4c61-b590-ba46af67155d",
    "deepnote_cell_type": "code",
    "deepnote_cell_height": 66
   },
   "source": "rev = soup.find_all('div',\"ffbzW _c\")[0].get_text()",
   "outputs": [],
   "execution_count": null
  },
  {
   "cell_type": "code",
   "metadata": {
    "cell_id": "00006-2564312b-1589-4eb3-825d-ceefdfb1bab9",
    "deepnote_cell_type": "code",
    "deepnote_cell_height": 118.1875,
    "deepnote_output_heights": [
     21.1875
    ]
   },
   "source": "len(rev)",
   "outputs": [
    {
     "data": {
      "text/plain": "295"
     },
     "execution_count": 7,
     "metadata": {},
     "output_type": "execute_result"
    }
   ],
   "execution_count": null
  },
  {
   "cell_type": "code",
   "metadata": {
    "cell_id": "00007-a9ff3913-e45a-4976-aa49-86d4ceda8643",
    "deepnote_cell_type": "code",
    "deepnote_cell_height": 66
   },
   "source": "total = range(0,70,8) # En un rango de 0 a 10 reseñas, va a saltar de 5 en 5",
   "outputs": [],
   "execution_count": null
  },
  {
   "cell_type": "code",
   "metadata": {
    "cell_id": "00008-fc3203ab-b2fa-4cde-9138-11d93eabee7a",
    "deepnote_cell_type": "code",
    "deepnote_cell_height": 534
   },
   "source": "def clean_text(txt):\n    txt = re.sub(\"[^a-záéíóúñüäë]\", \" \", txt.lower())\n    # Nos pasa el textoo a minúsculas.\n    txt = re.sub(' +',' ', txt)\n    # Limpia nuestro texto.\n    return txt.strip().split()\n    # Nos regresa el texto con las delimitaciones especificadas.\n\ndef df_to_dict(df, key_column, val_column):\n    \"\"\"convierte dos pandas series en un diccionario\"\"\"\n    xkey = df[key_column].tolist()\n    xval = df[val_column].tolist()\n    return dict(zip(xkey,xval))\n\ndef get_gender2(names):\n    names = clean_text(names)\n    names = [x for x in names if gender_list.get(x,'a') != 'a']\n    gender ={'m':0, 'f':0, 'a':0}\n    for i, name in enumerate(names):\n        g = gender_list.get(name,'a')\n        gender[g] += 1\n        gender[g] += 2 if len(names) > 1 and i == 0 and g != 'a' else 0 \n    gender['a'] = 0 if (gender['f']+gender['m']) > 0 else 1\n    return max(gender.items(), key=operator.itemgetter(1))[0]\n\ngender_list = pd.read_csv('nombres.csv')\ngender_list = df_to_dict(gender_list, key_column='nombre', val_column='genero')",
   "outputs": [],
   "execution_count": null
  },
  {
   "cell_type": "code",
   "metadata": {
    "cell_id": "00009-a6ccb778-639c-4998-95d9-03614d4b79e2",
    "deepnote_cell_type": "code",
    "deepnote_cell_height": 84
   },
   "source": "url1 = \"https://www.tripadvisor.com.mx/Attraction_Review-g552077-d12653697-Reviews-\"\nurl2 = \"Playa_San_Pancho-San_Francisco_Pacific_Coast.html\"",
   "outputs": [],
   "execution_count": null
  },
  {
   "cell_type": "code",
   "metadata": {
    "cell_id": "00010-6f9ad84c-6a05-4c54-bd5d-5cccec98cf71",
    "deepnote_cell_type": "code",
    "deepnote_cell_height": 1172.703125
   },
   "source": "browser.maximize_window()\nfor p in total:\n    if p == 0:\n        centro = '-'\n    else:\n        centro = '-or'+str(p)+'-'\n    url = url1+centro+url2\n    print(url1+centro+url2)\n    #print(url)\n    browser.get(url)\n    \n    desplazar = random.randint(400, 1200)\n    browser.execute_script('window.scrollTo(1, '+str(desplazar)+');')\n    time.sleep(2)\n    \n    elem = browser.find_element_by_xpath(\"//*\")\n    soup = BeautifulSoup(elem.get_attribute('innerHTML'),'html.parser')\n    samples = soup.find_all('div',\"ffbzW _c\")\n    c=0\n    for s in samples:\n        ids = p+c+1\n        sample = samples[c]\n        autor = sample.find_all(\"span\",'WlYyy cPsXC dTqpp')[0].get_text()\n        gen = get_gender2(autor)\n        cal = str(sample.find_all('svg',\"RWYkj d H0\")[0])\n        cal = str(cal[17:18])\n        titulo = sample.find_all('span',\"NejBf\")[0].get_text()\n        opinion = sample.find_all('div',\"WlYyy diXIH dDKKM\")[0].get_text()\n        fecha_est = sample.find_all('div',\"WlYyy diXIH cspKb bQCoY\")[0].get_text()\n        fecha_est = fecha_est[11:]\n        #data = data.append({'fecha_estancia': fecha_est,'usuario':nombre,'calificacion':cal,'titulo':titulo,'opinion':opinion},ignore_index=True)\n        data = data.append({'id':ids, 'fecha_estancia': fecha_est,'usuario':autor,'calificacion':cal,'titulo':titulo,'opinion':opinion,'genero':gen,'estado':'Nayarit','lugar':'Playa San Pancho','x':'20.9022451','y':'-105.4159466'},ignore_index=True)\n        c = c+1\n    \n    p+5\n    sleep = random.randint(5, 15)\n    print(sleep)\n    time.sleep(sleep)\n          \nprint('Ya puedes exportar')",
   "outputs": [
    {
     "name": "stdout",
     "output_type": "stream",
     "text": "https://www.tripadvisor.com.mx/Attraction_Review-g552077-d12653697-Reviews--Playa_San_Pancho-San_Francisco_Pacific_Coast.html\n6\nhttps://www.tripadvisor.com.mx/Attraction_Review-g552077-d12653697-Reviews--or8-Playa_San_Pancho-San_Francisco_Pacific_Coast.html\n12\nhttps://www.tripadvisor.com.mx/Attraction_Review-g552077-d12653697-Reviews--or16-Playa_San_Pancho-San_Francisco_Pacific_Coast.html\n9\nhttps://www.tripadvisor.com.mx/Attraction_Review-g552077-d12653697-Reviews--or24-Playa_San_Pancho-San_Francisco_Pacific_Coast.html\n12\nhttps://www.tripadvisor.com.mx/Attraction_Review-g552077-d12653697-Reviews--or32-Playa_San_Pancho-San_Francisco_Pacific_Coast.html\n15\nhttps://www.tripadvisor.com.mx/Attraction_Review-g552077-d12653697-Reviews--or40-Playa_San_Pancho-San_Francisco_Pacific_Coast.html\n6\nhttps://www.tripadvisor.com.mx/Attraction_Review-g552077-d12653697-Reviews--or48-Playa_San_Pancho-San_Francisco_Pacific_Coast.html\n10\nhttps://www.tripadvisor.com.mx/Attraction_Review-g552077-d12653697-Reviews--or56-Playa_San_Pancho-San_Francisco_Pacific_Coast.html\n11\nhttps://www.tripadvisor.com.mx/Attraction_Review-g552077-d12653697-Reviews--or64-Playa_San_Pancho-San_Francisco_Pacific_Coast.html\n6\nYa puedes exportar\n"
    }
   ],
   "execution_count": null
  },
  {
   "cell_type": "code",
   "metadata": {
    "cell_id": "00011-611e08d0-96eb-48d0-977e-c38d555384e9",
    "deepnote_cell_type": "code",
    "deepnote_cell_height": 479.1875,
    "deepnote_output_heights": [
     382.1875
    ]
   },
   "source": "data",
   "outputs": [
    {
     "data": {
      "text/html": "<div>\n<style scoped>\n    .dataframe tbody tr th:only-of-type {\n        vertical-align: middle;\n    }\n\n    .dataframe tbody tr th {\n        vertical-align: top;\n    }\n\n    .dataframe thead th {\n        text-align: right;\n    }\n</style>\n<table border=\"1\" class=\"dataframe\">\n  <thead>\n    <tr style=\"text-align: right;\">\n      <th></th>\n      <th>id</th>\n      <th>fecha_estancia</th>\n      <th>usuario</th>\n      <th>titulo</th>\n      <th>opinion</th>\n      <th>calificacion</th>\n      <th>genero</th>\n      <th>estado</th>\n      <th>lugar</th>\n      <th>x</th>\n      <th>y</th>\n    </tr>\n  </thead>\n  <tbody>\n    <tr>\n      <th>0</th>\n      <td>1</td>\n      <td>24 de marzo de 2022</td>\n      <td>María Julieta E</td>\n      <td>Playa  amplia</td>\n      <td>La playa es muy amplia y se puede caminar muy ...</td>\n      <td>5</td>\n      <td>f</td>\n      <td>Nayarit</td>\n      <td>Playa San Pancho</td>\n      <td>20.9022451</td>\n      <td>-105.4159466</td>\n    </tr>\n    <tr>\n      <th>1</th>\n      <td>2</td>\n      <td>17 de abril de 2021</td>\n      <td>Gerardo R</td>\n      <td>San Pancho</td>\n      <td>De verdad que no le pide nada a otras playas, ...</td>\n      <td>5</td>\n      <td>m</td>\n      <td>Nayarit</td>\n      <td>Playa San Pancho</td>\n      <td>20.9022451</td>\n      <td>-105.4159466</td>\n    </tr>\n    <tr>\n      <th>2</th>\n      <td>3</td>\n      <td>15 de marzo de 2021</td>\n      <td>Diego G</td>\n      <td>Excelente lugar!!</td>\n      <td>Guarda la magia de un pequeño pueblo con una p...</td>\n      <td>5</td>\n      <td>m</td>\n      <td>Nayarit</td>\n      <td>Playa San Pancho</td>\n      <td>20.9022451</td>\n      <td>-105.4159466</td>\n    </tr>\n    <tr>\n      <th>3</th>\n      <td>4</td>\n      <td>9 de febrero de 2021</td>\n      <td>Maquiro</td>\n      <td>Muy buena playa</td>\n      <td>Excelente playa, tranquila para meterse a nada...</td>\n      <td>4</td>\n      <td>a</td>\n      <td>Nayarit</td>\n      <td>Playa San Pancho</td>\n      <td>20.9022451</td>\n      <td>-105.4159466</td>\n    </tr>\n    <tr>\n      <th>4</th>\n      <td>5</td>\n      <td>4 de enero de 2021</td>\n      <td>Odyssey585290</td>\n      <td>preciosa playa</td>\n      <td>lastima que la gente deje la basura ahi botada...</td>\n      <td>4</td>\n      <td>a</td>\n      <td>Nayarit</td>\n      <td>Playa San Pancho</td>\n      <td>20.9022451</td>\n      <td>-105.4159466</td>\n    </tr>\n    <tr>\n      <th>...</th>\n      <td>...</td>\n      <td>...</td>\n      <td>...</td>\n      <td>...</td>\n      <td>...</td>\n      <td>...</td>\n      <td>...</td>\n      <td>...</td>\n      <td>...</td>\n      <td>...</td>\n      <td>...</td>\n    </tr>\n    <tr>\n      <th>80</th>\n      <td>65</td>\n      <td></td>\n      <td>David</td>\n      <td>Pequeña, pintoresca y hermosa puesta de sol.</td>\n      <td>Fui aquí en noviembre de 2020. Linda playa, no...</td>\n      <td>4</td>\n      <td>m</td>\n      <td>Nayarit</td>\n      <td>Playa San Pancho</td>\n      <td>20.9022451</td>\n      <td>-105.4159466</td>\n    </tr>\n    <tr>\n      <th>81</th>\n      <td>66</td>\n      <td></td>\n      <td>Kate H</td>\n      <td>Esta es una playa hermosa y tranquila, pero no...</td>\n      <td>Si quieres tu mejor oportunidad de nadar de fo...</td>\n      <td>5</td>\n      <td>f</td>\n      <td>Nayarit</td>\n      <td>Playa San Pancho</td>\n      <td>20.9022451</td>\n      <td>-105.4159466</td>\n    </tr>\n    <tr>\n      <th>82</th>\n      <td>67</td>\n      <td></td>\n      <td>Quirr0</td>\n      <td>Impresionante playa en la Riviera Nayarita</td>\n      <td>Uno de mis lugares favoritos y playas en la Ri...</td>\n      <td>5</td>\n      <td>a</td>\n      <td>Nayarit</td>\n      <td>Playa San Pancho</td>\n      <td>20.9022451</td>\n      <td>-105.4159466</td>\n    </tr>\n    <tr>\n      <th>83</th>\n      <td>68</td>\n      <td></td>\n      <td>Mike T</td>\n      <td>Limpio y no estaba lleno!</td>\n      <td>Nos alojábamos en Sayulita y buscando una play...</td>\n      <td>5</td>\n      <td>m</td>\n      <td>Nayarit</td>\n      <td>Playa San Pancho</td>\n      <td>20.9022451</td>\n      <td>-105.4159466</td>\n    </tr>\n    <tr>\n      <th>84</th>\n      <td>69</td>\n      <td></td>\n      <td>vanDongenFamily</td>\n      <td>Increíbles playas</td>\n      <td>Tenía dos hijos pequeños y pasamos todo el día...</td>\n      <td>5</td>\n      <td>a</td>\n      <td>Nayarit</td>\n      <td>Playa San Pancho</td>\n      <td>20.9022451</td>\n      <td>-105.4159466</td>\n    </tr>\n  </tbody>\n</table>\n<p>85 rows × 11 columns</p>\n</div>",
      "text/plain": "    id        fecha_estancia          usuario  \\\n0    1   24 de marzo de 2022  María Julieta E   \n1    2   17 de abril de 2021        Gerardo R   \n2    3   15 de marzo de 2021          Diego G   \n3    4  9 de febrero de 2021          Maquiro   \n4    5    4 de enero de 2021    Odyssey585290   \n..  ..                   ...              ...   \n80  65                                  David   \n81  66                                 Kate H   \n82  67                                 Quirr0   \n83  68                                 Mike T   \n84  69                        vanDongenFamily   \n\n                                               titulo  \\\n0                                       Playa  amplia   \n1                                          San Pancho   \n2                                   Excelente lugar!!   \n3                                     Muy buena playa   \n4                                      preciosa playa   \n..                                                ...   \n80       Pequeña, pintoresca y hermosa puesta de sol.   \n81  Esta es una playa hermosa y tranquila, pero no...   \n82         Impresionante playa en la Riviera Nayarita   \n83                          Limpio y no estaba lleno!   \n84                                  Increíbles playas   \n\n                                              opinion calificacion genero  \\\n0   La playa es muy amplia y se puede caminar muy ...            5      f   \n1   De verdad que no le pide nada a otras playas, ...            5      m   \n2   Guarda la magia de un pequeño pueblo con una p...            5      m   \n3   Excelente playa, tranquila para meterse a nada...            4      a   \n4   lastima que la gente deje la basura ahi botada...            4      a   \n..                                                ...          ...    ...   \n80  Fui aquí en noviembre de 2020. Linda playa, no...            4      m   \n81  Si quieres tu mejor oportunidad de nadar de fo...            5      f   \n82  Uno de mis lugares favoritos y playas en la Ri...            5      a   \n83  Nos alojábamos en Sayulita y buscando una play...            5      m   \n84  Tenía dos hijos pequeños y pasamos todo el día...            5      a   \n\n     estado             lugar           x             y  \n0   Nayarit  Playa San Pancho  20.9022451  -105.4159466  \n1   Nayarit  Playa San Pancho  20.9022451  -105.4159466  \n2   Nayarit  Playa San Pancho  20.9022451  -105.4159466  \n3   Nayarit  Playa San Pancho  20.9022451  -105.4159466  \n4   Nayarit  Playa San Pancho  20.9022451  -105.4159466  \n..      ...               ...         ...           ...  \n80  Nayarit  Playa San Pancho  20.9022451  -105.4159466  \n81  Nayarit  Playa San Pancho  20.9022451  -105.4159466  \n82  Nayarit  Playa San Pancho  20.9022451  -105.4159466  \n83  Nayarit  Playa San Pancho  20.9022451  -105.4159466  \n84  Nayarit  Playa San Pancho  20.9022451  -105.4159466  \n\n[85 rows x 11 columns]"
     },
     "execution_count": 12,
     "metadata": {},
     "output_type": "execute_result"
    }
   ],
   "execution_count": null
  },
  {
   "cell_type": "code",
   "metadata": {
    "cell_id": "00012-abbb7447-590d-4303-aeac-4dc25dba3edf",
    "deepnote_cell_type": "code",
    "deepnote_cell_height": 274,
    "deepnote_output_heights": [
     177
    ]
   },
   "source": "data.groupby(['calificacion']).count()",
   "outputs": [
    {
     "data": {
      "text/html": "<div>\n<style scoped>\n    .dataframe tbody tr th:only-of-type {\n        vertical-align: middle;\n    }\n\n    .dataframe tbody tr th {\n        vertical-align: top;\n    }\n\n    .dataframe thead th {\n        text-align: right;\n    }\n</style>\n<table border=\"1\" class=\"dataframe\">\n  <thead>\n    <tr style=\"text-align: right;\">\n      <th></th>\n      <th>id</th>\n      <th>fecha_estancia</th>\n      <th>usuario</th>\n      <th>titulo</th>\n      <th>opinion</th>\n      <th>genero</th>\n      <th>estado</th>\n      <th>lugar</th>\n      <th>x</th>\n      <th>y</th>\n    </tr>\n    <tr>\n      <th>calificacion</th>\n      <th></th>\n      <th></th>\n      <th></th>\n      <th></th>\n      <th></th>\n      <th></th>\n      <th></th>\n      <th></th>\n      <th></th>\n      <th></th>\n    </tr>\n  </thead>\n  <tbody>\n    <tr>\n      <th>2</th>\n      <td>2</td>\n      <td>2</td>\n      <td>2</td>\n      <td>2</td>\n      <td>2</td>\n      <td>2</td>\n      <td>2</td>\n      <td>2</td>\n      <td>2</td>\n      <td>2</td>\n    </tr>\n    <tr>\n      <th>3</th>\n      <td>3</td>\n      <td>3</td>\n      <td>3</td>\n      <td>3</td>\n      <td>3</td>\n      <td>3</td>\n      <td>3</td>\n      <td>3</td>\n      <td>3</td>\n      <td>3</td>\n    </tr>\n    <tr>\n      <th>4</th>\n      <td>23</td>\n      <td>23</td>\n      <td>23</td>\n      <td>23</td>\n      <td>23</td>\n      <td>23</td>\n      <td>23</td>\n      <td>23</td>\n      <td>23</td>\n      <td>23</td>\n    </tr>\n    <tr>\n      <th>5</th>\n      <td>57</td>\n      <td>57</td>\n      <td>57</td>\n      <td>57</td>\n      <td>57</td>\n      <td>57</td>\n      <td>57</td>\n      <td>57</td>\n      <td>57</td>\n      <td>57</td>\n    </tr>\n  </tbody>\n</table>\n</div>",
      "text/plain": "              id  fecha_estancia  usuario  titulo  opinion  genero  estado  \\\ncalificacion                                                                 \n2              2               2        2       2        2       2       2   \n3              3               3        3       3        3       3       3   \n4             23              23       23      23       23      23      23   \n5             57              57       57      57       57      57      57   \n\n              lugar   x   y  \ncalificacion                 \n2                 2   2   2  \n3                 3   3   3  \n4                23  23  23  \n5                57  57  57  "
     },
     "execution_count": 13,
     "metadata": {},
     "output_type": "execute_result"
    }
   ],
   "execution_count": null
  },
  {
   "cell_type": "code",
   "metadata": {
    "cell_id": "00013-04476255-9456-40ec-a3c0-01846526e32c",
    "deepnote_cell_type": "code",
    "deepnote_cell_height": 66
   },
   "source": "export_csv = data.to_csv (\"MDC_17.csv\", index = None, header=True , encoding='UTF-8')",
   "outputs": [],
   "execution_count": null
  },
  {
   "cell_type": "code",
   "metadata": {
    "cell_id": "00014-f9a815a9-07dd-4ecf-b63b-da7b06cfc020",
    "deepnote_cell_type": "code",
    "deepnote_cell_height": 66
   },
   "source": "",
   "execution_count": null,
   "outputs": []
  },
  {
   "cell_type": "code",
   "metadata": {
    "cell_id": "00015-40f42053-5e8e-4ef7-9f4d-675dfde823e1",
    "deepnote_cell_type": "code",
    "deepnote_cell_height": 66
   },
   "source": "",
   "execution_count": null,
   "outputs": []
  },
  {
   "cell_type": "code",
   "metadata": {
    "cell_id": "00016-74973bbb-bc73-4f7e-b174-ee05470ad9cc",
    "deepnote_cell_type": "code",
    "deepnote_cell_height": 66
   },
   "source": "",
   "execution_count": null,
   "outputs": []
  },
  {
   "cell_type": "code",
   "metadata": {
    "cell_id": "00017-ea9e2865-8c97-4a29-8704-81f6bce019e7",
    "deepnote_cell_type": "code",
    "deepnote_cell_height": 102
   },
   "source": "c=0\nsamples = soup.find_all(\"div\", \"ffbzW _c\")\nsample = samples[c]",
   "outputs": [],
   "execution_count": null
  },
  {
   "cell_type": "code",
   "metadata": {
    "cell_id": "00018-08630b28-03b4-45fb-b136-1e2133c96c69",
    "deepnote_cell_type": "code",
    "deepnote_cell_height": 290.953125,
    "deepnote_output_heights": [
     193.953125
    ]
   },
   "source": "samples",
   "outputs": [
    {
     "data": {
      "text/plain": "[<div class=\"ffbzW _c\" data-automation=\"reviewCard\"><div class=\"ezLVz f M k\"><div class=\"bJyQA f u o\"><div class=\"fksET\"><div class=\"baYaB f u\"><div class=\"bQEAh\" style=\"z-index:0\"><div class=\"\"><div class=\"fknJY svvjk Rb I o\"><div class=\"\"><a aria-hidden=\"true\" class=\"iPqaD _F G- ddFHE eKwUx\" href=\"/Profile/iqueabel\" tabindex=\"-1\" target=\"_self\"><div class=\"btBEK eglJy\"><picture class=\"dugSS _R\" style=\"width:32px;height:32px\"><img alt=\"Abel Gómez\" height=\"100\" loading=\"lazy\" src=\"https://dynamic-media-cdn.tripadvisor.com/media/photo-o/22/65/93/59/abel-m.jpg?w=100&amp;h=-1&amp;s=1\" width=\"100\"/></picture></div></a></div></div></div></div></div></div><div class=\"cjhIj\"><span class=\"WlYyy cPsXC dTqpp\"><a class=\"iPqaD _F G- ddFHE eKwUx btBEK fUpii\" href=\"/Profile/iqueabel\" target=\"_self\">Abel Gómez</a></span><div class=\"ddOtn\"><div class=\"WlYyy diXIH bQCoY\"><span>Reynosa, México</span><span class=\"fhriQ\">13 aportes</span></div></div></div></div><div class=\"Ixpqj f\"><button aria-label=\"Haz clic para agregar un voto útil\" class=\"dfuux u j z _F ddFHE bLQvU dQDUG\" type=\"button\"><svg class=\"bDFSd d Vb ymbyq\" height=\"20px\" viewbox=\"0 0 24 24\" width=\"20px\"><path d=\"M3.025 9.963c-.566 0-1.025.459-1.025 1.025v9.732h2.051v-9.732c0-.566-.459-1.025-1.026-1.025zM21.493 9.111a2.05 2.05 0 00-1.546-.703h-4.306l.541-2.67c.122-.606-.032-1.228-.424-1.706s-.97-.753-1.588-.753h-2.348l-5.72 7.358V20.72h12.59a2.038 2.038 0 002.027-1.74l1.261-8.241a2.045 2.045 0 00-.487-1.628zm-2.799 9.557H8.154v-7.326l4.672-6.01h1.345l-1.037 5.128 6.816-.015-1.256 8.223z\"></path></svg><span class=\"eKtLG\"><span class=\"WlYyy bTDWl\">0</span></span></button><div class=\"QvIvN _T\"><div class=\"MwbTc w _T\"><button aria-haspopup=\"menu\" aria-label=\"Abrir menú de opciones\" class=\"dfuux u j z _F ddFHE bLQvU dQDUG\" type=\"button\"><svg class=\"bDFSd d Vb ymbyq\" height=\"20px\" viewbox=\"0 0 24 24\" width=\"20px\" x=\"0\" y=\"0\"><circle cx=\"12\" cy=\"19.4\" r=\"2.5\"></circle><circle cx=\"12\" cy=\"4.4\" r=\"2.5\"></circle><circle cx=\"12\" cy=\"11.9\" r=\"2.5\"></circle></svg></button></div></div></div></div><div><svg aria-label=\"5.0 de 5 burbujas\" class=\"RWYkj d H0\" height=\"16\" viewbox=\"0 0 128 24\" width=\"88\"><path d=\"M 12 0C5.388 0 0 5.388 0 12s5.388 12 12 12 12-5.38 12-12c0-6.612-5.38-12-12-12z\" transform=\"\"></path><path d=\"M 12 0C5.388 0 0 5.388 0 12s5.388 12 12 12 12-5.38 12-12c0-6.612-5.38-12-12-12z\" transform=\"translate(26 0)\"></path><path d=\"M 12 0C5.388 0 0 5.388 0 12s5.388 12 12 12 12-5.38 12-12c0-6.612-5.38-12-12-12z\" transform=\"translate(52 0)\"></path><path d=\"M 12 0C5.388 0 0 5.388 0 12s5.388 12 12 12 12-5.38 12-12c0-6.612-5.38-12-12-12z\" transform=\"translate(78 0)\"></path><path d=\"M 12 0C5.388 0 0 5.388 0 12s5.388 12 12 12 12-5.38 12-12c0-6.612-5.38-12-12-12z\" transform=\"translate(104 0)\"></path></svg></div><div class=\"WlYyy cPsXC bLFSo cspKb dTqpp\"><a class=\"iPqaD _F G- ddFHE eKwUx btBEK fUpii\" href=\"/ShowUserReviews-g152515-d186117-r830652817-Medano_Beach-Cabo_San_Lucas_Los_Cabos_Baja_California.html\" tabindex=\"0\" target=\"_blank\"><span class=\"NejBf\">Playa Hermosa</span></a></div><div class=\"eRduX\">mar de 2022 • Amigos</div><div class=\"duhwe _T bOlcm\"><div class=\"pIRBV _T KRIav\" style=\"line-break: normal; cursor: auto;\"><div class=\"WlYyy diXIH dDKKM\"><span class=\"NejBf\">La playa principal de Cabo San Lucas, es su carta de presentación, aquí encuentras fiesta, tragos, beach club’s, restaurantes excelentes con distintas opciones culinarias para degustar, varios hoteles de renombre a pie de playa y Medano es de las pocas playas nadables en Cabo.</span></div></div><div class=\"eIVRK\" style=\"line-height: 22px;\"><button class=\"bfQwA _G B- _S _T c G_ P0 ddFHE cnvzr\" type=\"button\"><span class=\"WlYyy cacGK Wb\">Leer más</span><div class=\"bLMrm\"><svg class=\"bDFSd d Vb ymbyq\" height=\"20px\" viewbox=\"0 0 24 24\" width=\"20px\"><path d=\"M18.4 7.4L12 13.7 5.6 7.4 4.2 8.8l7.8 7.8 7.8-7.8z\"></path></svg></div></button></div></div><div></div><div class=\"eRAoj _e q\"><button aria-label=\"Ver la imagen completa de la opinión\" class=\"fxnQr _S B-\"><picture class=\"dugSS _R\" style=\"width:100px;height:100px\"><img alt=\"\" height=\"100\" loading=\"lazy\" role=\"none\" src=\"https://dynamic-media-cdn.tripadvisor.com/media/photo-o/22/65/97/13/caption.jpg?w=100&amp;h=-1&amp;s=1\" srcset=\"https://dynamic-media-cdn.tripadvisor.com/media/photo-o/22/65/97/13/caption.jpg?w=100&amp;h=-1&amp;s=1 1x,https://dynamic-media-cdn.tripadvisor.com/media/photo-o/22/65/97/13/caption.jpg?w=200&amp;h=-1&amp;s=1 2x\" width=\"100\"/></picture></button><button aria-label=\"Ver la imagen completa de la opinión\" class=\"fxnQr _S B-\"><picture class=\"dugSS _R\" style=\"width:100px;height:100px\"><img alt=\"\" height=\"100\" loading=\"lazy\" role=\"none\" src=\"https://dynamic-media-cdn.tripadvisor.com/media/photo-o/22/65/97/14/caption.jpg?w=100&amp;h=-1&amp;s=1\" srcset=\"https://dynamic-media-cdn.tripadvisor.com/media/photo-o/22/65/97/14/caption.jpg?w=100&amp;h=-1&amp;s=1 1x,https://dynamic-media-cdn.tripadvisor.com/media/photo-o/22/65/97/14/caption.jpg?w=200&amp;h=-1&amp;s=1 2x\" width=\"100\"/></picture></button><button aria-label=\"Ver la imagen completa de la opinión\" class=\"fxnQr _S B-\"><picture class=\"dugSS _R\" style=\"width:100px;height:100px\"><img alt=\"\" height=\"150\" loading=\"lazy\" role=\"none\" src=\"https://dynamic-media-cdn.tripadvisor.com/media/photo-o/22/65/97/15/caption.jpg?w=200&amp;h=-1&amp;s=1\" srcset=\"https://dynamic-media-cdn.tripadvisor.com/media/photo-o/22/65/97/15/caption.jpg?w=200&amp;h=-1&amp;s=1 1x,https://dynamic-media-cdn.tripadvisor.com/media/photo-o/22/65/97/15/caption.jpg?w=200&amp;h=200&amp;s=1 2x\" width=\"200\"/></picture></button><button aria-label=\"Ver la imagen completa de la opinión\" class=\"fxnQr _S B-\"><picture class=\"dugSS _R\" style=\"width:100px;height:100px\"><img alt=\"\" height=\"134\" loading=\"lazy\" role=\"none\" src=\"https://dynamic-media-cdn.tripadvisor.com/media/photo-o/22/65/97/16/caption.jpg?w=100&amp;h=-1&amp;s=1\" srcset=\"https://dynamic-media-cdn.tripadvisor.com/media/photo-o/22/65/97/16/caption.jpg?w=100&amp;h=-1&amp;s=1 1x,https://dynamic-media-cdn.tripadvisor.com/media/photo-o/22/65/97/16/caption.jpg?w=200&amp;h=200&amp;s=1 2x\" width=\"100\"/></picture></button><button aria-label=\"Ver la imagen completa de la opinión\" class=\"fxnQr _S B-\"><picture class=\"dugSS _R\" style=\"width:100px;height:100px\"><img alt=\"\" height=\"150\" loading=\"lazy\" role=\"none\" src=\"https://dynamic-media-cdn.tripadvisor.com/media/photo-o/22/65/97/17/caption.jpg?w=200&amp;h=-1&amp;s=1\" srcset=\"https://dynamic-media-cdn.tripadvisor.com/media/photo-o/22/65/97/17/caption.jpg?w=200&amp;h=-1&amp;s=1 1x,https://dynamic-media-cdn.tripadvisor.com/media/photo-o/22/65/97/17/caption.jpg?w=200&amp;h=200&amp;s=1 2x\" width=\"200\"/></picture></button><button aria-label=\"Ver la imagen completa de la opinión\" class=\"fxnQr _S B-\"><picture class=\"dugSS _R\" style=\"width:100px;height:100px\"><img alt=\"\" height=\"150\" loading=\"lazy\" role=\"none\" src=\"https://dynamic-media-cdn.tripadvisor.com/media/photo-o/22/65/97/18/caption.jpg?w=200&amp;h=-1&amp;s=1\" srcset=\"https://dynamic-media-cdn.tripadvisor.com/media/photo-o/22/65/97/18/caption.jpg?w=200&amp;h=-1&amp;s=1 1x,https://dynamic-media-cdn.tripadvisor.com/media/photo-o/22/65/97/18/caption.jpg?w=200&amp;h=200&amp;s=1 2x\" width=\"200\"/></picture></button><button aria-label=\"Ver la imagen completa de la opinión\" class=\"fxnQr _S B-\"><picture class=\"dugSS _R\" style=\"width:100px;height:100px\"><img alt=\"\" height=\"150\" loading=\"lazy\" role=\"none\" src=\"https://dynamic-media-cdn.tripadvisor.com/media/photo-o/22/65/97/19/caption.jpg?w=200&amp;h=-1&amp;s=1\" srcset=\"https://dynamic-media-cdn.tripadvisor.com/media/photo-o/22/65/97/19/caption.jpg?w=200&amp;h=-1&amp;s=1 1x,https://dynamic-media-cdn.tripadvisor.com/media/photo-o/22/65/97/19/caption.jpg?w=200&amp;h=200&amp;s=1 2x\" width=\"200\"/></picture></button></div><div class=\"fxays\"><div class=\"WlYyy diXIH cspKb bQCoY\">Escrita el 9 de marzo de 2022</div><div class=\"WlYyy diXIH MLeMj bQCoY\">Esta opinión es la opinión subjetiva de un miembro de Tripadvisor, no de TripAdvisor LLC.</div></div></div>,\n <div class=\"ffbzW _c\" data-automation=\"reviewCard\"><div class=\"ezLVz f M k\"><div class=\"bJyQA f u o\"><div class=\"fksET\"><div class=\"baYaB f u\"><div class=\"bQEAh\" style=\"z-index:0\"><div class=\"\"><div class=\"fknJY svvjk Rb I o\"><div class=\"\"><a aria-hidden=\"true\" class=\"iPqaD _F G- ddFHE eKwUx\" href=\"/Profile/pikiki\" tabindex=\"-1\" target=\"_self\"><div class=\"btBEK eglJy\"><picture class=\"dugSS _R\" style=\"width:32px;height:32px\"><img alt=\"pikiki\" height=\"100\" loading=\"lazy\" src=\"https://dynamic-media-cdn.tripadvisor.com/media/photo-o/1a/f6/f3/e4/default-avatar-2020-30.jpg?w=100&amp;h=-1&amp;s=1\" width=\"100\"/></picture></div></a></div></div></div></div></div></div><div class=\"cjhIj\"><span class=\"WlYyy cPsXC dTqpp\"><a class=\"iPqaD _F G- ddFHE eKwUx btBEK fUpii\" href=\"/Profile/pikiki\" target=\"_self\">pikiki</a></span><div class=\"ddOtn\"><div class=\"WlYyy diXIH bQCoY\"><span>Doaui, France</span><span class=\"fhriQ\">37 aportes</span></div></div></div></div><div class=\"Ixpqj f\"><button aria-label=\"Haz clic para agregar un voto útil\" class=\"dfuux u j z _F ddFHE bLQvU dQDUG\" type=\"button\"><svg class=\"bDFSd d Vb ymbyq\" height=\"20px\" viewbox=\"0 0 24 24\" width=\"20px\"><path d=\"M3.025 9.963c-.566 0-1.025.459-1.025 1.025v9.732h2.051v-9.732c0-.566-.459-1.025-1.026-1.025zM21.493 9.111a2.05 2.05 0 00-1.546-.703h-4.306l.541-2.67c.122-.606-.032-1.228-.424-1.706s-.97-.753-1.588-.753h-2.348l-5.72 7.358V20.72h12.59a2.038 2.038 0 002.027-1.74l1.261-8.241a2.045 2.045 0 00-.487-1.628zm-2.799 9.557H8.154v-7.326l4.672-6.01h1.345l-1.037 5.128 6.816-.015-1.256 8.223z\"></path></svg><span class=\"eKtLG\"><span class=\"WlYyy bTDWl\">1</span></span></button><div class=\"QvIvN _T\"><div class=\"MwbTc w _T\"><button aria-haspopup=\"menu\" aria-label=\"Abrir menú de opciones\" class=\"dfuux u j z _F ddFHE bLQvU dQDUG\" type=\"button\"><svg class=\"bDFSd d Vb ymbyq\" height=\"20px\" viewbox=\"0 0 24 24\" width=\"20px\" x=\"0\" y=\"0\"><circle cx=\"12\" cy=\"19.4\" r=\"2.5\"></circle><circle cx=\"12\" cy=\"4.4\" r=\"2.5\"></circle><circle cx=\"12\" cy=\"11.9\" r=\"2.5\"></circle></svg></button></div></div></div></div><div><svg aria-label=\"2.0 de 5 burbujas\" class=\"RWYkj d H0\" height=\"16\" viewbox=\"0 0 128 24\" width=\"88\"><path d=\"M 12 0C5.388 0 0 5.388 0 12s5.388 12 12 12 12-5.38 12-12c0-6.612-5.38-12-12-12z\" transform=\"\"></path><path d=\"M 12 0C5.388 0 0 5.388 0 12s5.388 12 12 12 12-5.38 12-12c0-6.612-5.38-12-12-12z\" transform=\"translate(26 0)\"></path><path d=\"M 12 0C5.388 0 0 5.388 0 12s5.388 12 12 12 12-5.38 12-12c0-6.612-5.38-12-12-12zm0 2a9.983 9.983 0 019.995 10 10 10 0 01-10 10A10 10 0 012 12 10 10 0 0112 2z\" transform=\"translate(52 0)\"></path><path d=\"M 12 0C5.388 0 0 5.388 0 12s5.388 12 12 12 12-5.38 12-12c0-6.612-5.38-12-12-12zm0 2a9.983 9.983 0 019.995 10 10 10 0 01-10 10A10 10 0 012 12 10 10 0 0112 2z\" transform=\"translate(78 0)\"></path><path d=\"M 12 0C5.388 0 0 5.388 0 12s5.388 12 12 12 12-5.38 12-12c0-6.612-5.38-12-12-12zm0 2a9.983 9.983 0 019.995 10 10 10 0 01-10 10A10 10 0 012 12 10 10 0 0112 2z\" transform=\"translate(104 0)\"></path></svg></div><div class=\"WlYyy cPsXC bLFSo cspKb dTqpp\"><a class=\"iPqaD _F G- ddFHE eKwUx btBEK fUpii\" href=\"/ShowUserReviews-g152515-d186117-r827780529-Medano_Beach-Cabo_San_Lucas_Los_Cabos_Baja_California.html\" tabindex=\"0\" target=\"_blank\"><span class=\"NejBf\">Horrible</span></a></div><div class=\"eRduX\">feb de 2022 • Pareja</div><div class=\"duhwe _T bOlcm\"><div class=\"pIRBV _T KRIav\" style=\"line-break: normal; cursor: auto;\"><div class=\"WlYyy diXIH dDKKM\"><span class=\"NejBf\">Popular, ruidosa, imposible disfrutar . <br/>Muy maja para nadar.<br/>Un horror. <br/>La peor experiencia en baja.<br/>No la recomiendo para nada</span></div></div><div class=\"eIVRK\" style=\"line-height: 22px;\"><button class=\"bfQwA _G B- _S _T c G_ P0 ddFHE cnvzr\" type=\"button\"><span class=\"WlYyy cacGK Wb\">Leer más</span><div class=\"bLMrm\"><svg class=\"bDFSd d Vb ymbyq\" height=\"20px\" viewbox=\"0 0 24 24\" width=\"20px\"><path d=\"M18.4 7.4L12 13.7 5.6 7.4 4.2 8.8l7.8 7.8 7.8-7.8z\"></path></svg></div></button></div></div><div></div><div class=\"fxays\"><div class=\"WlYyy diXIH cspKb bQCoY\">Escrita el 13 de febrero de 2022</div><div class=\"WlYyy diXIH MLeMj bQCoY\">Esta opinión es la opinión subjetiva de un miembro de Tripadvisor, no de TripAdvisor LLC.</div></div></div>,\n <div class=\"ffbzW _c\" data-automation=\"reviewCard\"><div class=\"ezLVz f M k\"><div class=\"bJyQA f u o\"><div class=\"fksET\"><div class=\"baYaB f u\"><div class=\"bQEAh\" style=\"z-index:0\"><div class=\"\"><div class=\"fknJY svvjk Rb I o\"><div class=\"\"><a aria-hidden=\"true\" class=\"iPqaD _F G- ddFHE eKwUx\" href=\"/Profile/Mikestevens2389\" tabindex=\"-1\" target=\"_self\"><div class=\"btBEK eglJy\"><picture class=\"dugSS _R\" style=\"width:32px;height:32px\"><img alt=\"Mike\" height=\"100\" loading=\"lazy\" src=\"https://dynamic-media-cdn.tripadvisor.com/media/photo-o/1a/f6/f0/48/default-avatar-2020-15.jpg?w=100&amp;h=-1&amp;s=1\" width=\"100\"/></picture></div></a></div></div></div></div></div></div><div class=\"cjhIj\"><span class=\"WlYyy cPsXC dTqpp\"><a class=\"iPqaD _F G- ddFHE eKwUx btBEK fUpii\" href=\"/Profile/Mikestevens2389\" target=\"_self\">Mike</a></span><div class=\"ddOtn\"><div class=\"WlYyy diXIH bQCoY\"><span class=\"\">2 aportes</span></div></div></div></div><div class=\"Ixpqj f\"><button aria-label=\"Haz clic para agregar un voto útil\" class=\"dfuux u j z _F ddFHE bLQvU dQDUG\" type=\"button\"><svg class=\"bDFSd d Vb ymbyq\" height=\"20px\" viewbox=\"0 0 24 24\" width=\"20px\"><path d=\"M3.025 9.963c-.566 0-1.025.459-1.025 1.025v9.732h2.051v-9.732c0-.566-.459-1.025-1.026-1.025zM21.493 9.111a2.05 2.05 0 00-1.546-.703h-4.306l.541-2.67c.122-.606-.032-1.228-.424-1.706s-.97-.753-1.588-.753h-2.348l-5.72 7.358V20.72h12.59a2.038 2.038 0 002.027-1.74l1.261-8.241a2.045 2.045 0 00-.487-1.628zm-2.799 9.557H8.154v-7.326l4.672-6.01h1.345l-1.037 5.128 6.816-.015-1.256 8.223z\"></path></svg><span class=\"eKtLG\"><span class=\"WlYyy bTDWl\">0</span></span></button><div class=\"QvIvN _T\"><div class=\"MwbTc w _T\"><button aria-haspopup=\"menu\" aria-label=\"Abrir menú de opciones\" class=\"dfuux u j z _F ddFHE bLQvU dQDUG\" type=\"button\"><svg class=\"bDFSd d Vb ymbyq\" height=\"20px\" viewbox=\"0 0 24 24\" width=\"20px\" x=\"0\" y=\"0\"><circle cx=\"12\" cy=\"19.4\" r=\"2.5\"></circle><circle cx=\"12\" cy=\"4.4\" r=\"2.5\"></circle><circle cx=\"12\" cy=\"11.9\" r=\"2.5\"></circle></svg></button></div></div></div></div><div><svg aria-label=\"5.0 de 5 burbujas\" class=\"RWYkj d H0\" height=\"16\" viewbox=\"0 0 128 24\" width=\"88\"><path d=\"M 12 0C5.388 0 0 5.388 0 12s5.388 12 12 12 12-5.38 12-12c0-6.612-5.38-12-12-12z\" transform=\"\"></path><path d=\"M 12 0C5.388 0 0 5.388 0 12s5.388 12 12 12 12-5.38 12-12c0-6.612-5.38-12-12-12z\" transform=\"translate(26 0)\"></path><path d=\"M 12 0C5.388 0 0 5.388 0 12s5.388 12 12 12 12-5.38 12-12c0-6.612-5.38-12-12-12z\" transform=\"translate(52 0)\"></path><path d=\"M 12 0C5.388 0 0 5.388 0 12s5.388 12 12 12 12-5.38 12-12c0-6.612-5.38-12-12-12z\" transform=\"translate(78 0)\"></path><path d=\"M 12 0C5.388 0 0 5.388 0 12s5.388 12 12 12 12-5.38 12-12c0-6.612-5.38-12-12-12z\" transform=\"translate(104 0)\"></path></svg></div><div class=\"WlYyy cPsXC bLFSo cspKb dTqpp\"><a class=\"iPqaD _F G- ddFHE eKwUx btBEK fUpii\" href=\"/ShowUserReviews-g152515-d186117-r820623714-Medano_Beach-Cabo_San_Lucas_Los_Cabos_Baja_California.html\" tabindex=\"0\" target=\"_blank\"><span class=\"NejBf\">Fantástico</span></a></div><div class=\"eRduX\">nov de 2021 • Amigos</div><div class=\"duhwe _T bOlcm\"><div class=\"pIRBV _T KRIav\" style=\"line-break: normal; cursor: auto;\"><div class=\"WlYyy diXIH dDKKM\"><span class=\"NejBf\">Exelente lugar, bonito,tranquilo y bueno para nadar,recomiendo por ser una belleza de paisaje principal.</span></div></div><div class=\"eIVRK\" style=\"line-height: 22px;\"><button class=\"bfQwA _G B- _S _T c G_ P0 ddFHE cnvzr\" type=\"button\"><span class=\"WlYyy cacGK Wb\">Leer más</span><div class=\"bLMrm\"><svg class=\"bDFSd d Vb ymbyq\" height=\"20px\" viewbox=\"0 0 24 24\" width=\"20px\"><path d=\"M18.4 7.4L12 13.7 5.6 7.4 4.2 8.8l7.8 7.8 7.8-7.8z\"></path></svg></div></button></div></div><div></div><div class=\"eRAoj _e q\"><button aria-label=\"Ver la imagen completa de la opinión\" class=\"fxnQr _S B-\"><picture class=\"dugSS _R\" style=\"width:100px;height:100px\"><img alt=\"\" height=\"150\" loading=\"lazy\" role=\"none\" src=\"https://dynamic-media-cdn.tripadvisor.com/media/photo-o/21/7e/4e/8f/playa-el-medano.jpg?w=200&amp;h=-1&amp;s=1\" srcset=\"https://dynamic-media-cdn.tripadvisor.com/media/photo-o/21/7e/4e/8f/playa-el-medano.jpg?w=200&amp;h=-1&amp;s=1 1x,https://dynamic-media-cdn.tripadvisor.com/media/photo-o/21/7e/4e/8f/playa-el-medano.jpg?w=200&amp;h=200&amp;s=1 2x\" width=\"200\"/></picture></button></div><div class=\"fxays\"><div class=\"WlYyy diXIH cspKb bQCoY\">Escrita el 1 de diciembre de 2021</div><div class=\"WlYyy diXIH MLeMj bQCoY\">Esta opinión es la opinión subjetiva de un miembro de Tripadvisor, no de TripAdvisor LLC.</div></div></div>,\n <div class=\"ffbzW _c\" data-automation=\"reviewCard\"><div class=\"ezLVz f M k\"><div class=\"bJyQA f u o\"><div class=\"fksET\"><div class=\"baYaB f u\"><div class=\"bQEAh\" style=\"z-index:0\"><div class=\"\"><div class=\"fknJY svvjk Rb I o\"><div class=\"\"><a aria-hidden=\"true\" class=\"iPqaD _F G- ddFHE eKwUx\" href=\"/Profile/lisont747\" tabindex=\"-1\" target=\"_self\"><div class=\"btBEK eglJy\"><picture class=\"dugSS _R\" style=\"width:32px;height:32px\"><img alt=\"Loren AO\" height=\"100\" loading=\"lazy\" src=\"https://dynamic-media-cdn.tripadvisor.com/media/photo-o/1a/f6/e9/bb/default-avatar-2020-65.jpg?w=100&amp;h=-1&amp;s=1\" width=\"100\"/></picture></div></a></div></div></div></div></div></div><div class=\"cjhIj\"><span class=\"WlYyy cPsXC dTqpp\"><a class=\"iPqaD _F G- ddFHE eKwUx btBEK fUpii\" href=\"/Profile/lisont747\" target=\"_self\">Loren AO</a></span><div class=\"ddOtn\"><div class=\"WlYyy diXIH bQCoY\"><span>Uruapan, México</span><span class=\"fhriQ\">1 aporte</span></div></div></div></div><div class=\"Ixpqj f\"><button aria-label=\"Haz clic para agregar un voto útil\" class=\"dfuux u j z _F ddFHE bLQvU dQDUG\" type=\"button\"><svg class=\"bDFSd d Vb ymbyq\" height=\"20px\" viewbox=\"0 0 24 24\" width=\"20px\"><path d=\"M3.025 9.963c-.566 0-1.025.459-1.025 1.025v9.732h2.051v-9.732c0-.566-.459-1.025-1.026-1.025zM21.493 9.111a2.05 2.05 0 00-1.546-.703h-4.306l.541-2.67c.122-.606-.032-1.228-.424-1.706s-.97-.753-1.588-.753h-2.348l-5.72 7.358V20.72h12.59a2.038 2.038 0 002.027-1.74l1.261-8.241a2.045 2.045 0 00-.487-1.628zm-2.799 9.557H8.154v-7.326l4.672-6.01h1.345l-1.037 5.128 6.816-.015-1.256 8.223z\"></path></svg><span class=\"eKtLG\"><span class=\"WlYyy bTDWl\">0</span></span></button><div class=\"QvIvN _T\"><div class=\"MwbTc w _T\"><button aria-haspopup=\"menu\" aria-label=\"Abrir menú de opciones\" class=\"dfuux u j z _F ddFHE bLQvU dQDUG\" type=\"button\"><svg class=\"bDFSd d Vb ymbyq\" height=\"20px\" viewbox=\"0 0 24 24\" width=\"20px\" x=\"0\" y=\"0\"><circle cx=\"12\" cy=\"19.4\" r=\"2.5\"></circle><circle cx=\"12\" cy=\"4.4\" r=\"2.5\"></circle><circle cx=\"12\" cy=\"11.9\" r=\"2.5\"></circle></svg></button></div></div></div></div><div><svg aria-label=\"5.0 de 5 burbujas\" class=\"RWYkj d H0\" height=\"16\" viewbox=\"0 0 128 24\" width=\"88\"><path d=\"M 12 0C5.388 0 0 5.388 0 12s5.388 12 12 12 12-5.38 12-12c0-6.612-5.38-12-12-12z\" transform=\"\"></path><path d=\"M 12 0C5.388 0 0 5.388 0 12s5.388 12 12 12 12-5.38 12-12c0-6.612-5.38-12-12-12z\" transform=\"translate(26 0)\"></path><path d=\"M 12 0C5.388 0 0 5.388 0 12s5.388 12 12 12 12-5.38 12-12c0-6.612-5.38-12-12-12z\" transform=\"translate(52 0)\"></path><path d=\"M 12 0C5.388 0 0 5.388 0 12s5.388 12 12 12 12-5.38 12-12c0-6.612-5.38-12-12-12z\" transform=\"translate(78 0)\"></path><path d=\"M 12 0C5.388 0 0 5.388 0 12s5.388 12 12 12 12-5.38 12-12c0-6.612-5.38-12-12-12z\" transform=\"translate(104 0)\"></path></svg></div><div class=\"WlYyy cPsXC bLFSo cspKb dTqpp\"><a class=\"iPqaD _F G- ddFHE eKwUx btBEK fUpii\" href=\"/ShowUserReviews-g152515-d186117-r813150495-Medano_Beach-Cabo_San_Lucas_Los_Cabos_Baja_California.html\" tabindex=\"0\" target=\"_blank\"><span class=\"NejBf\">Espectacular </span></a></div><div class=\"eRduX\">oct de 2021 • Amigos</div><div class=\"duhwe _T bOlcm\"><div class=\"pIRBV _T KRIav\" style=\"line-break: normal; cursor: auto;\"><div class=\"WlYyy diXIH dDKKM\"><span class=\"NejBf\">Gran playa, la vez que estuvimos se encontraba en excelentes condiciones para pasar el momento con los amigos, tanto el clima como la playa nos ayudo para pasar un buen día. <br/>Hay variedad de platillos y cócteles para degustar de un buen paladar. </span></div></div><div class=\"eIVRK\" style=\"line-height: 22px;\"><button class=\"bfQwA _G B- _S _T c G_ P0 ddFHE cnvzr\" type=\"button\"><span class=\"WlYyy cacGK Wb\">Leer más</span><div class=\"bLMrm\"><svg class=\"bDFSd d Vb ymbyq\" height=\"20px\" viewbox=\"0 0 24 24\" width=\"20px\"><path d=\"M18.4 7.4L12 13.7 5.6 7.4 4.2 8.8l7.8 7.8 7.8-7.8z\"></path></svg></div></button></div></div><div></div><div class=\"fxays\"><div class=\"WlYyy diXIH cspKb bQCoY\">Escrita el 5 de octubre de 2021</div><div class=\"WlYyy diXIH MLeMj bQCoY\">Esta opinión es la opinión subjetiva de un miembro de Tripadvisor, no de TripAdvisor LLC.</div></div></div>,\n <div class=\"ffbzW _c\" data-automation=\"reviewCard\"><div class=\"ezLVz f M k\"><div class=\"bJyQA f u o\"><div class=\"fksET\"><div class=\"baYaB f u\"><div class=\"bQEAh\" style=\"z-index:0\"><div class=\"\"><div class=\"fknJY svvjk Rb I o\"><div class=\"\"><a aria-hidden=\"true\" class=\"iPqaD _F G- ddFHE eKwUx\" href=\"/Profile/yamiletriveron\" tabindex=\"-1\" target=\"_self\"><div class=\"btBEK eglJy\"><picture class=\"dugSS _R\" style=\"width:32px;height:32px\"><img alt=\"yamiletriveron\" height=\"100\" loading=\"lazy\" src=\"https://dynamic-media-cdn.tripadvisor.com/media/photo-o/1a/f6/ee/68/default-avatar-2020-9.jpg?w=100&amp;h=-1&amp;s=1\" width=\"100\"/></picture></div></a></div></div></div></div></div></div><div class=\"cjhIj\"><span class=\"WlYyy cPsXC dTqpp\"><a class=\"iPqaD _F G- ddFHE eKwUx btBEK fUpii\" href=\"/Profile/yamiletriveron\" target=\"_self\">yamiletriveron</a></span><div class=\"ddOtn\"><div class=\"WlYyy diXIH bQCoY\"><span>Las Vegas, NV</span><span class=\"fhriQ\">2 aportes</span></div></div></div></div><div class=\"Ixpqj f\"><button aria-label=\"Haz clic para agregar un voto útil\" class=\"dfuux u j z _F ddFHE bLQvU dQDUG\" type=\"button\"><svg class=\"bDFSd d Vb ymbyq\" height=\"20px\" viewbox=\"0 0 24 24\" width=\"20px\"><path d=\"M3.025 9.963c-.566 0-1.025.459-1.025 1.025v9.732h2.051v-9.732c0-.566-.459-1.025-1.026-1.025zM21.493 9.111a2.05 2.05 0 00-1.546-.703h-4.306l.541-2.67c.122-.606-.032-1.228-.424-1.706s-.97-.753-1.588-.753h-2.348l-5.72 7.358V20.72h12.59a2.038 2.038 0 002.027-1.74l1.261-8.241a2.045 2.045 0 00-.487-1.628zm-2.799 9.557H8.154v-7.326l4.672-6.01h1.345l-1.037 5.128 6.816-.015-1.256 8.223z\"></path></svg><span class=\"eKtLG\"><span class=\"WlYyy bTDWl\">0</span></span></button><div class=\"QvIvN _T\"><div class=\"MwbTc w _T\"><button aria-haspopup=\"menu\" aria-label=\"Abrir menú de opciones\" class=\"dfuux u j z _F ddFHE bLQvU dQDUG\" type=\"button\"><svg class=\"bDFSd d Vb ymbyq\" height=\"20px\" viewbox=\"0 0 24 24\" width=\"20px\" x=\"0\" y=\"0\"><circle cx=\"12\" cy=\"19.4\" r=\"2.5\"></circle><circle cx=\"12\" cy=\"4.4\" r=\"2.5\"></circle><circle cx=\"12\" cy=\"11.9\" r=\"2.5\"></circle></svg></button></div></div></div></div><div><svg aria-label=\"5.0 de 5 burbujas\" class=\"RWYkj d H0\" height=\"16\" viewbox=\"0 0 128 24\" width=\"88\"><path d=\"M 12 0C5.388 0 0 5.388 0 12s5.388 12 12 12 12-5.38 12-12c0-6.612-5.38-12-12-12z\" transform=\"\"></path><path d=\"M 12 0C5.388 0 0 5.388 0 12s5.388 12 12 12 12-5.38 12-12c0-6.612-5.38-12-12-12z\" transform=\"translate(26 0)\"></path><path d=\"M 12 0C5.388 0 0 5.388 0 12s5.388 12 12 12 12-5.38 12-12c0-6.612-5.38-12-12-12z\" transform=\"translate(52 0)\"></path><path d=\"M 12 0C5.388 0 0 5.388 0 12s5.388 12 12 12 12-5.38 12-12c0-6.612-5.38-12-12-12z\" transform=\"translate(78 0)\"></path><path d=\"M 12 0C5.388 0 0 5.388 0 12s5.388 12 12 12 12-5.38 12-12c0-6.612-5.38-12-12-12z\" transform=\"translate(104 0)\"></path></svg></div><div class=\"WlYyy cPsXC bLFSo cspKb dTqpp\"><a class=\"iPqaD _F G- ddFHE eKwUx btBEK fUpii\" href=\"/ShowUserReviews-g152515-d186117-r805422817-Medano_Beach-Cabo_San_Lucas_Los_Cabos_Baja_California.html\" tabindex=\"0\" target=\"_blank\"><span class=\"NejBf\">Great Vacation at Pueblo Bonito Los Cabos</span></a></div><div class=\"eRduX\">ago de 2021</div><div class=\"duhwe _T bOlcm\"><div class=\"pIRBV _T KRIav\" style=\"line-break: normal; cursor: auto;\"><div class=\"WlYyy diXIH dDKKM\"><span class=\"NejBf\">Hermosa playa, muy limpia y tranquila, segura para nadar y disfrutar un dia de sol. Agua cristalina y color turquesa.</span></div></div><div class=\"eIVRK\" style=\"line-height: 22px;\"><button class=\"bfQwA _G B- _S _T c G_ P0 ddFHE cnvzr\" type=\"button\"><span class=\"WlYyy cacGK Wb\">Leer más</span><div class=\"bLMrm\"><svg class=\"bDFSd d Vb ymbyq\" height=\"20px\" viewbox=\"0 0 24 24\" width=\"20px\"><path d=\"M18.4 7.4L12 13.7 5.6 7.4 4.2 8.8l7.8 7.8 7.8-7.8z\"></path></svg></div></button></div></div><div></div><div class=\"fxays\"><div class=\"WlYyy diXIH cspKb bQCoY\">Escrita el 21 de agosto de 2021</div><div class=\"WlYyy diXIH MLeMj bQCoY\">Esta opinión es la opinión subjetiva de un miembro de Tripadvisor, no de TripAdvisor LLC.</div></div></div>,\n <div class=\"ffbzW _c\" data-automation=\"reviewCard\"><div class=\"ezLVz f M k\"><div class=\"bJyQA f u o\"><div class=\"fksET\"><div class=\"baYaB f u\"><div class=\"bQEAh\" style=\"z-index:0\"><div class=\"\"><div class=\"fknJY svvjk Rb I o\"><div class=\"\"><a aria-hidden=\"true\" class=\"iPqaD _F G- ddFHE eKwUx\" href=\"/Profile/Fer-Rmz02\" tabindex=\"-1\" target=\"_self\"><div class=\"btBEK eglJy\"><picture class=\"dugSS _R\" style=\"width:32px;height:32px\"><img alt=\"Fer Ramírez\" height=\"100\" loading=\"lazy\" src=\"https://dynamic-media-cdn.tripadvisor.com/media/photo-o/1a/f6/f3/e4/default-avatar-2020-30.jpg?w=100&amp;h=-1&amp;s=1\" width=\"100\"/></picture></div></a></div></div></div></div></div></div><div class=\"cjhIj\"><span class=\"WlYyy cPsXC dTqpp\"><a class=\"iPqaD _F G- ddFHE eKwUx btBEK fUpii\" href=\"/Profile/Fer-Rmz02\" target=\"_self\">Fer Ramírez</a></span><div class=\"ddOtn\"><div class=\"WlYyy diXIH bQCoY\"><span class=\"\">1 aporte</span></div></div></div></div><div class=\"Ixpqj f\"><button aria-label=\"Haz clic para agregar un voto útil\" class=\"dfuux u j z _F ddFHE bLQvU dQDUG\" type=\"button\"><svg class=\"bDFSd d Vb ymbyq\" height=\"20px\" viewbox=\"0 0 24 24\" width=\"20px\"><path d=\"M3.025 9.963c-.566 0-1.025.459-1.025 1.025v9.732h2.051v-9.732c0-.566-.459-1.025-1.026-1.025zM21.493 9.111a2.05 2.05 0 00-1.546-.703h-4.306l.541-2.67c.122-.606-.032-1.228-.424-1.706s-.97-.753-1.588-.753h-2.348l-5.72 7.358V20.72h12.59a2.038 2.038 0 002.027-1.74l1.261-8.241a2.045 2.045 0 00-.487-1.628zm-2.799 9.557H8.154v-7.326l4.672-6.01h1.345l-1.037 5.128 6.816-.015-1.256 8.223z\"></path></svg><span class=\"eKtLG\"><span class=\"WlYyy bTDWl\">3</span></span></button><div class=\"QvIvN _T\"><div class=\"MwbTc w _T\"><button aria-haspopup=\"menu\" aria-label=\"Abrir menú de opciones\" class=\"dfuux u j z _F ddFHE bLQvU dQDUG\" type=\"button\"><svg class=\"bDFSd d Vb ymbyq\" height=\"20px\" viewbox=\"0 0 24 24\" width=\"20px\" x=\"0\" y=\"0\"><circle cx=\"12\" cy=\"19.4\" r=\"2.5\"></circle><circle cx=\"12\" cy=\"4.4\" r=\"2.5\"></circle><circle cx=\"12\" cy=\"11.9\" r=\"2.5\"></circle></svg></button></div></div></div></div><div><svg aria-label=\"3.0 de 5 burbujas\" class=\"RWYkj d H0\" height=\"16\" viewbox=\"0 0 128 24\" width=\"88\"><path d=\"M 12 0C5.388 0 0 5.388 0 12s5.388 12 12 12 12-5.38 12-12c0-6.612-5.38-12-12-12z\" transform=\"\"></path><path d=\"M 12 0C5.388 0 0 5.388 0 12s5.388 12 12 12 12-5.38 12-12c0-6.612-5.38-12-12-12z\" transform=\"translate(26 0)\"></path><path d=\"M 12 0C5.388 0 0 5.388 0 12s5.388 12 12 12 12-5.38 12-12c0-6.612-5.38-12-12-12z\" transform=\"translate(52 0)\"></path><path d=\"M 12 0C5.388 0 0 5.388 0 12s5.388 12 12 12 12-5.38 12-12c0-6.612-5.38-12-12-12zm0 2a9.983 9.983 0 019.995 10 10 10 0 01-10 10A10 10 0 012 12 10 10 0 0112 2z\" transform=\"translate(78 0)\"></path><path d=\"M 12 0C5.388 0 0 5.388 0 12s5.388 12 12 12 12-5.38 12-12c0-6.612-5.38-12-12-12zm0 2a9.983 9.983 0 019.995 10 10 10 0 01-10 10A10 10 0 012 12 10 10 0 0112 2z\" transform=\"translate(104 0)\"></path></svg></div><div class=\"WlYyy cPsXC bLFSo cspKb dTqpp\"><a class=\"iPqaD _F G- ddFHE eKwUx btBEK fUpii\" href=\"/ShowUserReviews-g152515-d186117-r788882487-Medano_Beach-Cabo_San_Lucas_Los_Cabos_Baja_California.html\" tabindex=\"0\" target=\"_blank\"><span class=\"NejBf\">Playa Medano - Cuidado con los tours! No se suban al bote “keanu”</span></a></div><div class=\"eRduX\">may de 2021 • Familia</div><div class=\"duhwe _T bOlcm dMbup\"><div class=\"pIRBV _T KRIav\" style=\"-webkit-line-clamp:7;line-break:normal;cursor:pointer\"><div class=\"WlYyy diXIH dDKKM\"><span class=\"NejBf\">Estafadores a pie de playa! Nos vendieron el tour a la playa del amor y nos abandonaron ahí!!! ☹️ Un tipo se acercó a nosotros y nos dijo que si queríamos ir a la playa del amor y a hacer snorkel, nos pareció buena idea y aceptamos. Por persona cobraron $400 pesos + $350 por una sombrilla y unas sillas. Este tipo nos acerco con otra persona que nos llevaría en la embarcación “keanu”. Desde que salimos de playa Medano el tipo que nos llevaba se comportaba muy extraño, como si estuviera borracho, nada que ver con un servicio similar que había tomado en la mañana. El plan era que primero nos dejara en una playa cercana para hacer snorkel, pero dijo que estaba muy llena y nos fuimos directo a playa del amor. Cuando llegó había personas que te ayudaban a bajar y nos instalaron. El tipo este no nos ayudo y solo nos dijo que volvía en hora y media, nos dejo alrededor de las 2:30 pm. Dieron las 4:30 y no llegaba, se supone que después de las 5:00 nadie más llega al lugar. Llegaron embarcaciones por las demás personas que estaban ahí hasta el punto de quedarnos solos. Había dos muchachos que trabajaban con las embarcaciones que llegaban y les preguntamos que podíamos hacer, a tono de burla decían que “esperar” o que nos regresáramos caminando, algo que era casi imposible. Al final tuvimos la suerte de encontrar a una persona que nos quiso llevar, obvio tuvimos que pagar $750 pesos más para que nos sacaran de ahí. Fue realmente desesperante y decepcionante que nos dejaran después de haber pagado, que se burlaran de nosotros y que jugaran con nuestro temor de quedarnos ahí. Tengan cuidado con estas personas que van ofreciendo servicios por la playa. No me quedan ganas de volver a contratar ningún servicio de este tipo o de volver a esa playa, la gente que nos tocó conocer fue bastante grosera.</span></div></div><div class=\"eIVRK\" style=\"line-height: 22px;\"><button class=\"bfQwA _G B- _S _T c G_ P0 ddFHE cnvzr\" type=\"button\"><span class=\"WlYyy cacGK Wb\">Leer más</span><div class=\"bLMrm\"><svg class=\"bDFSd d Vb ymbyq\" height=\"20px\" viewbox=\"0 0 24 24\" width=\"20px\"><path d=\"M18.4 7.4L12 13.7 5.6 7.4 4.2 8.8l7.8 7.8 7.8-7.8z\"></path></svg></div></button></div></div><div></div><div class=\"fxays\"><div class=\"WlYyy diXIH cspKb bQCoY\">Escrita el 15 de mayo de 2021</div><div class=\"WlYyy diXIH MLeMj bQCoY\">Esta opinión es la opinión subjetiva de un miembro de Tripadvisor, no de TripAdvisor LLC.</div></div></div>,\n <div class=\"ffbzW _c\" data-automation=\"reviewCard\"><div class=\"ezLVz f M k\"><div class=\"bJyQA f u o\"><div class=\"fksET\"><div class=\"baYaB f u\"><div class=\"bQEAh\" style=\"z-index:0\"><div class=\"\"><div class=\"fknJY svvjk Rb I o\"><div class=\"\"><a aria-hidden=\"true\" class=\"iPqaD _F G- ddFHE eKwUx\" href=\"/Profile/cesaralejandrod2017\" tabindex=\"-1\" target=\"_self\"><div class=\"btBEK eglJy\"><picture class=\"dugSS _R\" style=\"width:32px;height:32px\"><img alt=\"Cesar Alejandro D\" height=\"100\" loading=\"lazy\" src=\"https://dynamic-media-cdn.tripadvisor.com/media/photo-o/1a/f6/f3/23/default-avatar-2020-28.jpg?w=100&amp;h=-1&amp;s=1\" width=\"100\"/></picture></div></a></div></div></div></div></div></div><div class=\"cjhIj\"><span class=\"WlYyy cPsXC dTqpp\"><a class=\"iPqaD _F G- ddFHE eKwUx btBEK fUpii\" href=\"/Profile/cesaralejandrod2017\" target=\"_self\">Cesar Alejandro D</a></span><div class=\"ddOtn\"><div class=\"WlYyy diXIH bQCoY\"><span class=\"\">30 aportes</span></div></div></div></div><div class=\"Ixpqj f\"><button aria-label=\"Haz clic para agregar un voto útil\" class=\"dfuux u j z _F ddFHE bLQvU dQDUG\" type=\"button\"><svg class=\"bDFSd d Vb ymbyq\" height=\"20px\" viewbox=\"0 0 24 24\" width=\"20px\"><path d=\"M3.025 9.963c-.566 0-1.025.459-1.025 1.025v9.732h2.051v-9.732c0-.566-.459-1.025-1.026-1.025zM21.493 9.111a2.05 2.05 0 00-1.546-.703h-4.306l.541-2.67c.122-.606-.032-1.228-.424-1.706s-.97-.753-1.588-.753h-2.348l-5.72 7.358V20.72h12.59a2.038 2.038 0 002.027-1.74l1.261-8.241a2.045 2.045 0 00-.487-1.628zm-2.799 9.557H8.154v-7.326l4.672-6.01h1.345l-1.037 5.128 6.816-.015-1.256 8.223z\"></path></svg><span class=\"eKtLG\"><span class=\"WlYyy bTDWl\">0</span></span></button><div class=\"QvIvN _T\"><div class=\"MwbTc w _T\"><button aria-haspopup=\"menu\" aria-label=\"Abrir menú de opciones\" class=\"dfuux u j z _F ddFHE bLQvU dQDUG\" type=\"button\"><svg class=\"bDFSd d Vb ymbyq\" height=\"20px\" viewbox=\"0 0 24 24\" width=\"20px\" x=\"0\" y=\"0\"><circle cx=\"12\" cy=\"19.4\" r=\"2.5\"></circle><circle cx=\"12\" cy=\"4.4\" r=\"2.5\"></circle><circle cx=\"12\" cy=\"11.9\" r=\"2.5\"></circle></svg></button></div></div></div></div><div><svg aria-label=\"5.0 de 5 burbujas\" class=\"RWYkj d H0\" height=\"16\" viewbox=\"0 0 128 24\" width=\"88\"><path d=\"M 12 0C5.388 0 0 5.388 0 12s5.388 12 12 12 12-5.38 12-12c0-6.612-5.38-12-12-12z\" transform=\"\"></path><path d=\"M 12 0C5.388 0 0 5.388 0 12s5.388 12 12 12 12-5.38 12-12c0-6.612-5.38-12-12-12z\" transform=\"translate(26 0)\"></path><path d=\"M 12 0C5.388 0 0 5.388 0 12s5.388 12 12 12 12-5.38 12-12c0-6.612-5.38-12-12-12z\" transform=\"translate(52 0)\"></path><path d=\"M 12 0C5.388 0 0 5.388 0 12s5.388 12 12 12 12-5.38 12-12c0-6.612-5.38-12-12-12z\" transform=\"translate(78 0)\"></path><path d=\"M 12 0C5.388 0 0 5.388 0 12s5.388 12 12 12 12-5.38 12-12c0-6.612-5.38-12-12-12z\" transform=\"translate(104 0)\"></path></svg></div><div class=\"WlYyy cPsXC bLFSo cspKb dTqpp\"><a class=\"iPqaD _F G- ddFHE eKwUx btBEK fUpii\" href=\"/ShowUserReviews-g152515-d186117-r788456674-Medano_Beach-Cabo_San_Lucas_Los_Cabos_Baja_California.html\" tabindex=\"0\" target=\"_blank\"><span class=\"NejBf\">Playa El Médano BCS</span></a></div><div class=\"eRduX\">abr de 2021 • Familia</div><div class=\"duhwe _T bOlcm\"><div class=\"pIRBV _T KRIav\" style=\"line-break: normal; cursor: auto;\"><div class=\"WlYyy diXIH dDKKM\"><span class=\"NejBf\">Una de las mejores playas para nadar en BCS, esta limpia el agua y cálida. Lo recomiendo. El problema es que hay pocos estacionamientos cerca. Saludos </span></div></div><div class=\"eIVRK\" style=\"line-height: 22px;\"><button class=\"bfQwA _G B- _S _T c G_ P0 ddFHE cnvzr\" type=\"button\"><span class=\"WlYyy cacGK Wb\">Leer más</span><div class=\"bLMrm\"><svg class=\"bDFSd d Vb ymbyq\" height=\"20px\" viewbox=\"0 0 24 24\" width=\"20px\"><path d=\"M18.4 7.4L12 13.7 5.6 7.4 4.2 8.8l7.8 7.8 7.8-7.8z\"></path></svg></div></button></div></div><div></div><div class=\"fxays\"><div class=\"WlYyy diXIH cspKb bQCoY\">Escrita el 10 de mayo de 2021</div><div class=\"WlYyy diXIH MLeMj bQCoY\">Esta opinión es la opinión subjetiva de un miembro de Tripadvisor, no de TripAdvisor LLC.</div></div></div>,\n <div class=\"ffbzW _c\" data-automation=\"reviewCard\"><div class=\"ezLVz f M k\"><div class=\"bJyQA f u o\"><div class=\"fksET\"><div class=\"baYaB f u\"><div class=\"bQEAh\" style=\"z-index:0\"><div class=\"\"><div class=\"fknJY svvjk Rb I o\"><div class=\"\"><a aria-hidden=\"true\" class=\"iPqaD _F G- ddFHE eKwUx\" href=\"/Profile/olmagra\" tabindex=\"-1\" target=\"_self\"><div class=\"btBEK eglJy\"><picture class=\"dugSS _R\" style=\"width:32px;height:32px\"><img alt=\"Olga Granda\" height=\"100\" loading=\"lazy\" src=\"https://dynamic-media-cdn.tripadvisor.com/media/photo-o/08/92/d8/0d/olga-g.jpg?w=100&amp;h=-1&amp;s=1\" width=\"100\"/></picture></div></a></div></div></div></div></div></div><div class=\"cjhIj\"><span class=\"WlYyy cPsXC dTqpp\"><a class=\"iPqaD _F G- ddFHE eKwUx btBEK fUpii\" href=\"/Profile/olmagra\" target=\"_self\">Olga Granda</a></span><div class=\"ddOtn\"><div class=\"WlYyy diXIH bQCoY\"><span>Envigado, Colombia</span><span class=\"fhriQ\">73 aportes</span></div></div></div></div><div class=\"Ixpqj f\"><button aria-label=\"Haz clic para agregar un voto útil\" class=\"dfuux u j z _F ddFHE bLQvU dQDUG\" type=\"button\"><svg class=\"bDFSd d Vb ymbyq\" height=\"20px\" viewbox=\"0 0 24 24\" width=\"20px\"><path d=\"M3.025 9.963c-.566 0-1.025.459-1.025 1.025v9.732h2.051v-9.732c0-.566-.459-1.025-1.026-1.025zM21.493 9.111a2.05 2.05 0 00-1.546-.703h-4.306l.541-2.67c.122-.606-.032-1.228-.424-1.706s-.97-.753-1.588-.753h-2.348l-5.72 7.358V20.72h12.59a2.038 2.038 0 002.027-1.74l1.261-8.241a2.045 2.045 0 00-.487-1.628zm-2.799 9.557H8.154v-7.326l4.672-6.01h1.345l-1.037 5.128 6.816-.015-1.256 8.223z\"></path></svg><span class=\"eKtLG\"><span class=\"WlYyy bTDWl\">2</span></span></button><div class=\"QvIvN _T\"><div class=\"MwbTc w _T\"><button aria-haspopup=\"menu\" aria-label=\"Abrir menú de opciones\" class=\"dfuux u j z _F ddFHE bLQvU dQDUG\" type=\"button\"><svg class=\"bDFSd d Vb ymbyq\" height=\"20px\" viewbox=\"0 0 24 24\" width=\"20px\" x=\"0\" y=\"0\"><circle cx=\"12\" cy=\"19.4\" r=\"2.5\"></circle><circle cx=\"12\" cy=\"4.4\" r=\"2.5\"></circle><circle cx=\"12\" cy=\"11.9\" r=\"2.5\"></circle></svg></button></div></div></div></div><div><svg aria-label=\"5.0 de 5 burbujas\" class=\"RWYkj d H0\" height=\"16\" viewbox=\"0 0 128 24\" width=\"88\"><path d=\"M 12 0C5.388 0 0 5.388 0 12s5.388 12 12 12 12-5.38 12-12c0-6.612-5.38-12-12-12z\" transform=\"\"></path><path d=\"M 12 0C5.388 0 0 5.388 0 12s5.388 12 12 12 12-5.38 12-12c0-6.612-5.38-12-12-12z\" transform=\"translate(26 0)\"></path><path d=\"M 12 0C5.388 0 0 5.388 0 12s5.388 12 12 12 12-5.38 12-12c0-6.612-5.38-12-12-12z\" transform=\"translate(52 0)\"></path><path d=\"M 12 0C5.388 0 0 5.388 0 12s5.388 12 12 12 12-5.38 12-12c0-6.612-5.38-12-12-12z\" transform=\"translate(78 0)\"></path><path d=\"M 12 0C5.388 0 0 5.388 0 12s5.388 12 12 12 12-5.38 12-12c0-6.612-5.38-12-12-12z\" transform=\"translate(104 0)\"></path></svg></div><div class=\"WlYyy cPsXC bLFSo cspKb dTqpp\"><a class=\"iPqaD _F G- ddFHE eKwUx btBEK fUpii\" href=\"/ShowUserReviews-g152515-d186117-r782371532-Medano_Beach-Cabo_San_Lucas_Los_Cabos_Baja_California.html\" tabindex=\"0\" target=\"_blank\"><span class=\"NejBf\">Hermosa playa 🏝 y poco visitada</span></a></div><div class=\"eRduX\">feb de 2021 • Familia</div><div class=\"duhwe _T bOlcm dMbup\"><div class=\"pIRBV _T KRIav\" style=\"-webkit-line-clamp:7;line-break:normal;cursor:pointer\"><div class=\"WlYyy diXIH dDKKM\"><span class=\"NejBf\">Esta es una playa pública Justo al lado de la marina en el centro de Cabo San Lucas, la vista es espectacular 😍 porque puedes ver de allí el famoso arco.<br/><br/>La arena es blanca y es muy poco concurrida,<br/>Con lo q puedes tener un rato de paz para disfrutar del agua heladita.<br/><br/>El agua es clara, incluso puedes ver peces cerca de la zona de las rocas 🪨.<br/><br/>Excelente lugar para disfrutar en familia.<br/><br/>No venden nada, asi q recomiendo llevar sus propios snacks.</span></div></div><div class=\"eIVRK\" style=\"line-height: 22px;\"><button class=\"bfQwA _G B- _S _T c G_ P0 ddFHE cnvzr\" type=\"button\"><span class=\"WlYyy cacGK Wb\">Leer más</span><div class=\"bLMrm\"><svg class=\"bDFSd d Vb ymbyq\" height=\"20px\" viewbox=\"0 0 24 24\" width=\"20px\"><path d=\"M18.4 7.4L12 13.7 5.6 7.4 4.2 8.8l7.8 7.8 7.8-7.8z\"></path></svg></div></button></div></div><div></div><div class=\"fxays\"><div class=\"WlYyy diXIH cspKb bQCoY\">Escrita el 5 de febrero de 2021</div><div class=\"WlYyy diXIH MLeMj bQCoY\">Esta opinión es la opinión subjetiva de un miembro de Tripadvisor, no de TripAdvisor LLC.</div></div></div>,\n <div class=\"ffbzW _c\" data-automation=\"reviewCard\"><div class=\"ezLVz f M k\"><div class=\"bJyQA f u o\"><div class=\"fksET\"><div class=\"baYaB f u\"><div class=\"bQEAh\" style=\"z-index:0\"><div class=\"\"><div class=\"fknJY svvjk Rb I o\"><div class=\"\"><a aria-hidden=\"true\" class=\"iPqaD _F G- ddFHE eKwUx\" href=\"/Profile/gerardor936\" tabindex=\"-1\" target=\"_self\"><div class=\"btBEK eglJy\"><picture class=\"dugSS _R\" style=\"width:32px;height:32px\"><img alt=\"Gerardo R\" height=\"100\" loading=\"lazy\" src=\"https://dynamic-media-cdn.tripadvisor.com/media/photo-o/21/d4/d3/f1/gerardor936.jpg?w=100&amp;h=-1&amp;s=1\" width=\"100\"/></picture></div></a></div></div></div></div></div></div><div class=\"cjhIj\"><span class=\"WlYyy cPsXC dTqpp\"><a class=\"iPqaD _F G- ddFHE eKwUx btBEK fUpii\" href=\"/Profile/gerardor936\" target=\"_self\">Gerardo R</a></span><div class=\"ddOtn\"><div class=\"WlYyy diXIH bQCoY\"><span>Ciudad de México, México</span><span class=\"fhriQ\">1,306 aportes</span></div></div></div></div><div class=\"Ixpqj f\"><button aria-label=\"Haz clic para agregar un voto útil\" class=\"dfuux u j z _F ddFHE bLQvU dQDUG\" type=\"button\"><svg class=\"bDFSd d Vb ymbyq\" height=\"20px\" viewbox=\"0 0 24 24\" width=\"20px\"><path d=\"M3.025 9.963c-.566 0-1.025.459-1.025 1.025v9.732h2.051v-9.732c0-.566-.459-1.025-1.026-1.025zM21.493 9.111a2.05 2.05 0 00-1.546-.703h-4.306l.541-2.67c.122-.606-.032-1.228-.424-1.706s-.97-.753-1.588-.753h-2.348l-5.72 7.358V20.72h12.59a2.038 2.038 0 002.027-1.74l1.261-8.241a2.045 2.045 0 00-.487-1.628zm-2.799 9.557H8.154v-7.326l4.672-6.01h1.345l-1.037 5.128 6.816-.015-1.256 8.223z\"></path></svg><span class=\"eKtLG\"><span class=\"WlYyy bTDWl\">3</span></span></button><div class=\"QvIvN _T\"><div class=\"MwbTc w _T\"><button aria-haspopup=\"menu\" aria-label=\"Abrir menú de opciones\" class=\"dfuux u j z _F ddFHE bLQvU dQDUG\" type=\"button\"><svg class=\"bDFSd d Vb ymbyq\" height=\"20px\" viewbox=\"0 0 24 24\" width=\"20px\" x=\"0\" y=\"0\"><circle cx=\"12\" cy=\"19.4\" r=\"2.5\"></circle><circle cx=\"12\" cy=\"4.4\" r=\"2.5\"></circle><circle cx=\"12\" cy=\"11.9\" r=\"2.5\"></circle></svg></button></div></div></div></div><div><svg aria-label=\"4.0 de 5 burbujas\" class=\"RWYkj d H0\" height=\"16\" viewbox=\"0 0 128 24\" width=\"88\"><path d=\"M 12 0C5.388 0 0 5.388 0 12s5.388 12 12 12 12-5.38 12-12c0-6.612-5.38-12-12-12z\" transform=\"\"></path><path d=\"M 12 0C5.388 0 0 5.388 0 12s5.388 12 12 12 12-5.38 12-12c0-6.612-5.38-12-12-12z\" transform=\"translate(26 0)\"></path><path d=\"M 12 0C5.388 0 0 5.388 0 12s5.388 12 12 12 12-5.38 12-12c0-6.612-5.38-12-12-12z\" transform=\"translate(52 0)\"></path><path d=\"M 12 0C5.388 0 0 5.388 0 12s5.388 12 12 12 12-5.38 12-12c0-6.612-5.38-12-12-12z\" transform=\"translate(78 0)\"></path><path d=\"M 12 0C5.388 0 0 5.388 0 12s5.388 12 12 12 12-5.38 12-12c0-6.612-5.38-12-12-12zm0 2a9.983 9.983 0 019.995 10 10 10 0 01-10 10A10 10 0 012 12 10 10 0 0112 2z\" transform=\"translate(104 0)\"></path></svg></div><div class=\"WlYyy cPsXC bLFSo cspKb dTqpp\"><a class=\"iPqaD _F G- ddFHE eKwUx btBEK fUpii\" href=\"/ShowUserReviews-g152515-d186117-r781271658-Medano_Beach-Cabo_San_Lucas_Los_Cabos_Baja_California.html\" tabindex=\"0\" target=\"_blank\"><span class=\"NejBf\">Playa Familiar</span></a></div><div class=\"eRduX\">nov de 2020</div><div class=\"duhwe _T bOlcm\"><div class=\"pIRBV _T KRIav\" style=\"line-break: normal; cursor: auto;\"><div class=\"WlYyy diXIH dDKKM\"><span class=\"NejBf\">Playa familiar muy concurrida tanto por turistas como por locales, llena de muy buenos restaurantes para comer y beber.</span></div></div><div class=\"eIVRK\" style=\"line-height: 22px;\"><button class=\"bfQwA _G B- _S _T c G_ P0 ddFHE cnvzr\" type=\"button\"><span class=\"WlYyy cacGK Wb\">Leer más</span><div class=\"bLMrm\"><svg class=\"bDFSd d Vb ymbyq\" height=\"20px\" viewbox=\"0 0 24 24\" width=\"20px\"><path d=\"M18.4 7.4L12 13.7 5.6 7.4 4.2 8.8l7.8 7.8 7.8-7.8z\"></path></svg></div></button></div></div><div></div><div class=\"fxays\"><div class=\"WlYyy diXIH cspKb bQCoY\">Escrita el 16 de enero de 2021</div><div class=\"WlYyy diXIH MLeMj bQCoY\">Esta opinión es la opinión subjetiva de un miembro de Tripadvisor, no de TripAdvisor LLC.</div></div></div>,\n <div class=\"ffbzW _c\" data-automation=\"reviewCard\"><div class=\"ezLVz f M k\"><div class=\"bJyQA f u o\"><div class=\"fksET\"><div class=\"baYaB f u\"><div class=\"bQEAh\" style=\"z-index:0\"><div class=\"\"><div class=\"fknJY svvjk Rb I o\"><div class=\"\"><a aria-hidden=\"true\" class=\"iPqaD _F G- ddFHE eKwUx\" href=\"/Profile/eriglez\" tabindex=\"-1\" target=\"_self\"><div class=\"btBEK eglJy\"><picture class=\"dugSS _R\" style=\"width:32px;height:32px\"><img alt=\"eriglez\" height=\"100\" loading=\"lazy\" src=\"https://dynamic-media-cdn.tripadvisor.com/media/photo-o/1a/f6/f0/9f/default-avatar-2020-16.jpg?w=100&amp;h=-1&amp;s=1\" width=\"100\"/></picture></div></a></div></div></div></div></div></div><div class=\"cjhIj\"><span class=\"WlYyy cPsXC dTqpp\"><a class=\"iPqaD _F G- ddFHE eKwUx btBEK fUpii\" href=\"/Profile/eriglez\" target=\"_self\">eriglez</a></span><div class=\"ddOtn\"><div class=\"WlYyy diXIH bQCoY\"><span>Ciudad de México, México</span><span class=\"fhriQ\">20 aportes</span></div></div></div></div><div class=\"Ixpqj f\"><button aria-label=\"Haz clic para agregar un voto útil\" class=\"dfuux u j z _F ddFHE bLQvU dQDUG\" type=\"button\"><svg class=\"bDFSd d Vb ymbyq\" height=\"20px\" viewbox=\"0 0 24 24\" width=\"20px\"><path d=\"M3.025 9.963c-.566 0-1.025.459-1.025 1.025v9.732h2.051v-9.732c0-.566-.459-1.025-1.026-1.025zM21.493 9.111a2.05 2.05 0 00-1.546-.703h-4.306l.541-2.67c.122-.606-.032-1.228-.424-1.706s-.97-.753-1.588-.753h-2.348l-5.72 7.358V20.72h12.59a2.038 2.038 0 002.027-1.74l1.261-8.241a2.045 2.045 0 00-.487-1.628zm-2.799 9.557H8.154v-7.326l4.672-6.01h1.345l-1.037 5.128 6.816-.015-1.256 8.223z\"></path></svg><span class=\"eKtLG\"><span class=\"WlYyy bTDWl\">3</span></span></button><div class=\"QvIvN _T\"><div class=\"MwbTc w _T\"><button aria-haspopup=\"menu\" aria-label=\"Abrir menú de opciones\" class=\"dfuux u j z _F ddFHE bLQvU dQDUG\" type=\"button\"><svg class=\"bDFSd d Vb ymbyq\" height=\"20px\" viewbox=\"0 0 24 24\" width=\"20px\" x=\"0\" y=\"0\"><circle cx=\"12\" cy=\"19.4\" r=\"2.5\"></circle><circle cx=\"12\" cy=\"4.4\" r=\"2.5\"></circle><circle cx=\"12\" cy=\"11.9\" r=\"2.5\"></circle></svg></button></div></div></div></div><div><svg aria-label=\"4.0 de 5 burbujas\" class=\"RWYkj d H0\" height=\"16\" viewbox=\"0 0 128 24\" width=\"88\"><path d=\"M 12 0C5.388 0 0 5.388 0 12s5.388 12 12 12 12-5.38 12-12c0-6.612-5.38-12-12-12z\" transform=\"\"></path><path d=\"M 12 0C5.388 0 0 5.388 0 12s5.388 12 12 12 12-5.38 12-12c0-6.612-5.38-12-12-12z\" transform=\"translate(26 0)\"></path><path d=\"M 12 0C5.388 0 0 5.388 0 12s5.388 12 12 12 12-5.38 12-12c0-6.612-5.38-12-12-12z\" transform=\"translate(52 0)\"></path><path d=\"M 12 0C5.388 0 0 5.388 0 12s5.388 12 12 12 12-5.38 12-12c0-6.612-5.38-12-12-12z\" transform=\"translate(78 0)\"></path><path d=\"M 12 0C5.388 0 0 5.388 0 12s5.388 12 12 12 12-5.38 12-12c0-6.612-5.38-12-12-12zm0 2a9.983 9.983 0 019.995 10 10 10 0 01-10 10A10 10 0 012 12 10 10 0 0112 2z\" transform=\"translate(104 0)\"></path></svg></div><div class=\"WlYyy cPsXC bLFSo cspKb dTqpp\"><a class=\"iPqaD _F G- ddFHE eKwUx btBEK fUpii\" href=\"/ShowUserReviews-g152515-d186117-r780544744-Medano_Beach-Cabo_San_Lucas_Los_Cabos_Baja_California.html\" tabindex=\"0\" target=\"_blank\"><span class=\"NejBf\">Playa Médano</span></a></div><div class=\"eRduX\">ene de 2021 • Familia</div><div class=\"duhwe _T bOlcm\"><div class=\"pIRBV _T KRIav\" style=\"line-break: normal; cursor: auto;\"><div class=\"WlYyy diXIH dDKKM\"><span class=\"NejBf\">El oleaje permite que los niños estén seguros en la orilla, tienes suerte de conseguir un lugar a pasar de ser pandemia. No hay reglas de seguridad. Agua helada</span></div></div><div class=\"eIVRK\" style=\"line-height: 22px;\"><button class=\"bfQwA _G B- _S _T c G_ P0 ddFHE cnvzr\" type=\"button\"><span class=\"WlYyy cacGK Wb\">Leer más</span><div class=\"bLMrm\"><svg class=\"bDFSd d Vb ymbyq\" height=\"20px\" viewbox=\"0 0 24 24\" width=\"20px\"><path d=\"M18.4 7.4L12 13.7 5.6 7.4 4.2 8.8l7.8 7.8 7.8-7.8z\"></path></svg></div></button></div></div><div></div><div class=\"fxays\"><div class=\"WlYyy diXIH cspKb bQCoY\">Escrita el 4 de enero de 2021</div><div class=\"WlYyy diXIH MLeMj bQCoY\">Esta opinión es la opinión subjetiva de un miembro de Tripadvisor, no de TripAdvisor LLC.</div></div></div>]"
     },
     "execution_count": 14,
     "metadata": {},
     "output_type": "execute_result"
    }
   ],
   "execution_count": null
  },
  {
   "cell_type": "code",
   "metadata": {
    "cell_id": "00019-02d02bb0-31a7-4593-a0e8-0f9db3c4c6c6",
    "deepnote_cell_type": "code",
    "deepnote_cell_height": 118.1875,
    "deepnote_output_heights": [
     21.1875
    ]
   },
   "source": "len(sample)",
   "outputs": [
    {
     "data": {
      "text/plain": "8"
     },
     "execution_count": 16,
     "metadata": {},
     "output_type": "execute_result"
    }
   ],
   "execution_count": null
  },
  {
   "cell_type": "code",
   "metadata": {
    "cell_id": "00020-79b70185-712c-4e08-ba40-e69079eeff5d",
    "deepnote_cell_type": "code",
    "deepnote_cell_height": 66
   },
   "source": "autor = sample.find_all(\"span\",'WlYyy cPsXC dTqpp')[0].get_text()",
   "outputs": [],
   "execution_count": null
  },
  {
   "cell_type": "code",
   "metadata": {
    "cell_id": "00021-90dc0b00-b759-4326-9476-e4d2c26788be",
    "deepnote_cell_type": "code",
    "deepnote_cell_height": 118.1875,
    "deepnote_output_heights": [
     21.1875
    ]
   },
   "source": "nombre",
   "outputs": [
    {
     "data": {
      "text/plain": "'Abel Gómez'"
     },
     "execution_count": 26,
     "metadata": {},
     "output_type": "execute_result"
    }
   ],
   "execution_count": null
  },
  {
   "cell_type": "code",
   "metadata": {
    "cell_id": "00022-207f921b-ddde-4c04-aa95-f535fd642193",
    "deepnote_cell_type": "code",
    "deepnote_cell_height": 84
   },
   "source": "cal = str(sample.find_all('svg',\"RWYkj d H0\")[0])\ncal = str(cal[17:18])",
   "outputs": [],
   "execution_count": null
  },
  {
   "cell_type": "code",
   "metadata": {
    "cell_id": "00023-aa0a0549-a754-446d-adf8-0918920ec0f4",
    "deepnote_cell_type": "code",
    "deepnote_cell_height": 118.1875,
    "deepnote_output_heights": [
     21.1875
    ]
   },
   "source": "cal",
   "outputs": [
    {
     "data": {
      "text/plain": "'5'"
     },
     "execution_count": 83,
     "metadata": {},
     "output_type": "execute_result"
    }
   ],
   "execution_count": null
  },
  {
   "cell_type": "code",
   "metadata": {
    "cell_id": "00024-7e51c4ab-0cb2-4e8a-8101-926a648064bb",
    "deepnote_cell_type": "code",
    "deepnote_cell_height": 66
   },
   "source": "titulo = sample.find_all('span',\"NejBf\")[0].get_text()",
   "outputs": [],
   "execution_count": null
  },
  {
   "cell_type": "code",
   "metadata": {
    "cell_id": "00025-f4137fcb-ee45-4bca-bed9-fdb456e632bc",
    "deepnote_cell_type": "code",
    "deepnote_cell_height": 118.1875,
    "deepnote_output_heights": [
     21.1875
    ]
   },
   "source": "titulo",
   "outputs": [
    {
     "data": {
      "text/plain": "'Playa Hermosa'"
     },
     "execution_count": 58,
     "metadata": {},
     "output_type": "execute_result"
    }
   ],
   "execution_count": null
  },
  {
   "cell_type": "code",
   "metadata": {
    "cell_id": "00026-fefcba19-f8ce-4950-b2c6-77ef44fc25c3",
    "deepnote_cell_type": "code",
    "deepnote_cell_height": 66
   },
   "source": "opinion = sample.find_all('div',\"WlYyy diXIH dDKKM\")[0].get_text()",
   "outputs": [],
   "execution_count": null
  },
  {
   "cell_type": "code",
   "metadata": {
    "cell_id": "00027-a32d3b24-034b-4c0c-b16b-99196c633cfe",
    "deepnote_cell_type": "code",
    "deepnote_cell_height": 118.1875,
    "deepnote_output_heights": [
     21.1875
    ]
   },
   "source": "opinion",
   "outputs": [
    {
     "data": {
      "text/plain": "'La playa principal de Cabo San Lucas, es su carta de presentación, aquí encuentras fiesta, tragos, beach club’s, restaurantes excelentes con distintas opciones culinarias para degustar, varios hoteles de renombre a pie de playa y Medano es de las pocas playas nadables en Cabo.'"
     },
     "execution_count": 62,
     "metadata": {},
     "output_type": "execute_result"
    }
   ],
   "execution_count": null
  },
  {
   "cell_type": "code",
   "metadata": {
    "cell_id": "00028-58e30d15-6cd7-472a-88be-34b12f9162ff",
    "deepnote_cell_type": "code",
    "deepnote_cell_height": 84
   },
   "source": "fecha_est = sample.find_all('div',\"WlYyy diXIH cspKb bQCoY\")[0].get_text()\nfecha_est = fecha_est[11:]",
   "outputs": [],
   "execution_count": null
  },
  {
   "cell_type": "code",
   "metadata": {
    "cell_id": "00029-662477fa-0760-40e5-a392-e5e72098cd36",
    "deepnote_cell_type": "code",
    "deepnote_cell_height": 118.1875,
    "deepnote_output_heights": [
     21.1875
    ]
   },
   "source": "fecha_est",
   "outputs": [
    {
     "data": {
      "text/plain": "'9 de marzo de 2022'"
     },
     "execution_count": 71,
     "metadata": {},
     "output_type": "execute_result"
    }
   ],
   "execution_count": null
  },
  {
   "cell_type": "code",
   "metadata": {
    "cell_id": "00030-471d51e7-c9bc-422f-8f4d-affae71bbead",
    "deepnote_cell_type": "code",
    "deepnote_cell_height": 66
   },
   "source": "",
   "execution_count": null,
   "outputs": []
  },
  {
   "cell_type": "markdown",
   "source": "<a style='text-decoration:none;line-height:16px;display:flex;color:#5B5B62;padding:10px;justify-content:end;' href='https://deepnote.com?utm_source=created-in-deepnote-cell&projectId=a4b48cf0-c50a-44f8-990b-e0da28b0964f' target=\"_blank\">\n<img alt='Created in deepnote.com' style='display:inline;max-height:16px;margin:0px;margin-right:7.5px;' src='data:image/svg+xml;base64,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' > </img>\nCreated in <span style='font-weight:600;margin-left:4px;'>Deepnote</span></a>",
   "metadata": {
    "tags": [],
    "created_in_deepnote_cell": true,
    "deepnote_cell_type": "markdown"
   }
  }
 ],
 "nbformat": 4,
 "nbformat_minor": 5,
 "metadata": {
  "kernelspec": {
   "display_name": "Python 3",
   "language": "python",
   "name": "python3"
  },
  "language_info": {
   "codemirror_mode": {
    "name": "ipython",
    "version": 3
   },
   "file_extension": ".py",
   "mimetype": "text/x-python",
   "name": "python",
   "nbconvert_exporter": "python",
   "pygments_lexer": "ipython3",
   "version": "3.8.8"
  },
  "deepnote_notebook_id": "254a1ed9-7b03-4689-a2ad-d41d40caa49f",
  "deepnote": {},
  "deepnote_execution_queue": []
 }
}