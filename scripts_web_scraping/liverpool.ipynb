{
 "cells": [
  {
   "cell_type": "code",
   "metadata": {
    "cell_id": "a7a11d29-4ff4-498a-8d5d-daff8b9b7d08",
    "deepnote_cell_type": "code",
    "deepnote_cell_height": 338.453125
   },
   "source": "pip install webdriver_manager",
   "outputs": [
    {
     "name": "stdout",
     "output_type": "stream",
     "text": "Requirement already satisfied: webdriver_manager in /Users/raul.castillo/opt/anaconda3/lib/python3.8/site-packages (3.5.2)\nRequirement already satisfied: configparser in /Users/raul.castillo/opt/anaconda3/lib/python3.8/site-packages (from webdriver_manager) (5.2.0)\nRequirement already satisfied: crayons in /Users/raul.castillo/opt/anaconda3/lib/python3.8/site-packages (from webdriver_manager) (0.4.0)\nRequirement already satisfied: requests in /Users/raul.castillo/opt/anaconda3/lib/python3.8/site-packages (from webdriver_manager) (2.25.1)\nRequirement already satisfied: colorama in /Users/raul.castillo/opt/anaconda3/lib/python3.8/site-packages (from crayons->webdriver_manager) (0.4.4)\nRequirement already satisfied: idna<3,>=2.5 in /Users/raul.castillo/opt/anaconda3/lib/python3.8/site-packages (from requests->webdriver_manager) (2.10)\nRequirement already satisfied: certifi>=2017.4.17 in /Users/raul.castillo/opt/anaconda3/lib/python3.8/site-packages (from requests->webdriver_manager) (2020.12.5)\nRequirement already satisfied: chardet<5,>=3.0.2 in /Users/raul.castillo/opt/anaconda3/lib/python3.8/site-packages (from requests->webdriver_manager) (4.0.0)\nRequirement already satisfied: urllib3<1.27,>=1.21.1 in /Users/raul.castillo/opt/anaconda3/lib/python3.8/site-packages (from requests->webdriver_manager) (1.26.4)\nNote: you may need to restart the kernel to use updated packages.\n"
    }
   ],
   "execution_count": null
  },
  {
   "cell_type": "code",
   "metadata": {
    "cell_id": "00001-f73eab34-0ced-446f-a041-5e947947362b",
    "deepnote_cell_type": "code",
    "deepnote_cell_height": 246
   },
   "source": "import pandas as pd\nfrom datetime import datetime\nimport requests\nimport sys\nimport json\nfrom pandas.io.json import json_normalize\nfrom bs4 import BeautifulSoup\nimport time\nimport random\nimport operator\nimport re",
   "outputs": [],
   "execution_count": null
  },
  {
   "cell_type": "code",
   "metadata": {
    "cell_id": "00002-ff6515b3-b934-4e26-8417-36eb0f62ae11",
    "deepnote_cell_type": "code",
    "deepnote_cell_height": 138
   },
   "source": "from selenium import webdriver\nfrom selenium.webdriver.common.by import By\nfrom selenium.webdriver.common.keys import Keys\n#/Users/leopoldo.alarcon/Documents/scriptsRRSS/chromedriver 2\n#https://pbpython.com/pandas-html-table.html",
   "outputs": [],
   "execution_count": null
  },
  {
   "cell_type": "code",
   "metadata": {
    "cell_id": "00003-d023b47a-1b3c-45e8-8843-fc78c65a60fe",
    "deepnote_cell_type": "code",
    "deepnote_cell_height": 246.171875
   },
   "source": "from webdriver_manager.chrome import ChromeDriverManager\n\nbrowser = webdriver.Chrome(ChromeDriverManager().install())",
   "outputs": [
    {
     "name": "stderr",
     "output_type": "stream",
     "text": "\n\n====== WebDriver manager ======\nCurrent google-chrome version is 101.0.4951\nGet LATEST chromedriver version for 101.0.4951 google-chrome\nDriver [/Users/raul.castillo/.wdm/drivers/chromedriver/mac64/101.0.4951.41/chromedriver] found in cache\n"
    }
   ],
   "execution_count": null
  },
  {
   "cell_type": "code",
   "metadata": {
    "cell_id": "00004-80fe231c-6a4b-4f29-b44a-49802ac5a667",
    "deepnote_cell_type": "code",
    "deepnote_cell_height": 66
   },
   "source": "browser.get('https://www.liverpool.com.mx/tienda/pdp/Set-Peppa-Pig-Crea-y-Dise%C3%B1a-Play-Doh/1109740311#ratings')",
   "outputs": [],
   "execution_count": null
  },
  {
   "cell_type": "code",
   "metadata": {
    "cell_id": "00005-e157977c-966b-4e0b-915d-f7b19034ab90",
    "deepnote_cell_type": "code",
    "deepnote_cell_height": 84
   },
   "source": "#pages = range(86,88,1)\ndata = pd.DataFrame(columns=['FECHA', 'RATE', 'TITULO', 'REVIEW', 'GENERO','PROYECTO','PRODUCTO'])",
   "outputs": [],
   "execution_count": null
  },
  {
   "cell_type": "code",
   "metadata": {
    "cell_id": "00006-a4d3c5ba-18b7-4456-ab66-cf543d2d553e",
    "deepnote_cell_type": "code",
    "deepnote_cell_height": 534
   },
   "source": "def clean_text(txt):\n    txt = re.sub(\"[^a-záéíóúñüäë]\", \" \", txt.lower())\n    # Nos pasa el textoo a minúsculas.\n    txt = re.sub(' +',' ', txt)\n    # Limpia nuestro texto.\n    return txt.strip().split()\n    # Nos regresa el texto con las delimitaciones especificadas.\n\ndef df_to_dict(df, key_column, val_column):\n    \"\"\"convierte dos pandas series en un diccionario\"\"\"\n    xkey = df[key_column].tolist()\n    xval = df[val_column].tolist()\n    return dict(zip(xkey,xval))\n\ndef get_gender2(names):\n    names = clean_text(names)\n    names = [x for x in names if gender_list.get(x,'a') != 'a']\n    gender ={'m':0, 'f':0, 'a':0}\n    for i, name in enumerate(names):\n        g = gender_list.get(name,'a')\n        gender[g] += 1\n        gender[g] += 2 if len(names) > 1 and i == 0 and g != 'a' else 0 \n    gender['a'] = 0 if (gender['f']+gender['m']) > 0 else 1\n    return max(gender.items(), key=operator.itemgetter(1))[0]\n\ngender_list = pd.read_csv('nombres.csv')\ngender_list = df_to_dict(gender_list, key_column='nombre', val_column='genero')",
   "outputs": [],
   "execution_count": null
  },
  {
   "cell_type": "code",
   "metadata": {
    "cell_id": "00007-35a351f9-da5b-48c3-9cfb-bc3510764c38",
    "deepnote_cell_type": "code",
    "deepnote_cell_height": 345.6875
   },
   "source": "elem = browser.find_element_by_xpath(\"//*\")\nsoup = BeautifulSoup(elem.get_attribute('innerHTML'),'html.parser')\nreviews = soup.find_all(\"div\",'TTreview')\nprint(len(reviews))\nfor rev in reviews:\n    fecha = rev.find_all(\"div\",'TTrevCol3')[0].get_text().split('\\n')[1]\n    autor = rev.find_all(\"div\",'TTrevCol3')[0].get_text().split('\\n')[4]\n    rate = rev.find_all(\"div\",'TThiddenForADA')[0].get_text()[-6]\n    title = rev.find_all(\"div\",'TTreviewTitle')[0].text.strip('\\n')\n    comen = rev.find_all(\"div\",'TTreviewBody')[0].text.strip('\\n').strip(' ')\n    gen = get_gender2(autor)\n    data = data.append({'FECHA': fecha,'AUTOR':autor,'RATE':rate,'TITULO':title,\n                'REVIEW':comen,'GENERO':gen,\n                'PROYECTO':'HASBRO','PRODUCTO':'Set Peppa Pig Crea y Diseña Play-Doh'},ignore_index=True)",
   "outputs": [
    {
     "name": "stdout",
     "output_type": "stream",
     "text": "8\n"
    }
   ],
   "execution_count": null
  },
  {
   "cell_type": "code",
   "metadata": {
    "cell_id": "00008-ad101040-6ac1-42a4-bfd5-d9ed4eaa9cb4",
    "deepnote_cell_type": "code",
    "deepnote_cell_height": 361,
    "deepnote_output_heights": [
     264
    ]
   },
   "source": "data",
   "outputs": [
    {
     "data": {
      "text/html": "<div>\n<style scoped>\n    .dataframe tbody tr th:only-of-type {\n        vertical-align: middle;\n    }\n\n    .dataframe tbody tr th {\n        vertical-align: top;\n    }\n\n    .dataframe thead th {\n        text-align: right;\n    }\n</style>\n<table border=\"1\" class=\"dataframe\">\n  <thead>\n    <tr style=\"text-align: right;\">\n      <th></th>\n      <th>FECHA</th>\n      <th>RATE</th>\n      <th>TITULO</th>\n      <th>REVIEW</th>\n      <th>GENERO</th>\n      <th>PROYECTO</th>\n      <th>PRODUCTO</th>\n      <th>AUTOR</th>\n    </tr>\n  </thead>\n  <tbody>\n    <tr>\n      <th>0</th>\n      <td>22 de octubre de 2021</td>\n      <td>5</td>\n      <td></td>\n      <td>Super la entrega muy a tiempo</td>\n      <td>f</td>\n      <td>HASBRO</td>\n      <td>Set Peppa Pig Crea y Diseña Play-Doh</td>\n      <td>Erika M</td>\n    </tr>\n    <tr>\n      <th>1</th>\n      <td>30 de octubre de 2021</td>\n      <td>5</td>\n      <td></td>\n      <td></td>\n      <td>a</td>\n      <td>HASBRO</td>\n      <td>Set Peppa Pig Crea y Diseña Play-Doh</td>\n      <td>Betzabe G</td>\n    </tr>\n    <tr>\n      <th>2</th>\n      <td>26 de marzo de 2022</td>\n      <td>5</td>\n      <td>Buena compra</td>\n      <td>Muy lindas</td>\n      <td>a</td>\n      <td>HASBRO</td>\n      <td>Set Peppa Pig Crea y Diseña Play-Doh</td>\n      <td>Milendi A</td>\n    </tr>\n    <tr>\n      <th>3</th>\n      <td>5 de diciembre de 2021</td>\n      <td>5</td>\n      <td></td>\n      <td></td>\n      <td>f</td>\n      <td>HASBRO</td>\n      <td>Set Peppa Pig Crea y Diseña Play-Doh</td>\n      <td>CINTHIA NAVIL F</td>\n    </tr>\n    <tr>\n      <th>4</th>\n      <td>3 de diciembre de 2021</td>\n      <td>5</td>\n      <td></td>\n      <td></td>\n      <td>m</td>\n      <td>HASBRO</td>\n      <td>Set Peppa Pig Crea y Diseña Play-Doh</td>\n      <td>Juan Fernando C</td>\n    </tr>\n    <tr>\n      <th>5</th>\n      <td>6 de enero de 2022</td>\n      <td>5</td>\n      <td></td>\n      <td></td>\n      <td>f</td>\n      <td>HASBRO</td>\n      <td>Set Peppa Pig Crea y Diseña Play-Doh</td>\n      <td>viridiana c</td>\n    </tr>\n    <tr>\n      <th>6</th>\n      <td>10 de diciembre de 2021</td>\n      <td>5</td>\n      <td>Todo viene tal cual</td>\n      <td>Genial, a mis hijos les encantó</td>\n      <td>f</td>\n      <td>HASBRO</td>\n      <td>Set Peppa Pig Crea y Diseña Play-Doh</td>\n      <td>Iris C</td>\n    </tr>\n    <tr>\n      <th>7</th>\n      <td>22 de diciembre de 2021</td>\n      <td>5</td>\n      <td></td>\n      <td></td>\n      <td>m</td>\n      <td>HASBRO</td>\n      <td>Set Peppa Pig Crea y Diseña Play-Doh</td>\n      <td>JULIO CESAR O</td>\n    </tr>\n  </tbody>\n</table>\n</div>",
      "text/plain": "                     FECHA RATE               TITULO  \\\n0    22 de octubre de 2021    5                        \n1    30 de octubre de 2021    5                        \n2      26 de marzo de 2022    5         Buena compra   \n3   5 de diciembre de 2021    5                        \n4   3 de diciembre de 2021    5                        \n5       6 de enero de 2022    5                        \n6  10 de diciembre de 2021    5  Todo viene tal cual   \n7  22 de diciembre de 2021    5                        \n\n                            REVIEW GENERO PROYECTO  \\\n0    Super la entrega muy a tiempo      f   HASBRO   \n1                                       a   HASBRO   \n2                       Muy lindas      a   HASBRO   \n3                                       f   HASBRO   \n4                                       m   HASBRO   \n5                                       f   HASBRO   \n6  Genial, a mis hijos les encantó      f   HASBRO   \n7                                       m   HASBRO   \n\n                               PRODUCTO            AUTOR  \n0  Set Peppa Pig Crea y Diseña Play-Doh          Erika M  \n1  Set Peppa Pig Crea y Diseña Play-Doh        Betzabe G  \n2  Set Peppa Pig Crea y Diseña Play-Doh        Milendi A  \n3  Set Peppa Pig Crea y Diseña Play-Doh  CINTHIA NAVIL F  \n4  Set Peppa Pig Crea y Diseña Play-Doh  Juan Fernando C  \n5  Set Peppa Pig Crea y Diseña Play-Doh      viridiana c  \n6  Set Peppa Pig Crea y Diseña Play-Doh           Iris C  \n7  Set Peppa Pig Crea y Diseña Play-Doh    JULIO CESAR O  "
     },
     "execution_count": 9,
     "metadata": {},
     "output_type": "execute_result"
    }
   ],
   "execution_count": null
  },
  {
   "cell_type": "code",
   "metadata": {
    "cell_id": "00009-60bdf0e0-1f42-4e93-9681-138d29fb43b5",
    "deepnote_cell_type": "code",
    "deepnote_cell_height": 187,
    "deepnote_output_heights": [
     90
    ]
   },
   "source": "data.groupby(['RATE']).count()",
   "outputs": [
    {
     "data": {
      "text/html": "<div>\n<style scoped>\n    .dataframe tbody tr th:only-of-type {\n        vertical-align: middle;\n    }\n\n    .dataframe tbody tr th {\n        vertical-align: top;\n    }\n\n    .dataframe thead th {\n        text-align: right;\n    }\n</style>\n<table border=\"1\" class=\"dataframe\">\n  <thead>\n    <tr style=\"text-align: right;\">\n      <th></th>\n      <th>FECHA</th>\n      <th>TITULO</th>\n      <th>REVIEW</th>\n      <th>GENERO</th>\n      <th>PROYECTO</th>\n      <th>PRODUCTO</th>\n      <th>AUTOR</th>\n    </tr>\n    <tr>\n      <th>RATE</th>\n      <th></th>\n      <th></th>\n      <th></th>\n      <th></th>\n      <th></th>\n      <th></th>\n      <th></th>\n    </tr>\n  </thead>\n  <tbody>\n    <tr>\n      <th>5</th>\n      <td>7</td>\n      <td>7</td>\n      <td>7</td>\n      <td>7</td>\n      <td>7</td>\n      <td>7</td>\n      <td>7</td>\n    </tr>\n  </tbody>\n</table>\n</div>",
      "text/plain": "      FECHA  TITULO  REVIEW  GENERO  PROYECTO  PRODUCTO  AUTOR\nRATE                                                          \n5         7       7       7       7         7         7      7"
     },
     "execution_count": 71,
     "metadata": {},
     "output_type": "execute_result"
    }
   ],
   "execution_count": null
  },
  {
   "cell_type": "code",
   "metadata": {
    "cell_id": "00010-63485d40-f38f-43bd-a7b8-b1cf90fd6a1e",
    "deepnote_cell_type": "code",
    "deepnote_cell_height": 66
   },
   "source": "export_csv = data.to_csv (\"PLayDohL9.csv\", index = None, header=True , encoding='UTF-8')",
   "outputs": [],
   "execution_count": null
  },
  {
   "cell_type": "code",
   "metadata": {
    "cell_id": "00011-d4c08a84-6108-4a94-8542-bf31242d403d",
    "deepnote_cell_type": "code",
    "deepnote_cell_height": 66
   },
   "source": "",
   "execution_count": null,
   "outputs": []
  },
  {
   "cell_type": "markdown",
   "source": "<a style='text-decoration:none;line-height:16px;display:flex;color:#5B5B62;padding:10px;justify-content:end;' href='https://deepnote.com?utm_source=created-in-deepnote-cell&projectId=81cf9105-8cbb-4eb6-9fd8-b1c5776e8dac' target=\"_blank\">\n<img alt='Created in deepnote.com' style='display:inline;max-height:16px;margin:0px;margin-right:7.5px;' src='data:image/svg+xml;base64,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' > </img>\nCreated in <span style='font-weight:600;margin-left:4px;'>Deepnote</span></a>",
   "metadata": {
    "tags": [],
    "created_in_deepnote_cell": true,
    "deepnote_cell_type": "markdown"
   }
  }
 ],
 "nbformat": 4,
 "nbformat_minor": 5,
 "metadata": {
  "kernelspec": {
   "display_name": "Python 3",
   "language": "python",
   "name": "python3"
  },
  "language_info": {
   "codemirror_mode": {
    "name": "ipython",
    "version": 3
   },
   "file_extension": ".py",
   "mimetype": "text/x-python",
   "name": "python",
   "nbconvert_exporter": "python",
   "pygments_lexer": "ipython3",
   "version": "3.8.8"
  },
  "deepnote_notebook_id": "29f24267-12f1-44cc-87cf-1e633c088a37",
  "deepnote": {},
  "deepnote_execution_queue": []
 }
}