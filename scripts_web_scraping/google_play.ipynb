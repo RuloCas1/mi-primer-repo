{
 "cells": [
  {
   "cell_type": "code",
   "execution_count": 4,
   "id": "c56b76c4",
   "metadata": {},
   "outputs": [
    {
     "name": "stdout",
     "output_type": "stream",
     "text": [
      "Collecting webdriver_manager\n",
      "  Downloading webdriver_manager-3.5.2-py2.py3-none-any.whl (17 kB)\n",
      "Requirement already satisfied: requests in /Users/raul.castillo/opt/anaconda3/lib/python3.8/site-packages (from webdriver_manager) (2.25.1)\n",
      "Collecting crayons\n",
      "  Downloading crayons-0.4.0-py2.py3-none-any.whl (4.6 kB)\n",
      "Collecting configparser\n",
      "  Downloading configparser-5.2.0-py3-none-any.whl (19 kB)\n",
      "Requirement already satisfied: colorama in /Users/raul.castillo/opt/anaconda3/lib/python3.8/site-packages (from crayons->webdriver_manager) (0.4.4)\n",
      "Requirement already satisfied: certifi>=2017.4.17 in /Users/raul.castillo/opt/anaconda3/lib/python3.8/site-packages (from requests->webdriver_manager) (2020.12.5)\n",
      "Requirement already satisfied: idna<3,>=2.5 in /Users/raul.castillo/opt/anaconda3/lib/python3.8/site-packages (from requests->webdriver_manager) (2.10)\n",
      "Requirement already satisfied: urllib3<1.27,>=1.21.1 in /Users/raul.castillo/opt/anaconda3/lib/python3.8/site-packages (from requests->webdriver_manager) (1.26.4)\n",
      "Requirement already satisfied: chardet<5,>=3.0.2 in /Users/raul.castillo/opt/anaconda3/lib/python3.8/site-packages (from requests->webdriver_manager) (4.0.0)\n",
      "Installing collected packages: crayons, configparser, webdriver-manager\n",
      "Successfully installed configparser-5.2.0 crayons-0.4.0 webdriver-manager-3.5.2\n",
      "Note: you may need to restart the kernel to use updated packages.\n"
     ]
    }
   ],
   "source": [
    "pip install webdriver_manager"
   ]
  },
  {
   "cell_type": "code",
   "execution_count": 1,
   "id": "325a961b",
   "metadata": {},
   "outputs": [],
   "source": [
    "from selenium import webdriver\n",
    "import time\n",
    "import pandas as pd\n",
    "from selenium.webdriver import Chrome\n",
    "from selenium.webdriver.common.by import By\n",
    "from selenium.webdriver.common.keys import Keys\n",
    "from selenium.webdriver.support.ui import WebDriverWait\n",
    "from selenium.webdriver.support import expected_conditions as EC\n",
    "from bs4 import BeautifulSoup\n",
    "from datetime import datetime,timedelta\n",
    "import time\n",
    "import random\n",
    "import re"
   ]
  },
  {
   "cell_type": "code",
   "execution_count": 2,
   "id": "84b17044",
   "metadata": {},
   "outputs": [],
   "source": [
    "# driver=webdriver.Chrome(executable_path=r\"/Users/raul.castillo/SCRIPTS/chromedriver 94\")"
   ]
  },
  {
   "cell_type": "code",
   "execution_count": 1,
   "id": "98f4a251",
   "metadata": {},
   "outputs": [],
   "source": [
    "# En caso de tener problemas con la versión de Chrome:\n",
    "# https://chromedriver.chromium.org/downloads\n",
    "# https://chromedriver.storage.googleapis.com/index.html?path=95.0.4638.69/\n",
    "# https://sites.google.com/a/chromium.org/chromedriver/home"
   ]
  },
  {
   "cell_type": "code",
   "execution_count": 2,
   "id": "4db0a514",
   "metadata": {},
   "outputs": [
    {
     "name": "stderr",
     "output_type": "stream",
     "text": [
      "\n",
      "\n",
      "====== WebDriver manager ======\n",
      "Current google-chrome version is 101.0.4951\n",
      "Get LATEST chromedriver version for 101.0.4951 google-chrome\n",
      "Driver [/Users/raul.castillo/.wdm/drivers/chromedriver/mac64/101.0.4951.41/chromedriver] found in cache\n"
     ]
    }
   ],
   "source": [
    "from webdriver_manager.chrome import ChromeDriverManager\n",
    "\n",
    "driver = webdriver.Chrome(ChromeDriverManager().install())"
   ]
  },
  {
   "cell_type": "code",
   "execution_count": 3,
   "id": "6496fecc",
   "metadata": {},
   "outputs": [
    {
     "data": {
      "text/plain": [
       "'/Users/raul.castillo/SCRIPTS'"
      ]
     },
     "execution_count": 3,
     "metadata": {},
     "output_type": "execute_result"
    }
   ],
   "source": [
    "pwd"
   ]
  },
  {
   "cell_type": "code",
   "execution_count": 3,
   "id": "6c7689a6",
   "metadata": {},
   "outputs": [],
   "source": [
    "url = \"https://play.google.com/store/apps/details?id=com.LaComerApp&showAllReviews=true\""
   ]
  },
  {
   "cell_type": "code",
   "execution_count": 4,
   "id": "e0afb9fe",
   "metadata": {},
   "outputs": [],
   "source": [
    "driver.get(url)"
   ]
  },
  {
   "cell_type": "code",
   "execution_count": 12,
   "id": "14fe4212",
   "metadata": {},
   "outputs": [],
   "source": [
    "elem = driver.find_element_by_xpath(\"//*\")\n",
    "soup = BeautifulSoup(elem.get_attribute('innerHTML'),'html.parser')\n",
    "#En este punto hay que hacer el scroleo manual previo a correr esta parte. Mucho cuidado que si se hace muy rápido, nos sacan de la página."
   ]
  },
  {
   "cell_type": "code",
   "execution_count": 13,
   "id": "6bec5b15",
   "metadata": {},
   "outputs": [],
   "source": [
    "comments = soup.find_all(\"div\",'d15Mdf bAhLNe')"
   ]
  },
  {
   "cell_type": "code",
   "execution_count": 14,
   "id": "7aab261e",
   "metadata": {},
   "outputs": [
    {
     "data": {
      "text/plain": [
       "240"
      ]
     },
     "execution_count": 14,
     "metadata": {},
     "output_type": "execute_result"
    }
   ],
   "source": [
    "len(comments)"
   ]
  },
  {
   "cell_type": "code",
   "execution_count": 15,
   "id": "9cd7ce38",
   "metadata": {},
   "outputs": [
    {
     "data": {
      "text/plain": [
       "<div class=\"d15Mdf bAhLNe\"><div class=\"xKpxId zc7KVe\"><div class=\"bAhLNe kx8XBd\"><span class=\"X43Kjb\">AlmaD Salinas</span><div><span class=\"nt2C1d\"><div class=\"pf5lIe\"><div aria-label=\"Calificación: 5 de cinco estrellas\" role=\"img\"><div class=\"vQHuPe bUWb7c\"></div><div class=\"vQHuPe bUWb7c\"></div><div class=\"vQHuPe bUWb7c\"></div><div class=\"vQHuPe bUWb7c\"></div><div class=\"vQHuPe bUWb7c\"></div></div></div></span><span class=\"p2TkOb\">9 de abril de 2022</span></div></div><div class=\"YCMBp GVFJbb\"><div jsaction=\"JIbuQc:isb5Wc(isb5Wc);NrJVc:tUsItb;Juy6d:Hw9KTb;yIJnmd:kuHRr;s4H3C:HBdSge\" jsname=\"OuHhoc\"><div class=\"XlMhZe\"><div aria-disabled=\"false\" aria-label=\"Útil\" class=\"U26fgb mUbCce fKz7Od YYBxpf M9Bg4d\" data-tooltip=\"Útil\" data-tooltip-horizontal-offset=\"0\" data-tooltip-vertical-offset=\"-12\" jsaction=\"click:cOuCgd; mousedown:UX7yZ; mouseup:lbsD7e; mouseenter:tfO1Yc; mouseleave:JywGue; focus:AHmuwe; blur:O22p3e; contextmenu:mg9Pef;touchstart:p6p2H; touchmove:FwuNnf; touchend:yfqBxc(preventMouseEvents=true|preventDefault=true); touchcancel:JMtRjd\" jscontroller=\"VXdfxd\" jslog=\"77038; 1:1212; track:JIbuQc;\" jsname=\"isb5Wc\" jsshadow=\"\" role=\"button\" tabindex=\"0\"><div class=\"VTBa7b MbhUzd\" jsname=\"ksKsZd\"></div><span class=\"xjKiLb\" jsslot=\"\"><span class=\"Ce1Y1c\" style=\"top: -12px;\"><span aria-hidden=\"true\" class=\"DPvwYc y92BAb\" jsname=\"eJYMSc\"></span></span></span></div><div aria-label=\"Cantidad de veces que se calificó esta reseña como útil\" class=\"jUL89d y92BAb\">8</div></div><div aria-disabled=\"false\" aria-expanded=\"false\" aria-haspopup=\"true\" aria-label=\"Más opciones\" class=\"U26fgb JRtysb WzwrXb\" data-tooltip=\"Más opciones\" data-tooltip-horizontal-offset=\"0\" data-tooltip-vertical-offset=\"-12\" jsaction=\"click:cOuCgd; mousedown:UX7yZ; mouseup:lbsD7e; mouseenter:tfO1Yc; mouseleave:JywGue; focus:AHmuwe; blur:O22p3e; contextmenu:mg9Pef;touchstart:p6p2H; touchmove:FwuNnf; touchend:yfqBxc(preventMouseEvents=true|preventDefault=true); touchcancel:JMtRjd;keydown:I481le\" jscontroller=\"iSvg6e\" jsname=\"hHFCAc\" jsshadow=\"\" role=\"button\" tabindex=\"0\"><div class=\"NWlf3e MbhUzd\" jsname=\"ksKsZd\"></div><span class=\"MhXXcc oJeWuf\" jsslot=\"\"><span class=\"Lw7GHd snByac\"><span aria-hidden=\"true\" class=\"DPvwYc NE4Eeb\"></span></span></span><div aria-hidden=\"true\" jsname=\"xl07Ob\" style=\"display: none;\"><div class=\"JPdR6b CblTmf\" jsaction=\"IpSVtb:TvD9Pc;fEN2Ze:xzS4ub;frq95c:LNeFm;cFpp9e:J9oOtd; click:H8nU8b; mouseup:H8nU8b; keydown:I481le; keypress:Kr2w4b; blur:O22p3e; focus:H8nU8b\" jscontroller=\"uY3Nvd\" jsshadow=\"\" role=\"menu\" style=\"position: fixed;\" tabindex=\"0\"><div class=\"XvhY1d\" jsaction=\"mousedown:p8EH2c; touchstart:p8EH2c\"><div class=\"JAPqpe K0NPx\"><span aria-label=\"Ver historial de cambios\" class=\"z80M1\" jsaction=\"click:o6ZaF(preventDefault=true); mousedown:lAhnzb; mouseup:Osgxgf; mouseenter:SKyDAe; mouseleave:xq3APb;touchstart:jJiBRc; touchmove:kZeBdd; touchend:VfAz8(preventMouseEvents=true)\" jsname=\"j7LFlb\" jsslot=\"\" role=\"menuitem\" tabindex=\"-1\"><div class=\"aBBjbd MbhUzd\" jsname=\"ksKsZd\"></div><div class=\"uyYuVb oJeWuf\" jsaction=\"JIbuQc:HBdSge\" jscontroller=\"cCHjWd\" jsname=\"HBdSge\"><div class=\"jO7h3c\">Ver historial de cambios</div></div></span><span aria-checked=\"false\" aria-label=\"Poco útil\" class=\"z80M1 NmX0eb\" jsaction=\"click:o6ZaF(preventDefault=true); mousedown:lAhnzb; mouseup:Osgxgf; mouseenter:SKyDAe; mouseleave:xq3APb;touchstart:jJiBRc; touchmove:kZeBdd; touchend:VfAz8(preventMouseEvents=true)\" jsname=\"j7LFlb\" jsslot=\"\" role=\"menuitemradio\" tabindex=\"-1\"><div class=\"aBBjbd MbhUzd\" jsname=\"ksKsZd\"></div><div class=\"uyYuVb oJeWuf\" jsaction=\"JIbuQc:tUsItb\" jscontroller=\"cCHjWd\" jslog=\"77041; 1:1213; track:click;\" jsname=\"tUsItb\"><div class=\"O7wNO\"></div><div class=\"jO7h3c\">Poco útil</div></div></span><span aria-checked=\"false\" aria-label=\"Spam\" class=\"z80M1 NmX0eb\" jsaction=\"click:o6ZaF(preventDefault=true); mousedown:lAhnzb; mouseup:Osgxgf; mouseenter:SKyDAe; mouseleave:xq3APb;touchstart:jJiBRc; touchmove:kZeBdd; touchend:VfAz8(preventMouseEvents=true)\" jsname=\"j7LFlb\" jsslot=\"\" role=\"menuitemradio\" tabindex=\"-1\"><div class=\"aBBjbd MbhUzd\" jsname=\"ksKsZd\"></div><div class=\"uyYuVb oJeWuf\" jsaction=\"JIbuQc:Hw9KTb\" jscontroller=\"cCHjWd\" jslog=\"77040; 1:1214; track:click;\" jsname=\"Hw9KTb\"><div class=\"O7wNO\"></div><div class=\"jO7h3c\">Spam</div></div></span><span aria-label=\"Vínculo a este comentario\" class=\"z80M1\" jsaction=\"click:o6ZaF(preventDefault=true); mousedown:lAhnzb; mouseup:Osgxgf; mouseenter:SKyDAe; mouseleave:xq3APb;touchstart:jJiBRc; touchmove:kZeBdd; touchend:VfAz8(preventMouseEvents=true)\" jsname=\"j7LFlb\" jsslot=\"\" role=\"menuitem\" tabindex=\"-1\"><div class=\"aBBjbd MbhUzd\" jsname=\"ksKsZd\"></div><div class=\"uyYuVb oJeWuf\" jsaction=\"JIbuQc:kuHRr\" jscontroller=\"cCHjWd\" jslog=\"77039; 1:6066; track:click;\" jsname=\"kuHRr\"><div class=\"jO7h3c\">Vínculo a este comentario</div></div></span></div></div></div></div></div></div></div></div><div class=\"UD7Dzf\" jscontroller=\"LVJlx\"> <span jsname=\"bN97Pc\">Excelente opción, desde la primera vez compré y son puntuales y amables, perfecto para no gastar de más y hacer \"Solo la lista\". Las opciones de crear listas permite llevar control de lo comprado para después pedir lo mismo (agregar los artículos al carrito) y solicitar que te llamen para aclarar tu…<div class=\"cQj82c\"><button class=\"LkLjZd ScJHi OzU4dc\" jsaction=\"click:TiglPc\" jsname=\"gxjVle\">Ver opinión completa</button></div></span><span jsname=\"fbQN7e\" style=\"display: none;\">Excelente opción, desde la primera vez compré y son puntuales y amables, perfecto para no gastar de más y hacer \"Solo la lista\". Las opciones de crear listas permite llevar control de lo comprado para después pedir lo mismo (agregar los artículos al carrito) y solicitar que te llamen para aclarar tu pedido excelente! Poder escanear el ticket para hacer una lista nueva está increíble! Feliz con la aplicación. (Nada patrocinado, simplemente una usuaria con una buena experiencia)</span></div></div>"
      ]
     },
     "execution_count": 15,
     "metadata": {},
     "output_type": "execute_result"
    }
   ],
   "source": [
    "comments[0]"
   ]
  },
  {
   "cell_type": "code",
   "execution_count": 16,
   "id": "a6ff79ef",
   "metadata": {},
   "outputs": [],
   "source": [
    "autor = comments[0].find_all(\"span\",'X43Kjb')[0].text"
   ]
  },
  {
   "cell_type": "code",
   "execution_count": 17,
   "id": "abda1fd8",
   "metadata": {},
   "outputs": [
    {
     "data": {
      "text/plain": [
       "'AlmaD Salinas'"
      ]
     },
     "execution_count": 17,
     "metadata": {},
     "output_type": "execute_result"
    }
   ],
   "source": [
    "autor"
   ]
  },
  {
   "cell_type": "code",
   "execution_count": 18,
   "id": "3c483ee5",
   "metadata": {},
   "outputs": [],
   "source": [
    "value = comments[0].find_all(\"span\", 'nt2C1d')[0].find_all(\"div\", '')[1][\"aria-label\"]"
   ]
  },
  {
   "cell_type": "code",
   "execution_count": 19,
   "id": "c3fa52ec",
   "metadata": {},
   "outputs": [
    {
     "data": {
      "text/plain": [
       "'Calificación: 5 de cinco estrellas'"
      ]
     },
     "execution_count": 19,
     "metadata": {},
     "output_type": "execute_result"
    }
   ],
   "source": [
    "value"
   ]
  },
  {
   "cell_type": "code",
   "execution_count": 20,
   "id": "1e2350e6",
   "metadata": {},
   "outputs": [],
   "source": [
    "fecha = comments[0].find_all(\"span\",'p2TkOb')[0].text"
   ]
  },
  {
   "cell_type": "code",
   "execution_count": 21,
   "id": "a5324414",
   "metadata": {},
   "outputs": [
    {
     "data": {
      "text/plain": [
       "'9 de abril de 2022'"
      ]
     },
     "execution_count": 21,
     "metadata": {},
     "output_type": "execute_result"
    }
   ],
   "source": [
    "fecha"
   ]
  },
  {
   "cell_type": "code",
   "execution_count": 22,
   "id": "e94b4d48",
   "metadata": {},
   "outputs": [],
   "source": [
    "review = comments[0].find_all(\"div\",'UD7Dzf')[0].text"
   ]
  },
  {
   "cell_type": "code",
   "execution_count": 23,
   "id": "088a5964",
   "metadata": {},
   "outputs": [
    {
     "data": {
      "text/plain": [
       "' Excelente opción, desde la primera vez compré y son puntuales y amables, perfecto para no gastar de más y hacer \"Solo la lista\". Las opciones de crear listas permite llevar control de lo comprado para después pedir lo mismo (agregar los artículos al carrito) y solicitar que te llamen para aclarar tu…Ver opinión completaExcelente opción, desde la primera vez compré y son puntuales y amables, perfecto para no gastar de más y hacer \"Solo la lista\". Las opciones de crear listas permite llevar control de lo comprado para después pedir lo mismo (agregar los artículos al carrito) y solicitar que te llamen para aclarar tu pedido excelente! Poder escanear el ticket para hacer una lista nueva está increíble! Feliz con la aplicación. (Nada patrocinado, simplemente una usuaria con una buena experiencia)'"
      ]
     },
     "execution_count": 23,
     "metadata": {},
     "output_type": "execute_result"
    }
   ],
   "source": [
    "review"
   ]
  },
  {
   "cell_type": "code",
   "execution_count": 24,
   "id": "beed6673",
   "metadata": {},
   "outputs": [],
   "source": [
    "likes = comments[0].find_all(\"div\",'jUL89d y92BAb')[0].text"
   ]
  },
  {
   "cell_type": "code",
   "execution_count": 25,
   "id": "6c20d40a",
   "metadata": {},
   "outputs": [
    {
     "data": {
      "text/plain": [
       "'8'"
      ]
     },
     "execution_count": 25,
     "metadata": {},
     "output_type": "execute_result"
    }
   ],
   "source": [
    "likes"
   ]
  },
  {
   "cell_type": "code",
   "execution_count": 26,
   "id": "b8cbe961",
   "metadata": {},
   "outputs": [],
   "source": [
    "no = range(0,len(comments))"
   ]
  },
  {
   "cell_type": "code",
   "execution_count": 27,
   "id": "a2dc250a",
   "metadata": {},
   "outputs": [],
   "source": [
    "now = datetime.now() #- timedelta(hours=6) \n",
    "#hora = now.strftime('%H:%M')\n",
    "date = now.strftime('%Y-%m-%d')"
   ]
  },
  {
   "cell_type": "code",
   "execution_count": 28,
   "id": "eee4cb17",
   "metadata": {},
   "outputs": [],
   "source": [
    "df = pd.DataFrame(columns=('autor','likes','review','fecha','value','fechas','proyecto','app_name','cliente'))"
   ]
  },
  {
   "cell_type": "code",
   "execution_count": 29,
   "id": "90a3b322",
   "metadata": {},
   "outputs": [],
   "source": [
    "for n in no:\n",
    "    likes = comments[n].find_all(\"div\",'jUL89d y92BAb')[0].text\n",
    "    review = comments[n].find_all(\"div\",'UD7Dzf')[0].text\n",
    "    fecha = comments[n].find_all(\"span\",'p2TkOb')[0].text\n",
    "    value = comments[n].find_all(\"span\", 'nt2C1d')[0].find_all(\"div\", '')[1][\"aria-label\"]\n",
    "    val = re.findall(r'\\b\\d+\\b', value)[0]\n",
    "    autor = comments[n].find_all(\"span\",'X43Kjb')[0].text\n",
    "    df = df.append({'autor': autor,'likes':likes,'review':review,'fecha':fecha,'value':val,\n",
    "                    'fechas':date,'proyecto':\"Retailers\",'app_name':\"La Comer_App\",\n",
    "                    'cliente':\"BESO Consulting\"},ignore_index=True)"
   ]
  },
  {
   "cell_type": "code",
   "execution_count": 30,
   "id": "270014cf",
   "metadata": {},
   "outputs": [
    {
     "data": {
      "text/html": [
       "<div>\n",
       "<style scoped>\n",
       "    .dataframe tbody tr th:only-of-type {\n",
       "        vertical-align: middle;\n",
       "    }\n",
       "\n",
       "    .dataframe tbody tr th {\n",
       "        vertical-align: top;\n",
       "    }\n",
       "\n",
       "    .dataframe thead th {\n",
       "        text-align: right;\n",
       "    }\n",
       "</style>\n",
       "<table border=\"1\" class=\"dataframe\">\n",
       "  <thead>\n",
       "    <tr style=\"text-align: right;\">\n",
       "      <th></th>\n",
       "      <th>autor</th>\n",
       "      <th>likes</th>\n",
       "      <th>review</th>\n",
       "      <th>fecha</th>\n",
       "      <th>value</th>\n",
       "      <th>fechas</th>\n",
       "      <th>proyecto</th>\n",
       "      <th>app_name</th>\n",
       "      <th>cliente</th>\n",
       "    </tr>\n",
       "  </thead>\n",
       "  <tbody>\n",
       "    <tr>\n",
       "      <th>0</th>\n",
       "      <td>AlmaD Salinas</td>\n",
       "      <td>8</td>\n",
       "      <td>Excelente opción, desde la primera vez compré...</td>\n",
       "      <td>9 de abril de 2022</td>\n",
       "      <td>5</td>\n",
       "      <td>2022-05-13</td>\n",
       "      <td>Retailers</td>\n",
       "      <td>La Comer_App</td>\n",
       "      <td>BESO Consulting</td>\n",
       "    </tr>\n",
       "    <tr>\n",
       "      <th>1</th>\n",
       "      <td>Juan Jose Velazquez</td>\n",
       "      <td>8</td>\n",
       "      <td>Lo digo una y otra vez.Muy lenta su aplicació...</td>\n",
       "      <td>20 de abril de 2022</td>\n",
       "      <td>1</td>\n",
       "      <td>2022-05-13</td>\n",
       "      <td>Retailers</td>\n",
       "      <td>La Comer_App</td>\n",
       "      <td>BESO Consulting</td>\n",
       "    </tr>\n",
       "    <tr>\n",
       "      <th>2</th>\n",
       "      <td>Teo saviñon</td>\n",
       "      <td>16</td>\n",
       "      <td>Buena app, sin comerciales ni precios de entr...</td>\n",
       "      <td>23 de diciembre de 2021</td>\n",
       "      <td>3</td>\n",
       "      <td>2022-05-13</td>\n",
       "      <td>Retailers</td>\n",
       "      <td>La Comer_App</td>\n",
       "      <td>BESO Consulting</td>\n",
       "    </tr>\n",
       "    <tr>\n",
       "      <th>3</th>\n",
       "      <td>TRILLIZOS DEL TERROR</td>\n",
       "      <td>10</td>\n",
       "      <td>Comencé hace más de un año usándola y el serv...</td>\n",
       "      <td>30 de agosto de 2021</td>\n",
       "      <td>5</td>\n",
       "      <td>2022-05-13</td>\n",
       "      <td>Retailers</td>\n",
       "      <td>La Comer_App</td>\n",
       "      <td>BESO Consulting</td>\n",
       "    </tr>\n",
       "    <tr>\n",
       "      <th>4</th>\n",
       "      <td>Cinthya Arai</td>\n",
       "      <td>1</td>\n",
       "      <td>Es una aplicación que le hace falta un poco m...</td>\n",
       "      <td>25 de mayo de 2021</td>\n",
       "      <td>4</td>\n",
       "      <td>2022-05-13</td>\n",
       "      <td>Retailers</td>\n",
       "      <td>La Comer_App</td>\n",
       "      <td>BESO Consulting</td>\n",
       "    </tr>\n",
       "    <tr>\n",
       "      <th>...</th>\n",
       "      <td>...</td>\n",
       "      <td>...</td>\n",
       "      <td>...</td>\n",
       "      <td>...</td>\n",
       "      <td>...</td>\n",
       "      <td>...</td>\n",
       "      <td>...</td>\n",
       "      <td>...</td>\n",
       "      <td>...</td>\n",
       "    </tr>\n",
       "    <tr>\n",
       "      <th>235</th>\n",
       "      <td>Aurora Segura</td>\n",
       "      <td>0</td>\n",
       "      <td>La aplicación es muy lenta</td>\n",
       "      <td>9 de marzo de 2022</td>\n",
       "      <td>1</td>\n",
       "      <td>2022-05-13</td>\n",
       "      <td>Retailers</td>\n",
       "      <td>La Comer_App</td>\n",
       "      <td>BESO Consulting</td>\n",
       "    </tr>\n",
       "    <tr>\n",
       "      <th>236</th>\n",
       "      <td>Aida Reyes</td>\n",
       "      <td>0</td>\n",
       "      <td>Cómoda y eficiente</td>\n",
       "      <td>9 de marzo de 2022</td>\n",
       "      <td>5</td>\n",
       "      <td>2022-05-13</td>\n",
       "      <td>Retailers</td>\n",
       "      <td>La Comer_App</td>\n",
       "      <td>BESO Consulting</td>\n",
       "    </tr>\n",
       "    <tr>\n",
       "      <th>237</th>\n",
       "      <td>Rosalina Lopez</td>\n",
       "      <td>0</td>\n",
       "      <td>Es facil y rápido</td>\n",
       "      <td>25 de marzo de 2022</td>\n",
       "      <td>5</td>\n",
       "      <td>2022-05-13</td>\n",
       "      <td>Retailers</td>\n",
       "      <td>La Comer_App</td>\n",
       "      <td>BESO Consulting</td>\n",
       "    </tr>\n",
       "    <tr>\n",
       "      <th>238</th>\n",
       "      <td>Rafael Grajales</td>\n",
       "      <td>2</td>\n",
       "      <td>Los textos están muy chiquitos me costaba muc...</td>\n",
       "      <td>27 de marzo de 2020</td>\n",
       "      <td>2</td>\n",
       "      <td>2022-05-13</td>\n",
       "      <td>Retailers</td>\n",
       "      <td>La Comer_App</td>\n",
       "      <td>BESO Consulting</td>\n",
       "    </tr>\n",
       "    <tr>\n",
       "      <th>239</th>\n",
       "      <td>CECILIA MARES MAZON</td>\n",
       "      <td>0</td>\n",
       "      <td>Me encanta productos de 1era calidad</td>\n",
       "      <td>21 de abril de 2022</td>\n",
       "      <td>5</td>\n",
       "      <td>2022-05-13</td>\n",
       "      <td>Retailers</td>\n",
       "      <td>La Comer_App</td>\n",
       "      <td>BESO Consulting</td>\n",
       "    </tr>\n",
       "  </tbody>\n",
       "</table>\n",
       "<p>240 rows × 9 columns</p>\n",
       "</div>"
      ],
      "text/plain": [
       "                    autor likes  \\\n",
       "0           AlmaD Salinas     8   \n",
       "1     Juan Jose Velazquez     8   \n",
       "2             Teo saviñon    16   \n",
       "3    TRILLIZOS DEL TERROR    10   \n",
       "4            Cinthya Arai     1   \n",
       "..                    ...   ...   \n",
       "235         Aurora Segura     0   \n",
       "236            Aida Reyes     0   \n",
       "237        Rosalina Lopez     0   \n",
       "238       Rafael Grajales     2   \n",
       "239   CECILIA MARES MAZON     0   \n",
       "\n",
       "                                                review  \\\n",
       "0     Excelente opción, desde la primera vez compré...   \n",
       "1     Lo digo una y otra vez.Muy lenta su aplicació...   \n",
       "2     Buena app, sin comerciales ni precios de entr...   \n",
       "3     Comencé hace más de un año usándola y el serv...   \n",
       "4     Es una aplicación que le hace falta un poco m...   \n",
       "..                                                 ...   \n",
       "235                         La aplicación es muy lenta   \n",
       "236                                 Cómoda y eficiente   \n",
       "237                                  Es facil y rápido   \n",
       "238   Los textos están muy chiquitos me costaba muc...   \n",
       "239               Me encanta productos de 1era calidad   \n",
       "\n",
       "                       fecha value      fechas   proyecto      app_name  \\\n",
       "0         9 de abril de 2022     5  2022-05-13  Retailers  La Comer_App   \n",
       "1        20 de abril de 2022     1  2022-05-13  Retailers  La Comer_App   \n",
       "2    23 de diciembre de 2021     3  2022-05-13  Retailers  La Comer_App   \n",
       "3       30 de agosto de 2021     5  2022-05-13  Retailers  La Comer_App   \n",
       "4         25 de mayo de 2021     4  2022-05-13  Retailers  La Comer_App   \n",
       "..                       ...   ...         ...        ...           ...   \n",
       "235       9 de marzo de 2022     1  2022-05-13  Retailers  La Comer_App   \n",
       "236       9 de marzo de 2022     5  2022-05-13  Retailers  La Comer_App   \n",
       "237      25 de marzo de 2022     5  2022-05-13  Retailers  La Comer_App   \n",
       "238      27 de marzo de 2020     2  2022-05-13  Retailers  La Comer_App   \n",
       "239      21 de abril de 2022     5  2022-05-13  Retailers  La Comer_App   \n",
       "\n",
       "             cliente  \n",
       "0    BESO Consulting  \n",
       "1    BESO Consulting  \n",
       "2    BESO Consulting  \n",
       "3    BESO Consulting  \n",
       "4    BESO Consulting  \n",
       "..               ...  \n",
       "235  BESO Consulting  \n",
       "236  BESO Consulting  \n",
       "237  BESO Consulting  \n",
       "238  BESO Consulting  \n",
       "239  BESO Consulting  \n",
       "\n",
       "[240 rows x 9 columns]"
      ]
     },
     "execution_count": 30,
     "metadata": {},
     "output_type": "execute_result"
    }
   ],
   "source": [
    "df"
   ]
  },
  {
   "cell_type": "code",
   "execution_count": 145,
   "id": "54a7e3a5",
   "metadata": {},
   "outputs": [],
   "source": [
    "export_csv = df.to_csv (\"Comments_app_La Comer.csv\", index = None, header=True , encoding='UTF-8')"
   ]
  },
  {
   "cell_type": "code",
   "execution_count": null,
   "id": "3ccd60e4",
   "metadata": {},
   "outputs": [],
   "source": []
  }
 ],
 "metadata": {
  "kernelspec": {
   "display_name": "Python 3",
   "language": "python",
   "name": "python3"
  },
  "language_info": {
   "codemirror_mode": {
    "name": "ipython",
    "version": 3
   },
   "file_extension": ".py",
   "mimetype": "text/x-python",
   "name": "python",
   "nbconvert_exporter": "python",
   "pygments_lexer": "ipython3",
   "version": "3.8.8"
  }
 },
 "nbformat": 4,
 "nbformat_minor": 5
}
