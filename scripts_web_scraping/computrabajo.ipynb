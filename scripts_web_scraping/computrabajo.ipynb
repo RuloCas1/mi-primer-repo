{
 "cells": [
  {
   "cell_type": "code",
   "metadata": {
    "cell_id": "8fd047f3-198a-4060-9c79-a26b18bd7111",
    "deepnote_cell_type": "code"
   },
   "source": "pip install webdriver_manager",
   "execution_count": 1,
   "outputs": [
    {
     "name": "stdout",
     "output_type": "stream",
     "text": "Requirement already satisfied: webdriver_manager in /Users/raul.castillo/opt/anaconda3/lib/python3.8/site-packages (3.5.2)\nRequirement already satisfied: crayons in /Users/raul.castillo/opt/anaconda3/lib/python3.8/site-packages (from webdriver_manager) (0.4.0)\nRequirement already satisfied: requests in /Users/raul.castillo/opt/anaconda3/lib/python3.8/site-packages (from webdriver_manager) (2.25.1)\nRequirement already satisfied: configparser in /Users/raul.castillo/opt/anaconda3/lib/python3.8/site-packages (from webdriver_manager) (5.2.0)\nRequirement already satisfied: colorama in /Users/raul.castillo/opt/anaconda3/lib/python3.8/site-packages (from crayons->webdriver_manager) (0.4.4)\nRequirement already satisfied: certifi>=2017.4.17 in /Users/raul.castillo/opt/anaconda3/lib/python3.8/site-packages (from requests->webdriver_manager) (2020.12.5)\nRequirement already satisfied: idna<3,>=2.5 in /Users/raul.castillo/opt/anaconda3/lib/python3.8/site-packages (from requests->webdriver_manager) (2.10)\nRequirement already satisfied: urllib3<1.27,>=1.21.1 in /Users/raul.castillo/opt/anaconda3/lib/python3.8/site-packages (from requests->webdriver_manager) (1.26.4)\nRequirement already satisfied: chardet<5,>=3.0.2 in /Users/raul.castillo/opt/anaconda3/lib/python3.8/site-packages (from requests->webdriver_manager) (4.0.0)\nNote: you may need to restart the kernel to use updated packages.\n"
    }
   ]
  },
  {
   "cell_type": "code",
   "metadata": {
    "cell_id": "00001-1c8cd866-ec9f-436b-a0ef-6a685abda8bd",
    "deepnote_cell_type": "code"
   },
   "source": "import pandas as pd\nfrom datetime import datetime\nimport requests\nimport sys\nimport json\nfrom pandas.io.json import json_normalize\nfrom bs4 import BeautifulSoup\nimport time\nimport random\nimport operator\nimport re",
   "execution_count": 1,
   "outputs": []
  },
  {
   "cell_type": "code",
   "metadata": {
    "cell_id": "00002-37eb34f2-b307-4cf5-8ebd-d492cf2f9ce2",
    "deepnote_cell_type": "code"
   },
   "source": "from selenium import webdriver\nfrom selenium.webdriver.common.by import By\nfrom selenium.webdriver.common.keys import Keys\n#/Users/leopoldo.alarcon/Documents/scriptsRRSS/chromedriver 2\n#https://pbpython.com/pandas-html-table.html",
   "execution_count": 2,
   "outputs": []
  },
  {
   "cell_type": "code",
   "metadata": {
    "cell_id": "00003-c36270a2-70fc-4a4e-8e1d-27fe517095c9",
    "deepnote_cell_type": "code"
   },
   "source": "from webdriver_manager.chrome import ChromeDriverManager\n\ndriver = webdriver.Chrome(ChromeDriverManager().install())",
   "execution_count": 200,
   "outputs": [
    {
     "name": "stderr",
     "output_type": "stream",
     "text": "\n\n====== WebDriver manager ======\nCurrent google-chrome version is 101.0.4951\nGet LATEST chromedriver version for 101.0.4951 google-chrome\nDriver [/Users/raul.castillo/.wdm/drivers/chromedriver/mac64/101.0.4951.41/chromedriver] found in cache\n"
    }
   ]
  },
  {
   "cell_type": "code",
   "metadata": {
    "cell_id": "00004-d735b7f6-1ac0-4287-8e3a-ee6728d2f1fe",
    "deepnote_cell_type": "code"
   },
   "source": "#browser = webdriver.Chrome(executable_path=r\"/Users/raul.castillo/SCRIPTS/chromedriver 96\")",
   "execution_count": null,
   "outputs": []
  },
  {
   "cell_type": "code",
   "metadata": {
    "cell_id": "00005-d481fb0f-7654-42c7-aff3-1bc7b7efe371",
    "deepnote_cell_type": "code"
   },
   "source": "data = pd.DataFrame(columns=('id','rate','review','cargo','vigente','origen','fecha','pros','contras','proyecto','empresa'))",
   "execution_count": 4,
   "outputs": []
  },
  {
   "cell_type": "code",
   "metadata": {
    "cell_id": "00006-29bba21a-5639-4e9e-9117-7ec20de1590e",
    "deepnote_cell_type": "code"
   },
   "source": "total = range(1,36,1)",
   "execution_count": 5,
   "outputs": []
  },
  {
   "cell_type": "code",
   "metadata": {
    "cell_id": "00007-a4edb153-c63f-4c77-9e6a-4d616af38cf8",
    "deepnote_cell_type": "code"
   },
   "source": "n=0\nurl = \"https://www.computrabajo.com.mx/oxxomexico/evaluaciones?p=0\"\nempresa = 'PPG COMEX'\n#data = pd.DataFrame(columns=('id','rate','title','review','cargo','vigente','origen','fecha','pros','contras'))\npros =' '\ncontras =' '\n\nfor p in total:\n    urln = url+str(p)\n    print(urln)\n    driver.get(urln)\n    driver.maximize_window()\n    desplazar = random.randint(400, 2200)\n    driver.execute_script('window.scrollTo(1, '+str(desplazar)+');')\n    sleep = random.randint(3, 5)\n    time.sleep(sleep)\n    elem = driver.find_element_by_xpath(\"//*\")\n    soup = BeautifulSoup(elem.get_attribute('innerHTML'),'html.parser')\n    reviews = soup.find_all(\"li\",'fl w_100 pb20 mb30 pb15_r mb15_r')\n    print(len(reviews))\n    \n    for rev in reviews:\n        rate = rev.find_all(attrs={'itemprop': 'ratingValue'})[0].get('content')\n        generales = rev.find_all('p','fc80 fl w_100 fs13 mt5')[0].text.replace('\\n','').strip()\n        vigente = generales.split('·')[0].strip()\n        origen = generales.split('·')[1].strip()\n        month = generales.split('·')[1].replace(',','').strip()\n        month = month.split()[1].strip()\n        year = generales.split('·')[1].replace(',','').strip()\n        year = year.split()[2].strip()\n        months = month+','\n        fecha = months + ' ' + year\n        #autor = rev.find_all('','css-xvmbeo e1wnkr790')\n        cargo = rev.find_all('p','fs18 fw_b f_i tablec_i w_66 pr10 pl40')[0].text.strip()\n        review = rev.find_all('p','fl w_100 comentario bWord')[0].text.replace('\\n',' ').strip()\n\n        if len(rev.find_all('div','mt15 fl w_100')) > 3:\n            procon = rev.find_all('','fw_b fc80  fl100')[0].text\n            if procon[:2] == 'Lo':\n                if 'Lo mejor' in procon:\n                    pros = rev.find_all('','mt15 fl w_100')[0].find_all('span','')[1].text\n                    if len(rev.find_all('','mt15 fl w_100')[0]) > 6:\n                        contras = rev.find_all('','mt15 fl w_100')[0].find_all('span','')[3].text\n                if 'Lo mejor' not in procon:\n                    pros = 'Ninguno'\n                    contras = rev.find_all('','mt15 fl w_100')[0].find_all('span','')[1].text\n            elif procon[:2] == 'A ':\n                pros = 'Ninguno'\n                contras = rev.find_all('','mt15 fl w_100')[0].find_all('span','')[1].text\n        else:\n            pros ='Ninguno'\n            contras ='Ninguno'\n        #print(pros,' - ',contras)\n \n        n = n+1\n        data = data.append({'id': n,'rate':rate,'review':review,'cargo':cargo,\n                            'vigente':vigente,'origen':origen,'fecha':fecha,'pros':pros,'contras':contras,\n                            'proyecto':'COMEX','empresa':empresa},ignore_index=True)\n        \n    sleep = random.randint(15, 29)\n    #print(sleep)\n    time.sleep(sleep)\n\n    data['contras'] = data['contras'].str.replace('\\n',' ')\n    data['contras'] = data['contras'].str.replace('\\r',' ')\n    data['review'] = data['review'].str.replace('\\n',' ')\n    data['review'] = data['review'].str.replace('\\r',' ')\n    data['pros'] = data['pros'].str.replace('\\n',' ')\n    data['pros'] = data['pros'].str.replace('\\r',' ')",
   "execution_count": 197,
   "outputs": [
    {
     "name": "stdout",
     "output_type": "stream",
     "text": "https://www.computrabajo.com.mx/ppg-industries-mexico/evaluaciones?p=1\n10\nhttps://www.computrabajo.com.mx/ppg-industries-mexico/evaluaciones?p=2\n10\nhttps://www.computrabajo.com.mx/ppg-industries-mexico/evaluaciones?p=3\n10\nhttps://www.computrabajo.com.mx/ppg-industries-mexico/evaluaciones?p=4\n10\nhttps://www.computrabajo.com.mx/ppg-industries-mexico/evaluaciones?p=5\n10\nhttps://www.computrabajo.com.mx/ppg-industries-mexico/evaluaciones?p=6\n10\nhttps://www.computrabajo.com.mx/ppg-industries-mexico/evaluaciones?p=7\n10\nhttps://www.computrabajo.com.mx/ppg-industries-mexico/evaluaciones?p=8\n10\nhttps://www.computrabajo.com.mx/ppg-industries-mexico/evaluaciones?p=9\n10\nhttps://www.computrabajo.com.mx/ppg-industries-mexico/evaluaciones?p=10\n10\nhttps://www.computrabajo.com.mx/ppg-industries-mexico/evaluaciones?p=11\n10\nhttps://www.computrabajo.com.mx/ppg-industries-mexico/evaluaciones?p=12\n10\nhttps://www.computrabajo.com.mx/ppg-industries-mexico/evaluaciones?p=13\n10\nhttps://www.computrabajo.com.mx/ppg-industries-mexico/evaluaciones?p=14\n10\nhttps://www.computrabajo.com.mx/ppg-industries-mexico/evaluaciones?p=15\n10\nhttps://www.computrabajo.com.mx/ppg-industries-mexico/evaluaciones?p=16\n10\nhttps://www.computrabajo.com.mx/ppg-industries-mexico/evaluaciones?p=17\n10\nhttps://www.computrabajo.com.mx/ppg-industries-mexico/evaluaciones?p=18\n10\nhttps://www.computrabajo.com.mx/ppg-industries-mexico/evaluaciones?p=19\n10\nhttps://www.computrabajo.com.mx/ppg-industries-mexico/evaluaciones?p=20\n10\nhttps://www.computrabajo.com.mx/ppg-industries-mexico/evaluaciones?p=21\n10\nhttps://www.computrabajo.com.mx/ppg-industries-mexico/evaluaciones?p=22\n10\nhttps://www.computrabajo.com.mx/ppg-industries-mexico/evaluaciones?p=23\n10\nhttps://www.computrabajo.com.mx/ppg-industries-mexico/evaluaciones?p=24\n10\nhttps://www.computrabajo.com.mx/ppg-industries-mexico/evaluaciones?p=25\n10\nhttps://www.computrabajo.com.mx/ppg-industries-mexico/evaluaciones?p=26\n10\nhttps://www.computrabajo.com.mx/ppg-industries-mexico/evaluaciones?p=27\n10\nhttps://www.computrabajo.com.mx/ppg-industries-mexico/evaluaciones?p=28\n10\nhttps://www.computrabajo.com.mx/ppg-industries-mexico/evaluaciones?p=29\n10\nhttps://www.computrabajo.com.mx/ppg-industries-mexico/evaluaciones?p=30\n10\nhttps://www.computrabajo.com.mx/ppg-industries-mexico/evaluaciones?p=31\n10\nhttps://www.computrabajo.com.mx/ppg-industries-mexico/evaluaciones?p=32\n10\nhttps://www.computrabajo.com.mx/ppg-industries-mexico/evaluaciones?p=33\n10\nhttps://www.computrabajo.com.mx/ppg-industries-mexico/evaluaciones?p=34\n10\nhttps://www.computrabajo.com.mx/ppg-industries-mexico/evaluaciones?p=35\n10\n"
    }
   ]
  },
  {
   "cell_type": "code",
   "metadata": {
    "cell_id": "00008-234ced82-81f0-43e5-8fb2-9a07dc729316",
    "deepnote_cell_type": "code"
   },
   "source": "data",
   "execution_count": 198,
   "outputs": [
    {
     "data": {
      "text/html": "<div>\n<style scoped>\n    .dataframe tbody tr th:only-of-type {\n        vertical-align: middle;\n    }\n\n    .dataframe tbody tr th {\n        vertical-align: top;\n    }\n\n    .dataframe thead th {\n        text-align: right;\n    }\n</style>\n<table border=\"1\" class=\"dataframe\">\n  <thead>\n    <tr style=\"text-align: right;\">\n      <th></th>\n      <th>id</th>\n      <th>rate</th>\n      <th>review</th>\n      <th>cargo</th>\n      <th>vigente</th>\n      <th>origen</th>\n      <th>fecha</th>\n      <th>pros</th>\n      <th>contras</th>\n      <th>proyecto</th>\n      <th>empresa</th>\n    </tr>\n  </thead>\n  <tbody>\n    <tr>\n      <th>0</th>\n      <td>1</td>\n      <td>4</td>\n      <td>Buena empresa</td>\n      <td>Promotora autoservicio</td>\n      <td>Actual empleado</td>\n      <td>Sinaloa                                       ...</td>\n      <td>Marzo, 2022</td>\n      <td>Ninguno</td>\n      <td>Ninguno</td>\n      <td>COMEX</td>\n      <td>PPG COMEX</td>\n    </tr>\n    <tr>\n      <th>1</th>\n      <td>2</td>\n      <td>5</td>\n      <td>exelente empresa</td>\n      <td>Analistas de tráfico</td>\n      <td>Antiguo empleado</td>\n      <td>Jalisco                                       ...</td>\n      <td>Enero, 2022</td>\n      <td>Ninguno</td>\n      <td>Ninguno</td>\n      <td>COMEX</td>\n      <td>PPG COMEX</td>\n    </tr>\n    <tr>\n      <th>2</th>\n      <td>3</td>\n      <td>4</td>\n      <td>Una buena empresa con buenas prestaciones</td>\n      <td>Vendedor comisionistas</td>\n      <td>Antiguo empleado</td>\n      <td>Tabasco                                       ...</td>\n      <td>Enero, 2022</td>\n      <td>Ninguno</td>\n      <td>Ninguno</td>\n      <td>COMEX</td>\n      <td>PPG COMEX</td>\n    </tr>\n    <tr>\n      <th>3</th>\n      <td>4</td>\n      <td>5</td>\n      <td>Muy buena empresa</td>\n      <td>Ayudante general</td>\n      <td>Antiguo empleado</td>\n      <td>Estado de México                              ...</td>\n      <td>de, México</td>\n      <td>Ninguno</td>\n      <td>Ninguno</td>\n      <td>COMEX</td>\n      <td>PPG COMEX</td>\n    </tr>\n    <tr>\n      <th>4</th>\n      <td>5</td>\n      <td>4</td>\n      <td>Buena empresa</td>\n      <td>Ayudante general</td>\n      <td>Antiguo empleado</td>\n      <td>Nuevo León                                    ...</td>\n      <td>León, Diciembre</td>\n      <td>Ninguno</td>\n      <td>Ninguno</td>\n      <td>COMEX</td>\n      <td>PPG COMEX</td>\n    </tr>\n    <tr>\n      <th>...</th>\n      <td>...</td>\n      <td>...</td>\n      <td>...</td>\n      <td>...</td>\n      <td>...</td>\n      <td>...</td>\n      <td>...</td>\n      <td>...</td>\n      <td>...</td>\n      <td>...</td>\n      <td>...</td>\n    </tr>\n    <tr>\n      <th>345</th>\n      <td>346</td>\n      <td>4</td>\n      <td>Buena empresa con mucha atención a las necesid...</td>\n      <td>Técnico en producción</td>\n      <td>Antiguo empleado</td>\n      <td>Querétaro                                     ...</td>\n      <td>Septiembre, 2008</td>\n      <td>Ninguno</td>\n      <td>Ninguno</td>\n      <td>COMEX</td>\n      <td>PPG COMEX</td>\n    </tr>\n    <tr>\n      <th>346</th>\n      <td>347</td>\n      <td>4</td>\n      <td>buen lugar de trabajo</td>\n      <td>Promotor programado de ventas</td>\n      <td>Antiguo empleado</td>\n      <td>Guerrero                                      ...</td>\n      <td>Junio, 2008</td>\n      <td>Ninguno</td>\n      <td>Ninguno</td>\n      <td>COMEX</td>\n      <td>PPG COMEX</td>\n    </tr>\n    <tr>\n      <th>347</th>\n      <td>348</td>\n      <td>4</td>\n      <td>Es una empresa de clase internacional con muy ...</td>\n      <td>Técnico de mantenimiento</td>\n      <td>Antiguo empleado</td>\n      <td>Querétaro                                     ...</td>\n      <td>Julio, 2006</td>\n      <td>Ninguno</td>\n      <td>Ninguno</td>\n      <td>COMEX</td>\n      <td>PPG COMEX</td>\n    </tr>\n    <tr>\n      <th>348</th>\n      <td>349</td>\n      <td>4</td>\n      <td>empresa líder en su ramo, gente muy capacitada...</td>\n      <td>working team leader</td>\n      <td>Antiguo empleado</td>\n      <td>Querétaro                                     ...</td>\n      <td>Julio, 2005</td>\n      <td>Ninguno</td>\n      <td>Ninguno</td>\n      <td>COMEX</td>\n      <td>PPG COMEX</td>\n    </tr>\n    <tr>\n      <th>349</th>\n      <td>350</td>\n      <td>4</td>\n      <td>Excelente empresa</td>\n      <td>Technical support</td>\n      <td>Antiguo empleado</td>\n      <td>Guanajuato                                    ...</td>\n      <td>Abril, 2005</td>\n      <td>Ninguno</td>\n      <td>Ninguno</td>\n      <td>COMEX</td>\n      <td>PPG COMEX</td>\n    </tr>\n  </tbody>\n</table>\n<p>350 rows × 11 columns</p>\n</div>",
      "text/plain": "      id rate                                             review  \\\n0      1    4                                      Buena empresa   \n1      2    5                                   exelente empresa   \n2      3    4          Una buena empresa con buenas prestaciones   \n3      4    5                                  Muy buena empresa   \n4      5    4                                      Buena empresa   \n..   ...  ...                                                ...   \n345  346    4  Buena empresa con mucha atención a las necesid...   \n346  347    4                              buen lugar de trabajo   \n347  348    4  Es una empresa de clase internacional con muy ...   \n348  349    4  empresa líder en su ramo, gente muy capacitada...   \n349  350    4                                  Excelente empresa   \n\n                             cargo           vigente  \\\n0           Promotora autoservicio   Actual empleado   \n1             Analistas de tráfico  Antiguo empleado   \n2           Vendedor comisionistas  Antiguo empleado   \n3                 Ayudante general  Antiguo empleado   \n4                 Ayudante general  Antiguo empleado   \n..                             ...               ...   \n345          Técnico en producción  Antiguo empleado   \n346  Promotor programado de ventas  Antiguo empleado   \n347       Técnico de mantenimiento  Antiguo empleado   \n348            working team leader  Antiguo empleado   \n349              Technical support  Antiguo empleado   \n\n                                                origen             fecha  \\\n0    Sinaloa                                       ...       Marzo, 2022   \n1    Jalisco                                       ...       Enero, 2022   \n2    Tabasco                                       ...       Enero, 2022   \n3    Estado de México                              ...        de, México   \n4    Nuevo León                                    ...   León, Diciembre   \n..                                                 ...               ...   \n345  Querétaro                                     ...  Septiembre, 2008   \n346  Guerrero                                      ...       Junio, 2008   \n347  Querétaro                                     ...       Julio, 2006   \n348  Querétaro                                     ...       Julio, 2005   \n349  Guanajuato                                    ...       Abril, 2005   \n\n        pros  contras proyecto    empresa  \n0    Ninguno  Ninguno    COMEX  PPG COMEX  \n1    Ninguno  Ninguno    COMEX  PPG COMEX  \n2    Ninguno  Ninguno    COMEX  PPG COMEX  \n3    Ninguno  Ninguno    COMEX  PPG COMEX  \n4    Ninguno  Ninguno    COMEX  PPG COMEX  \n..       ...      ...      ...        ...  \n345  Ninguno  Ninguno    COMEX  PPG COMEX  \n346  Ninguno  Ninguno    COMEX  PPG COMEX  \n347  Ninguno  Ninguno    COMEX  PPG COMEX  \n348  Ninguno  Ninguno    COMEX  PPG COMEX  \n349  Ninguno  Ninguno    COMEX  PPG COMEX  \n\n[350 rows x 11 columns]"
     },
     "execution_count": 198,
     "metadata": {},
     "output_type": "execute_result"
    }
   ]
  },
  {
   "cell_type": "code",
   "metadata": {
    "cell_id": "00009-bd81810b-304c-4f73-be66-a069273dd012",
    "deepnote_cell_type": "code"
   },
   "source": "export_csv = data.to_csv (\"PPG COMEX.csv\", index = None, header=True , encoding='UTF-8')",
   "execution_count": 10,
   "outputs": []
  },
  {
   "cell_type": "markdown",
   "source": "<a style='text-decoration:none;line-height:16px;display:flex;color:#5B5B62;padding:10px;justify-content:end;' href='https://deepnote.com?utm_source=created-in-deepnote-cell&projectId=430f5b15-af80-48a5-9abd-1d8f1e34a8c2' target=\"_blank\">\n<img alt='Created in deepnote.com' style='display:inline;max-height:16px;margin:0px;margin-right:7.5px;' src='data:image/svg+xml;base64,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' > </img>\nCreated in <span style='font-weight:600;margin-left:4px;'>Deepnote</span></a>",
   "metadata": {
    "tags": [],
    "created_in_deepnote_cell": true,
    "deepnote_cell_type": "markdown"
   }
  }
 ],
 "nbformat": 4,
 "nbformat_minor": 5,
 "metadata": {
  "kernelspec": {
   "display_name": "Python 3",
   "language": "python",
   "name": "python3"
  },
  "language_info": {
   "codemirror_mode": {
    "name": "ipython",
    "version": 3
   },
   "file_extension": ".py",
   "mimetype": "text/x-python",
   "name": "python",
   "nbconvert_exporter": "python",
   "pygments_lexer": "ipython3",
   "version": "3.8.8"
  },
  "deepnote_notebook_id": "3f4d45e7-d1b2-488c-945e-d5667f088328",
  "deepnote": {},
  "deepnote_execution_queue": []
 }
}